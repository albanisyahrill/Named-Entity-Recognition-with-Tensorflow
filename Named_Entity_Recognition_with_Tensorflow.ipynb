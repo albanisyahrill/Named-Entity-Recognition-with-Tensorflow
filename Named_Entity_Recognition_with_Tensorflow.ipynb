{
  "cells": [
    {
      "cell_type": "markdown",
      "source": [
        "# Named Entity Recognition Menggunakan Tensorflow"
      ],
      "metadata": {
        "id": "WqEQMVxD-6ud"
      }
    },
    {
      "cell_type": "markdown",
      "source": [
        "Download package datasets dari library `Hugging Face`"
      ],
      "metadata": {
        "id": "iuQAKPGi8YY4"
      }
    },
    {
      "cell_type": "code",
      "source": [
        "!pip install datasets"
      ],
      "metadata": {
        "colab": {
          "base_uri": "https://localhost:8080/"
        },
        "id": "X-ZjeieAjkMY",
        "outputId": "8c468759-c7a2-49a7-bd6d-cd4fc66b0a8f"
      },
      "execution_count": 1,
      "outputs": [
        {
          "output_type": "stream",
          "name": "stdout",
          "text": [
            "Collecting datasets\n",
            "  Downloading datasets-2.19.1-py3-none-any.whl (542 kB)\n",
            "\u001b[2K     \u001b[90m━━━━━━━━━━━━━━━━━━━━━━━━━━━━━━━━━━━━━━━━\u001b[0m \u001b[32m542.0/542.0 kB\u001b[0m \u001b[31m3.1 MB/s\u001b[0m eta \u001b[36m0:00:00\u001b[0m\n",
            "\u001b[?25hRequirement already satisfied: filelock in /usr/local/lib/python3.10/dist-packages (from datasets) (3.14.0)\n",
            "Requirement already satisfied: numpy>=1.17 in /usr/local/lib/python3.10/dist-packages (from datasets) (1.25.2)\n",
            "Requirement already satisfied: pyarrow>=12.0.0 in /usr/local/lib/python3.10/dist-packages (from datasets) (14.0.2)\n",
            "Requirement already satisfied: pyarrow-hotfix in /usr/local/lib/python3.10/dist-packages (from datasets) (0.6)\n",
            "Collecting dill<0.3.9,>=0.3.0 (from datasets)\n",
            "  Downloading dill-0.3.8-py3-none-any.whl (116 kB)\n",
            "\u001b[2K     \u001b[90m━━━━━━━━━━━━━━━━━━━━━━━━━━━━━━━━━━━━━━━━\u001b[0m \u001b[32m116.3/116.3 kB\u001b[0m \u001b[31m7.6 MB/s\u001b[0m eta \u001b[36m0:00:00\u001b[0m\n",
            "\u001b[?25hRequirement already satisfied: pandas in /usr/local/lib/python3.10/dist-packages (from datasets) (2.0.3)\n",
            "Requirement already satisfied: requests>=2.19.0 in /usr/local/lib/python3.10/dist-packages (from datasets) (2.31.0)\n",
            "Requirement already satisfied: tqdm>=4.62.1 in /usr/local/lib/python3.10/dist-packages (from datasets) (4.66.4)\n",
            "Collecting xxhash (from datasets)\n",
            "  Downloading xxhash-3.4.1-cp310-cp310-manylinux_2_17_x86_64.manylinux2014_x86_64.whl (194 kB)\n",
            "\u001b[2K     \u001b[90m━━━━━━━━━━━━━━━━━━━━━━━━━━━━━━━━━━━━━━━━\u001b[0m \u001b[32m194.1/194.1 kB\u001b[0m \u001b[31m17.2 MB/s\u001b[0m eta \u001b[36m0:00:00\u001b[0m\n",
            "\u001b[?25hCollecting multiprocess (from datasets)\n",
            "  Downloading multiprocess-0.70.16-py310-none-any.whl (134 kB)\n",
            "\u001b[2K     \u001b[90m━━━━━━━━━━━━━━━━━━━━━━━━━━━━━━━━━━━━━━━━\u001b[0m \u001b[32m134.8/134.8 kB\u001b[0m \u001b[31m12.1 MB/s\u001b[0m eta \u001b[36m0:00:00\u001b[0m\n",
            "\u001b[?25hRequirement already satisfied: fsspec[http]<=2024.3.1,>=2023.1.0 in /usr/local/lib/python3.10/dist-packages (from datasets) (2023.6.0)\n",
            "Requirement already satisfied: aiohttp in /usr/local/lib/python3.10/dist-packages (from datasets) (3.9.5)\n",
            "Collecting huggingface-hub>=0.21.2 (from datasets)\n",
            "  Downloading huggingface_hub-0.23.0-py3-none-any.whl (401 kB)\n",
            "\u001b[2K     \u001b[90m━━━━━━━━━━━━━━━━━━━━━━━━━━━━━━━━━━━━━━━━\u001b[0m \u001b[32m401.2/401.2 kB\u001b[0m \u001b[31m18.7 MB/s\u001b[0m eta \u001b[36m0:00:00\u001b[0m\n",
            "\u001b[?25hRequirement already satisfied: packaging in /usr/local/lib/python3.10/dist-packages (from datasets) (24.0)\n",
            "Requirement already satisfied: pyyaml>=5.1 in /usr/local/lib/python3.10/dist-packages (from datasets) (6.0.1)\n",
            "Requirement already satisfied: aiosignal>=1.1.2 in /usr/local/lib/python3.10/dist-packages (from aiohttp->datasets) (1.3.1)\n",
            "Requirement already satisfied: attrs>=17.3.0 in /usr/local/lib/python3.10/dist-packages (from aiohttp->datasets) (23.2.0)\n",
            "Requirement already satisfied: frozenlist>=1.1.1 in /usr/local/lib/python3.10/dist-packages (from aiohttp->datasets) (1.4.1)\n",
            "Requirement already satisfied: multidict<7.0,>=4.5 in /usr/local/lib/python3.10/dist-packages (from aiohttp->datasets) (6.0.5)\n",
            "Requirement already satisfied: yarl<2.0,>=1.0 in /usr/local/lib/python3.10/dist-packages (from aiohttp->datasets) (1.9.4)\n",
            "Requirement already satisfied: async-timeout<5.0,>=4.0 in /usr/local/lib/python3.10/dist-packages (from aiohttp->datasets) (4.0.3)\n",
            "Requirement already satisfied: typing-extensions>=3.7.4.3 in /usr/local/lib/python3.10/dist-packages (from huggingface-hub>=0.21.2->datasets) (4.11.0)\n",
            "Requirement already satisfied: charset-normalizer<4,>=2 in /usr/local/lib/python3.10/dist-packages (from requests>=2.19.0->datasets) (3.3.2)\n",
            "Requirement already satisfied: idna<4,>=2.5 in /usr/local/lib/python3.10/dist-packages (from requests>=2.19.0->datasets) (3.7)\n",
            "Requirement already satisfied: urllib3<3,>=1.21.1 in /usr/local/lib/python3.10/dist-packages (from requests>=2.19.0->datasets) (2.0.7)\n",
            "Requirement already satisfied: certifi>=2017.4.17 in /usr/local/lib/python3.10/dist-packages (from requests>=2.19.0->datasets) (2024.2.2)\n",
            "Requirement already satisfied: python-dateutil>=2.8.2 in /usr/local/lib/python3.10/dist-packages (from pandas->datasets) (2.8.2)\n",
            "Requirement already satisfied: pytz>=2020.1 in /usr/local/lib/python3.10/dist-packages (from pandas->datasets) (2023.4)\n",
            "Requirement already satisfied: tzdata>=2022.1 in /usr/local/lib/python3.10/dist-packages (from pandas->datasets) (2024.1)\n",
            "Requirement already satisfied: six>=1.5 in /usr/local/lib/python3.10/dist-packages (from python-dateutil>=2.8.2->pandas->datasets) (1.16.0)\n",
            "Installing collected packages: xxhash, dill, multiprocess, huggingface-hub, datasets\n",
            "  Attempting uninstall: huggingface-hub\n",
            "    Found existing installation: huggingface-hub 0.20.3\n",
            "    Uninstalling huggingface-hub-0.20.3:\n",
            "      Successfully uninstalled huggingface-hub-0.20.3\n",
            "Successfully installed datasets-2.19.1 dill-0.3.8 huggingface-hub-0.23.0 multiprocess-0.70.16 xxhash-3.4.1\n"
          ]
        }
      ]
    },
    {
      "cell_type": "markdown",
      "source": [
        "Import library yang dibutuhkan"
      ],
      "metadata": {
        "id": "6PoGEsY1-cNx"
      }
    },
    {
      "cell_type": "code",
      "execution_count": 2,
      "metadata": {
        "id": "H0zEEs-asXYg"
      },
      "outputs": [],
      "source": [
        "import tensorflow as tf\n",
        "from tensorflow.keras.layers import TextVectorization, Embedding, Bidirectional, LSTM, Dense\n",
        "from tensorflow.keras.utils import get_custom_objects\n",
        "import numpy as np\n",
        "from datasets import load_dataset\n",
        "import matplotlib.pyplot as plt"
      ]
    },
    {
      "cell_type": "markdown",
      "source": [
        "## Load Dataset"
      ],
      "metadata": {
        "id": "CBOKLwpEjdkm"
      }
    },
    {
      "cell_type": "markdown",
      "source": [
        "Load dataset `conll2003` yang biasa dipakai untuk pembuatan model `Named Entity Recognition` dari `Hugging Face`"
      ],
      "metadata": {
        "id": "hV9YaUdy-ig3"
      }
    },
    {
      "cell_type": "code",
      "execution_count": 3,
      "metadata": {
        "colab": {
          "base_uri": "https://localhost:8080/",
          "height": 340,
          "referenced_widgets": [
            "e0f3f292098d4ddcb149b817146ed1e0",
            "a2752b92522e411ba42c0027f34c8dbd",
            "dfc8e8df0c2148d9ac8e7cc4ca2eb956",
            "c8afe2a9685a4e3da996911f9e0bd1d1",
            "312b79027d624941b4b99f1086ec2b8b",
            "7e540ccde2f64ba789a7e30a8efff6d8",
            "6476c4aad66846998d9ba2c67d2c1701",
            "3abca31e7b7242168677b0bfd48574f4",
            "540db657b2ea41fd9b8141adbf45fcc1",
            "10e53d27eb034c8d9d8d4f201fcf9b81",
            "d4d6aa7566ef43b8bda0e69cba851a54",
            "f75306ff8e5741dbb1803a72dab63606",
            "0ac9054d2f9044579237230675eb0db8",
            "8cb196d41a9c4c2898ed68c2e3bcd727",
            "f309e19a327646fe88ab0134a5e3f65e",
            "6a26581e2e154705adfdb2047d4b168b",
            "8e486d07fd3f4e3f8e46427269a2eb4a",
            "b432c430fb6d4164ae80d1ba48b8e462",
            "4c61ced4b65d47c992ef25a6c9ae5bfe",
            "47e96aca13f14be6afd7f432123329a7",
            "47e8c98354b84a9e8dbd7717b4bde7e0",
            "4266bad74870422b9b97ff4adc04bc0b",
            "79af4a1fbac5474881bf9fa16e2b6807",
            "48af7b70b93b4f899b3b702763cf1fc9",
            "069f3184eea24b8e83eb0fa986df2b22",
            "581efd8889f242a9891178f9b2d72096",
            "f119d70a6f7d44e0897d42962e579fed",
            "e3b3a099ccf44d8fad95283fac85afb6",
            "c5fc8f883c2047e88a630151d1b06e7a",
            "9c3a9adbc8f14456a9f54cdbaaa0023c",
            "58584b724bd147a88890fa2a7909e4fe",
            "534993adbde14594bfef20a326bc9825",
            "99fc53a80bb844c99e24bca17c1e441b",
            "5e8a55c990b54afcb2df29f78a5f4ef0",
            "9feb402f66c34bfbb328586cb2373d0b",
            "60d4887d04594684890079c2b36b6909",
            "a6fb01a98cf641ff8983131afd3d0e34",
            "e37b2a7086984fa19ac6304dc009adb4",
            "da8ff755ad374b6686d1ec4236fd0423",
            "e74347a16179495396da660b7dbf3ee2",
            "986bb16759f04bd09d2a854b6306ab75",
            "076bd979283f48bd8ecb0bc90747c520",
            "2c4e650f280447b3bf2df0aa2787a327",
            "c598f4221f0240e5b659eb0f549e6135",
            "0f5bce5f0c6349a4a4106f8e352fa7e6",
            "25d344f9881e4f6aa29d33436093788c",
            "fdb888a5a93d4d5686bbf538b7b8d7bc",
            "2a06c54898bb4e049a80fbc24279fda0",
            "a5ed4228efdf4da19732db783352157c",
            "02daf0967776455486f78d8c66d3a358",
            "7b313b00f77641eab1ce71bcbd5abf49",
            "7336a70b1def49f2a35fb9e7aefeeb1d",
            "ab4b64be7e6a4a76b255783c0f87f7aa",
            "e5ec2ed488dd4023b8ac9adbebcd1d8f",
            "c33e04f88439463c91a2a3a62bc9ff38",
            "dbf9a296b1ff48df857097fdef13308a",
            "290440d29d654307bfc622680aea3da9",
            "1bf7fb960f764d15be31a7bbfbf89ff9",
            "4be35b3df66a466db8dd1ff71648a92d",
            "84c04f521ac241639fb18efa90cc8089",
            "cc304202477e4900b5fc430d1e353e14",
            "f5885e5c666042cb9dc00f76ace8c894",
            "8355b3e9763d41e48a170e35f5b89632",
            "0b587dc4a2ef4b149dc03ede42fff2a8",
            "8db46544f7964754bf4a4bb9d60b7683",
            "2821898836d9400fa2b72ed941879f01"
          ]
        },
        "id": "3OpLqCuzsbDH",
        "outputId": "9f10a16c-e7c6-4cbf-a8cb-40bd7321afc2"
      },
      "outputs": [
        {
          "output_type": "stream",
          "name": "stderr",
          "text": [
            "/usr/local/lib/python3.10/dist-packages/huggingface_hub/utils/_token.py:89: UserWarning: \n",
            "The secret `HF_TOKEN` does not exist in your Colab secrets.\n",
            "To authenticate with the Hugging Face Hub, create a token in your settings tab (https://huggingface.co/settings/tokens), set it as secret in your Google Colab and restart your session.\n",
            "You will be able to reuse this secret in all of your notebooks.\n",
            "Please note that authentication is recommended but still optional to access public models or datasets.\n",
            "  warnings.warn(\n"
          ]
        },
        {
          "output_type": "display_data",
          "data": {
            "text/plain": [
              "Downloading data:   0%|          | 0.00/1.23M [00:00<?, ?B/s]"
            ],
            "application/vnd.jupyter.widget-view+json": {
              "version_major": 2,
              "version_minor": 0,
              "model_id": "e0f3f292098d4ddcb149b817146ed1e0"
            }
          },
          "metadata": {}
        },
        {
          "output_type": "display_data",
          "data": {
            "text/plain": [
              "Downloading data:   0%|          | 0.00/312k [00:00<?, ?B/s]"
            ],
            "application/vnd.jupyter.widget-view+json": {
              "version_major": 2,
              "version_minor": 0,
              "model_id": "f75306ff8e5741dbb1803a72dab63606"
            }
          },
          "metadata": {}
        },
        {
          "output_type": "display_data",
          "data": {
            "text/plain": [
              "Downloading data:   0%|          | 0.00/283k [00:00<?, ?B/s]"
            ],
            "application/vnd.jupyter.widget-view+json": {
              "version_major": 2,
              "version_minor": 0,
              "model_id": "79af4a1fbac5474881bf9fa16e2b6807"
            }
          },
          "metadata": {}
        },
        {
          "output_type": "display_data",
          "data": {
            "text/plain": [
              "Generating train split:   0%|          | 0/14041 [00:00<?, ? examples/s]"
            ],
            "application/vnd.jupyter.widget-view+json": {
              "version_major": 2,
              "version_minor": 0,
              "model_id": "5e8a55c990b54afcb2df29f78a5f4ef0"
            }
          },
          "metadata": {}
        },
        {
          "output_type": "display_data",
          "data": {
            "text/plain": [
              "Generating validation split:   0%|          | 0/3250 [00:00<?, ? examples/s]"
            ],
            "application/vnd.jupyter.widget-view+json": {
              "version_major": 2,
              "version_minor": 0,
              "model_id": "0f5bce5f0c6349a4a4106f8e352fa7e6"
            }
          },
          "metadata": {}
        },
        {
          "output_type": "display_data",
          "data": {
            "text/plain": [
              "Generating test split:   0%|          | 0/3453 [00:00<?, ? examples/s]"
            ],
            "application/vnd.jupyter.widget-view+json": {
              "version_major": 2,
              "version_minor": 0,
              "model_id": "dbf9a296b1ff48df857097fdef13308a"
            }
          },
          "metadata": {}
        }
      ],
      "source": [
        "dataset = load_dataset(\"conll2003\")"
      ]
    },
    {
      "cell_type": "code",
      "source": [
        "print(dataset)"
      ],
      "metadata": {
        "colab": {
          "base_uri": "https://localhost:8080/"
        },
        "id": "k6qCPXVkj3F6",
        "outputId": "e9fecbfb-5252-431c-819a-376c2a4d0a39"
      },
      "execution_count": 4,
      "outputs": [
        {
          "output_type": "stream",
          "name": "stdout",
          "text": [
            "DatasetDict({\n",
            "    train: Dataset({\n",
            "        features: ['id', 'tokens', 'pos_tags', 'chunk_tags', 'ner_tags'],\n",
            "        num_rows: 14041\n",
            "    })\n",
            "    validation: Dataset({\n",
            "        features: ['id', 'tokens', 'pos_tags', 'chunk_tags', 'ner_tags'],\n",
            "        num_rows: 3250\n",
            "    })\n",
            "    test: Dataset({\n",
            "        features: ['id', 'tokens', 'pos_tags', 'chunk_tags', 'ner_tags'],\n",
            "        num_rows: 3453\n",
            "    })\n",
            "})\n"
          ]
        }
      ]
    },
    {
      "cell_type": "markdown",
      "source": [
        "Mengelompokkan dataset menjadi Train, Validation dan Test"
      ],
      "metadata": {
        "id": "iq0PtYBE-4PK"
      }
    },
    {
      "cell_type": "code",
      "execution_count": 5,
      "metadata": {
        "id": "BGAc5RPUvP2v"
      },
      "outputs": [],
      "source": [
        "train_data = dataset['train']\n",
        "val_data = dataset['validation']\n",
        "test_data = dataset['test']"
      ]
    },
    {
      "cell_type": "markdown",
      "source": [
        "Parsing dataset Train menjadi `train_sentences` dan `train_labels`"
      ],
      "metadata": {
        "id": "tctkDzG0_SlG"
      }
    },
    {
      "cell_type": "code",
      "execution_count": 6,
      "metadata": {
        "id": "HZAtcU2T2RB9"
      },
      "outputs": [],
      "source": [
        "train_sentences = [example['tokens'] for example in train_data]\n",
        "train_labels = [np.array(example['ner_tags']) for example in train_data]"
      ]
    },
    {
      "cell_type": "code",
      "execution_count": 7,
      "metadata": {
        "colab": {
          "base_uri": "https://localhost:8080/"
        },
        "id": "iDfWhuGF40xj",
        "outputId": "34821685-5025-49cd-acd1-cdb26c4c1e7b"
      },
      "outputs": [
        {
          "output_type": "stream",
          "name": "stdout",
          "text": [
            "Sentences: ['EU', 'rejects', 'German', 'call', 'to', 'boycott', 'British', 'lamb', '.']\n",
            "Labels: [3 0 7 0 0 0 7 0 0]\n",
            "\n",
            "Label information: {'O': 0, 'B-PER': 1, 'I-PER': 2, 'B-ORG': 3, 'I-ORG': 4, 'B-LOC': 5, 'I-LOC': 6, 'B-MISC': 7, 'I-MISC': 8}\n"
          ]
        }
      ],
      "source": [
        "tag_maps = {'O': 0, 'B-PER': 1, 'I-PER': 2, 'B-ORG': 3, 'I-ORG': 4, 'B-LOC': 5, 'I-LOC': 6, 'B-MISC': 7, 'I-MISC': 8}\n",
        "\n",
        "print(f'Sentences: {train_sentences[0]}')\n",
        "print(f'Labels: {train_labels[0]}\\n')\n",
        "print(f'Label information: {tag_maps}')"
      ]
    },
    {
      "cell_type": "markdown",
      "source": [
        "## Pre-processed Text"
      ],
      "metadata": {
        "id": "UQQfaSN3ji0J"
      }
    },
    {
      "cell_type": "markdown",
      "source": [
        "Membuat function `parsing_nested_list_to_list` untuk memparsing nested list menjadi list biasa, dan diubah formatnya menjadi numpy array. Function ini dibuat supaya bisa feed dataset kedalam layers `TextVectorization`"
      ],
      "metadata": {
        "id": "PBUxjJUM_30m"
      }
    },
    {
      "cell_type": "code",
      "source": [
        "def parsing_nested_list_to_list(sentences):\n",
        "  # Inisialisasi list kosong untuk menyimpan hasil pengolahan teks\n",
        "  text_seq = []\n",
        "\n",
        "  for sentence in sentences:\n",
        "    # Menggabungkan setiap kata dalam kalimat menjadi satu string menggunakan ' '.join()\n",
        "    text = ' '.join(sentence)\n",
        "    # Menambahkan kalimat yang telah diproses ke dalam list text_seq\n",
        "    text_seq.append(text)\n",
        "\n",
        "  # Mereturn list text_seq yang telah dikonversi menjadi numpy array\n",
        "  return np.array(text_seq)"
      ],
      "metadata": {
        "id": "ShRe7SjliNa4"
      },
      "execution_count": 8,
      "outputs": []
    },
    {
      "cell_type": "code",
      "source": [
        "train_sentences = parsing_nested_list_to_list(train_sentences)"
      ],
      "metadata": {
        "id": "KPGGzBsnik2-"
      },
      "execution_count": 9,
      "outputs": []
    },
    {
      "cell_type": "code",
      "source": [
        "print(f'Sentences: {train_sentences[0]}')\n",
        "print(f'Data type: {type(train_sentences)}')"
      ],
      "metadata": {
        "colab": {
          "base_uri": "https://localhost:8080/"
        },
        "id": "o1ceYzOQz8e3",
        "outputId": "5d2d04ac-1cde-43b5-c61b-2c75bc50b656"
      },
      "execution_count": 10,
      "outputs": [
        {
          "output_type": "stream",
          "name": "stdout",
          "text": [
            "Sentences: EU rejects German call to boycott British lamb .\n",
            "Data type: <class 'numpy.ndarray'>\n"
          ]
        }
      ]
    },
    {
      "cell_type": "markdown",
      "source": [
        "Membuat function `get_sentence_vectorizer` yang memfeed dataset kedalam layers `TextVectorization`. Layers`TextVectorization` ini menghanlde tokenisasi dan vektorisasi dalam satu langkah agar mudah diintegrasikan kedalam arsitektur model."
      ],
      "metadata": {
        "id": "nII2gTKbBdot"
      }
    },
    {
      "cell_type": "code",
      "execution_count": 11,
      "metadata": {
        "id": "9f2ff5SA1DxI"
      },
      "outputs": [],
      "source": [
        "def get_sentence_vectorizer(sentences):\n",
        "  # Inisialisasi layers TextVectorization untuk vektorisasi kalimat\n",
        "  sentence_vectorizer = TextVectorization(standardize = None)\n",
        "  # Melatih vectorizer menggunakan data kalimat yang diberikan\n",
        "  sentence_vectorizer.adapt(sentences)\n",
        "  # Mendapatkan daftar kosakata dari vectorizer\n",
        "  vocab = sentence_vectorizer.get_vocabulary()\n",
        "\n",
        "  return sentence_vectorizer, vocab"
      ]
    },
    {
      "cell_type": "code",
      "execution_count": 12,
      "metadata": {
        "id": "OEHNME744rwe"
      },
      "outputs": [],
      "source": [
        "sentence_vectorizer, vocab = get_sentence_vectorizer(train_sentences)"
      ]
    },
    {
      "cell_type": "code",
      "execution_count": 13,
      "metadata": {
        "id": "oYQHysN6u_s4",
        "colab": {
          "base_uri": "https://localhost:8080/"
        },
        "outputId": "e3fc75fc-f47b-4f80-cd64-89d64f03303c"
      },
      "outputs": [
        {
          "output_type": "stream",
          "name": "stdout",
          "text": [
            "Example sentences: French is always be my favourite place to go\n",
            "Vectorized Sentence: [ 302   29 1192   40  445 6743  443    7  339]\n"
          ]
        }
      ],
      "source": [
        "sentence = 'French is always be my favourite place to go'\n",
        "\n",
        "sentence_vectorized = sentence_vectorizer(sentence)\n",
        "print(f'Example sentences: {sentence}')\n",
        "print(f'Vectorized Sentence: {sentence_vectorized.numpy()}')"
      ]
    },
    {
      "cell_type": "markdown",
      "source": [
        "Membuat function `padded_labels` untuk memberikan padding berdasarkan kalimat terpanjang agar memiliki panjang kalimat yang konsisten dan dapat difeed ke model saat proses training"
      ],
      "metadata": {
        "id": "iHtrKHHYDxao"
      }
    },
    {
      "cell_type": "code",
      "source": [
        "def padded_labels(labels):\n",
        "  # Menggunakan fungsi pad_sequences dari TensorFlow Keras untuk menyamakan panjang label/kalimat.\n",
        "  # Parameter padding='post' digunakan untuk memastikan padding dilakukan setelah sequence.\n",
        "  # Parameter value=-1 digunakan untuk menentukan nilai yang digunakan untuk padding.\n",
        "  labels_ids = tf.keras.utils.pad_sequences(labels, padding='post', value=-1)\n",
        "\n",
        "  return labels_ids"
      ],
      "metadata": {
        "id": "_8VHQ6wEgkpW"
      },
      "execution_count": 14,
      "outputs": []
    },
    {
      "cell_type": "code",
      "source": [
        "train_labels = padded_labels(train_labels)"
      ],
      "metadata": {
        "id": "Ss7W0R2Wh8-5"
      },
      "execution_count": 15,
      "outputs": []
    },
    {
      "cell_type": "code",
      "source": [
        "print(f'Labels after padded: {train_labels[0]}')"
      ],
      "metadata": {
        "colab": {
          "base_uri": "https://localhost:8080/"
        },
        "id": "dLnFMSOuoIb_",
        "outputId": "f344466a-0a6e-4ee3-e1de-e10dfd6908f0"
      },
      "execution_count": 16,
      "outputs": [
        {
          "output_type": "stream",
          "name": "stdout",
          "text": [
            "Labels after padded: [ 3  0  7  0  0  0  7  0  0 -1 -1 -1 -1 -1 -1 -1 -1 -1 -1 -1 -1 -1 -1 -1\n",
            " -1 -1 -1 -1 -1 -1 -1 -1 -1 -1 -1 -1 -1 -1 -1 -1 -1 -1 -1 -1 -1 -1 -1 -1\n",
            " -1 -1 -1 -1 -1 -1 -1 -1 -1 -1 -1 -1 -1 -1 -1 -1 -1 -1 -1 -1 -1 -1 -1 -1\n",
            " -1 -1 -1 -1 -1 -1 -1 -1 -1 -1 -1 -1 -1 -1 -1 -1 -1 -1 -1 -1 -1 -1 -1 -1\n",
            " -1 -1 -1 -1 -1 -1 -1 -1 -1 -1 -1 -1 -1 -1 -1 -1 -1]\n"
          ]
        }
      ]
    },
    {
      "cell_type": "markdown",
      "source": [
        "Parsing dataset Validation menjadi `val_sentences` dan `val_labels` dan dataset Test menjadi `test_sentences` dan `test_labels`"
      ],
      "metadata": {
        "id": "qn5Oqx2TFamZ"
      }
    },
    {
      "cell_type": "code",
      "source": [
        "val_sentences = [example['tokens'] for example in val_data]\n",
        "val_labels = [np.array(example['ner_tags']) for example in val_data]\n",
        "test_sentences = [example['tokens'] for example in test_data]\n",
        "test_labels = [np.array(example['ner_tags']) for example in test_data]"
      ],
      "metadata": {
        "id": "6PWwhBvEXGCh"
      },
      "execution_count": 17,
      "outputs": []
    },
    {
      "cell_type": "code",
      "source": [
        "val_sentences = parsing_nested_list_to_list(val_sentences)\n",
        "val_labels = padded_labels(val_labels)\n",
        "test_sentences = parsing_nested_list_to_list(test_sentences)\n",
        "test_labels = padded_labels(test_labels)"
      ],
      "metadata": {
        "id": "MCjUrdWLXLos"
      },
      "execution_count": 18,
      "outputs": []
    },
    {
      "cell_type": "markdown",
      "source": [
        "Membuat function `generate_dataset` yang berfungsi untuk menjadi kan `sentences` dan `labels` menjadi satu kesatuan dataset"
      ],
      "metadata": {
        "id": "fvYW1DYaGKV2"
      }
    },
    {
      "cell_type": "code",
      "source": [
        "def generate_dataset(sentences, labels, sentence_vectorizer):\n",
        "  # Menggunakan sentence_vectorizer untuk mengonversi kalimat yang dipass\n",
        "  sentence_ids = sentence_vectorizer(sentences)\n",
        "  # Membuat dataset TensorFlow dari tensor yang diberikan\n",
        "  datasets = tf.data.Dataset.from_tensor_slices((sentence_ids, labels))\n",
        "\n",
        "  return datasets"
      ],
      "metadata": {
        "id": "FfxhRyFfY9bV"
      },
      "execution_count": 19,
      "outputs": []
    },
    {
      "cell_type": "code",
      "source": [
        "train_datasets = generate_dataset(train_sentences, train_labels, sentence_vectorizer)\n",
        "val_datasets = generate_dataset(val_sentences, val_labels, sentence_vectorizer)\n",
        "test_datasets = generate_dataset(test_sentences, test_labels, sentence_vectorizer)"
      ],
      "metadata": {
        "id": "qycwVqjVZb68"
      },
      "execution_count": 20,
      "outputs": []
    },
    {
      "cell_type": "code",
      "source": [
        "print(f'Number of labels/outputs: {len(tag_maps)}')\n",
        "print(f\"Total vocabulary words in the training set: {len(vocab)}\")\n",
        "print(f'The training size: {len(train_datasets)}')\n",
        "print(f'The validation size is: {len(val_datasets)}')\n",
        "print('An example of the first sentence is\\n\\t', next(iter(train_datasets))[0].numpy())\n",
        "print('An example of its corresponding label is\\n\\t', next(iter(train_datasets))[1].numpy())"
      ],
      "metadata": {
        "colab": {
          "base_uri": "https://localhost:8080/"
        },
        "id": "zRu14M-LZsOF",
        "outputId": "832bf4fa-d8d4-41c2-f8d8-7bcd5f00e078"
      },
      "execution_count": 21,
      "outputs": [
        {
          "output_type": "stream",
          "name": "stdout",
          "text": [
            "Number of labels/outputs: 9\n",
            "Total vocabulary words in the training set: 23625\n",
            "The training size: 14041\n",
            "The validation size is: 3250\n",
            "An example of the first sentence is\n",
            "\t [  994 13201   237   780     7  4476   212  6626     2     0     0     0\n",
            "     0     0     0     0     0     0     0     0     0     0     0     0\n",
            "     0     0     0     0     0     0     0     0     0     0     0     0\n",
            "     0     0     0     0     0     0     0     0     0     0     0     0\n",
            "     0     0     0     0     0     0     0     0     0     0     0     0\n",
            "     0     0     0     0     0     0     0     0     0     0     0     0\n",
            "     0     0     0     0     0     0     0     0     0     0     0     0\n",
            "     0     0     0     0     0     0     0     0     0     0     0     0\n",
            "     0     0     0     0     0     0     0     0     0     0     0     0\n",
            "     0     0     0     0     0]\n",
            "An example of its corresponding label is\n",
            "\t [ 3  0  7  0  0  0  7  0  0 -1 -1 -1 -1 -1 -1 -1 -1 -1 -1 -1 -1 -1 -1 -1\n",
            " -1 -1 -1 -1 -1 -1 -1 -1 -1 -1 -1 -1 -1 -1 -1 -1 -1 -1 -1 -1 -1 -1 -1 -1\n",
            " -1 -1 -1 -1 -1 -1 -1 -1 -1 -1 -1 -1 -1 -1 -1 -1 -1 -1 -1 -1 -1 -1 -1 -1\n",
            " -1 -1 -1 -1 -1 -1 -1 -1 -1 -1 -1 -1 -1 -1 -1 -1 -1 -1 -1 -1 -1 -1 -1 -1\n",
            " -1 -1 -1 -1 -1 -1 -1 -1 -1 -1 -1 -1 -1 -1 -1 -1 -1]\n"
          ]
        }
      ]
    },
    {
      "cell_type": "markdown",
      "source": [
        "## Build and Train Model"
      ],
      "metadata": {
        "id": "bRBIUVEujub_"
      }
    },
    {
      "cell_type": "markdown",
      "source": [
        "Membuat function `log_softmax` yang menghitung logaritma dari softmax, dibuat function seperti ini tanpa assign `tf.nn.log_softmax` ke model nya langsung, karena agar load model berhasil tanpa adanya permasalahan desentralisasi model"
      ],
      "metadata": {
        "id": "f75FBQWRuCvq"
      }
    },
    {
      "cell_type": "code",
      "source": [
        "def log_softmax(x):\n",
        "    return tf.nn.log_softmax(x)"
      ],
      "metadata": {
        "id": "vQNcZUJEptdC"
      },
      "execution_count": 22,
      "outputs": []
    },
    {
      "cell_type": "markdown",
      "source": [
        "Mendaftarkan atau mengenali fungsi aktivasi yang telah didefinisikan"
      ],
      "metadata": {
        "id": "4fFSayQknM44"
      }
    },
    {
      "cell_type": "code",
      "source": [
        "get_custom_objects().update({'log_softmax': log_softmax})"
      ],
      "metadata": {
        "id": "n87mCCbLl_jq"
      },
      "execution_count": 23,
      "outputs": []
    },
    {
      "cell_type": "markdown",
      "source": [
        "Membuat function `create_model` untuk membuat arsitektur model yang akan digunakan untuk proses training"
      ],
      "metadata": {
        "id": "2wdbOw2BG8sD"
      }
    },
    {
      "cell_type": "code",
      "source": [
        "def create_model(len_tags, vocab_size, embedding_dim=50):\n",
        "  # Membuat model sequential\n",
        "  model = tf.keras.Sequential()\n",
        "  # Menambahkan layer embedding untuk mengkonversi token menjadi vektor embedding, mask_zero=True artinya nilai 0 akan diabaikan\n",
        "  # Kita perlu menambahkan 1 di input_dim, karena sekarang Tensorflow akan mempertimbangkan bahwa satu nilai tambahan 0 mungkin muncul di setiap kalimat.\n",
        "  model.add(Embedding(input_dim=vocab_size+1, output_dim=embedding_dim, mask_zero=True))\n",
        "  # Menambahkan layer LSTM dua arah dengan 64 unit, menghasilkan output untuk setiap timestep dalam urutan\n",
        "  model.add(Bidirectional(LSTM(32, return_sequences=True)))\n",
        "  # Menambahkan layer Dense untuk melakukan klasifikasi, dengan jumlah unit sama dengan jumlah tag, menggunakan fungsi aktivasi log_softmax\n",
        "  model.add(Dense(len_tags, activation='log_softmax'))\n",
        "\n",
        "  return model"
      ],
      "metadata": {
        "id": "gwKRRMJvGV8f"
      },
      "execution_count": 24,
      "outputs": []
    },
    {
      "cell_type": "code",
      "source": [
        "model = create_model(len(tag_maps), len(vocab))"
      ],
      "metadata": {
        "id": "x0X-aU86Rbr9"
      },
      "execution_count": 25,
      "outputs": []
    },
    {
      "cell_type": "markdown",
      "source": [
        "Melihat ringkasan arsitektur model"
      ],
      "metadata": {
        "id": "nZeljEuONBXc"
      }
    },
    {
      "cell_type": "code",
      "source": [
        "model.summary()"
      ],
      "metadata": {
        "colab": {
          "base_uri": "https://localhost:8080/"
        },
        "id": "SB9mq9d5TbeE",
        "outputId": "ec557652-5f54-4120-8c27-2b5fdd46c7c2"
      },
      "execution_count": 26,
      "outputs": [
        {
          "output_type": "stream",
          "name": "stdout",
          "text": [
            "Model: \"sequential\"\n",
            "_________________________________________________________________\n",
            " Layer (type)                Output Shape              Param #   \n",
            "=================================================================\n",
            " embedding (Embedding)       (None, None, 50)          1181300   \n",
            "                                                                 \n",
            " bidirectional (Bidirection  (None, None, 64)          21248     \n",
            " al)                                                             \n",
            "                                                                 \n",
            " dense (Dense)               (None, None, 9)           585       \n",
            "                                                                 \n",
            "=================================================================\n",
            "Total params: 1203133 (4.59 MB)\n",
            "Trainable params: 1203133 (4.59 MB)\n",
            "Non-trainable params: 0 (0.00 Byte)\n",
            "_________________________________________________________________\n"
          ]
        }
      ]
    },
    {
      "cell_type": "markdown",
      "source": [
        "Membuat function `masked_loss` yang merupakan implementasi dari perhitungan loss `SparseCategoricalCrossentropy` untuk klasifikasi multikelas yang juga memperhitungkan mask atau pengabaian untuk padding/kelas tertentu. Ini memungkinkan untuk mengontrol bagaimana loss dihitung"
      ],
      "metadata": {
        "id": "ZUX9Y8N3NVUl"
      }
    },
    {
      "cell_type": "code",
      "source": [
        "def masked_loss(y_true, y_pred):\n",
        "  # Mendefinisikan fungsi kerugian dengan SparseCategoricalCrossentropy\n",
        "  # Parameter from_logits=True menunjukkan pada loss function bahwa nilai output yang dihasilkan oleh model tidak dinormalisasi, alias logit.\n",
        "  # Dengan kata lain, fungsi softmax belum diterapkan pada mereka untuk menghasilkan distribusi probabilitas.\n",
        "  # Oleh karena itu, lapisan output dalam kasus ini tidak memiliki fungsi aktivasi softmax:\n",
        "  # ignore_class=-1 mengabaikan kelas dengan nilai -1 saat menghitung kerugian\n",
        "  loss_fn = tf.keras.losses.SparseCategoricalCrossentropy(from_logits=True, ignore_class=-1)\n",
        "\n",
        "  # Menghitung kerugian menggunakan fungsi kerugian yang telah didefinisikan\n",
        "  loss = loss_fn(y_true, y_pred)\n",
        "\n",
        "  return loss"
      ],
      "metadata": {
        "id": "G_ulyn5WiUGM"
      },
      "execution_count": 27,
      "outputs": []
    },
    {
      "cell_type": "markdown",
      "source": [
        "Membuat function `masked_accuracy` yang menghasilkan nilai akurasi yang memperhitungkan hanya prediksi yang relevan dengan label yang tidak di-mask (-1 diabaikan). Ini berguna ketika ada label yang harus diabaikan dalam perhitungan akurasi, seperti dalam kasus pemrosesan teks dengan token khusus yang perlu diabaikan."
      ],
      "metadata": {
        "id": "x0Lh44jVPBPW"
      }
    },
    {
      "cell_type": "code",
      "source": [
        "def masked_accuracy(y_true, y_pred):\n",
        "  # Mengonversi tensor label sebenarnya ke tipe data float32\n",
        "  y_true = tf.cast(y_true, tf.float32)\n",
        "\n",
        "  # Membuat masker untuk nilai yang akan diabaikan yaitu -1 dan mengonversi ke tipe data float32\n",
        "  mask = tf.not_equal(y_true, -1)\n",
        "  mask = tf.cast(mask, tf.float32)\n",
        "\n",
        "  # Menerapkan argmax untuk mendapatkan nilai prediksi, dan mengonversi ke tipe data float32\n",
        "  y_pred_class = tf.math.argmax(y_pred, axis=-1)\n",
        "  y_pred_class = tf.cast(y_pred_class, tf.float32)\n",
        "\n",
        "  # Membandingkan label sebenarnya dengan kelas prediksi, dan mengonversi ke tipe data float32\n",
        "  matches_true_pred  = tf.equal(y_true, y_pred_class)\n",
        "  matches_true_pred = tf.cast(matches_true_pred, tf.float32)\n",
        "\n",
        "  # Mengalikan hasil perbandingan dengan masker, sehingga hanya menghitung akurasi untuk label yang tidak di-mask\n",
        "  matches_true_pred *= mask\n",
        "\n",
        "  # Menghitung akurasi dengan jumlah prediksi yang benar dibagi dengan jumlah label yang tidak di-mask\n",
        "  masked_acc = tf.reduce_sum(matches_true_pred) / tf.reduce_sum(mask)\n",
        "\n",
        "  return masked_acc"
      ],
      "metadata": {
        "id": "sVBfb_chlqUl"
      },
      "execution_count": 28,
      "outputs": []
    },
    {
      "cell_type": "markdown",
      "source": [
        "Menentukan compiler model untuk training"
      ],
      "metadata": {
        "id": "MQEzwfO5PX8V"
      }
    },
    {
      "cell_type": "code",
      "source": [
        "model.compile(optimizer=tf.keras.optimizers.Adam(0.01),\n",
        "              loss=masked_loss,\n",
        "              metrics=[masked_accuracy])"
      ],
      "metadata": {
        "id": "VXJZnl3GT2wt"
      },
      "execution_count": 29,
      "outputs": []
    },
    {
      "cell_type": "markdown",
      "source": [
        "Membuat callback yang akan otomatis menyimpan model dengan`val_loss` dengan weights paling rendah"
      ],
      "metadata": {
        "id": "60lSBuBmwo9X"
      }
    },
    {
      "cell_type": "code",
      "source": [
        "early_stopping = tf.keras.callbacks.EarlyStopping(monitor='val_loss', patience=3, restore_best_weights=True)"
      ],
      "metadata": {
        "id": "r7O3NiO3wkgK"
      },
      "execution_count": 30,
      "outputs": []
    },
    {
      "cell_type": "markdown",
      "source": [
        "Training model"
      ],
      "metadata": {
        "id": "85pILy7QPbBE"
      }
    },
    {
      "cell_type": "code",
      "source": [
        "BATCH_SIZE = 64\n",
        "\n",
        "history = model.fit(train_datasets.batch(BATCH_SIZE),\n",
        "          validation_data = val_datasets.batch(BATCH_SIZE),\n",
        "          shuffle=True,\n",
        "          epochs=5,\n",
        "          callbacks=[early_stopping])"
      ],
      "metadata": {
        "colab": {
          "base_uri": "https://localhost:8080/"
        },
        "id": "whL8MoClUbKX",
        "outputId": "d636a19b-5f75-462b-abba-e284e8316d1e"
      },
      "execution_count": 31,
      "outputs": [
        {
          "output_type": "stream",
          "name": "stdout",
          "text": [
            "Epoch 1/5\n",
            "220/220 [==============================] - 56s 191ms/step - loss: 0.4989 - masked_accuracy: 0.8717 - val_loss: 0.2101 - val_masked_accuracy: 0.9425\n",
            "Epoch 2/5\n",
            "220/220 [==============================] - 41s 187ms/step - loss: 0.1018 - masked_accuracy: 0.9717 - val_loss: 0.1382 - val_masked_accuracy: 0.9606\n",
            "Epoch 3/5\n",
            "220/220 [==============================] - 40s 183ms/step - loss: 0.0312 - masked_accuracy: 0.9918 - val_loss: 0.1367 - val_masked_accuracy: 0.9624\n",
            "Epoch 4/5\n",
            "220/220 [==============================] - 39s 178ms/step - loss: 0.0151 - masked_accuracy: 0.9961 - val_loss: 0.1418 - val_masked_accuracy: 0.9635\n",
            "Epoch 5/5\n",
            "220/220 [==============================] - 39s 177ms/step - loss: 0.0077 - masked_accuracy: 0.9979 - val_loss: 0.1475 - val_masked_accuracy: 0.9634\n"
          ]
        }
      ]
    },
    {
      "cell_type": "markdown",
      "source": [
        "## Evaluate Model"
      ],
      "metadata": {
        "id": "lQZXljHBjx8n"
      }
    },
    {
      "cell_type": "markdown",
      "source": [
        "Membuat function `create_plot` untuk plot akurasi dan loss pada saat training model"
      ],
      "metadata": {
        "id": "I0lsl239pWMM"
      }
    },
    {
      "cell_type": "code",
      "source": [
        "def create_plot(history, string):\n",
        "  # Plot training loss atau accuracy.\n",
        "  plt.plot(history.history[string], 'r', label='Training '+string)\n",
        "  # Plot validation loss atau accuracy.\n",
        "  plt.plot(history.history['val_'+string], 'b', label='Validation '+string)\n",
        "  # Set judul plot.\n",
        "  plt.title('Training and validation '+string)\n",
        "  # Tampilkan legenda.\n",
        "  plt.legend()\n",
        "  # Tampilkan plot.\n",
        "  plt.show()\n",
        "  # Tampilkan baris kosong untuk pemisah.\n",
        "  print('')"
      ],
      "metadata": {
        "id": "f9CgjQHB8UYM"
      },
      "execution_count": 32,
      "outputs": []
    },
    {
      "cell_type": "code",
      "source": [
        "create_plot(history, 'masked_accuracy')\n",
        "create_plot(history, 'loss')"
      ],
      "metadata": {
        "id": "BoS1FMGG9BQH",
        "colab": {
          "base_uri": "https://localhost:8080/",
          "height": 924
        },
        "outputId": "f1fe00dd-e843-4e86-d8b9-94d89f25c96e"
      },
      "execution_count": 33,
      "outputs": [
        {
          "output_type": "display_data",
          "data": {
            "text/plain": [
              "<Figure size 640x480 with 1 Axes>"
            ],
            "image/png": "[encoded data removed]"
          },
          "metadata": {}
        },
        {
          "output_type": "stream",
          "name": "stdout",
          "text": [
            "\n"
          ]
        },
        {
          "output_type": "display_data",
          "data": {
            "text/plain": [
              "<Figure size 640x480 with 1 Axes>"
            ],
            "image/png": "[encoded data removed]"
          },
          "metadata": {}
        },
        {
          "output_type": "stream",
          "name": "stdout",
          "text": [
            "\n"
          ]
        }
      ]
    },
    {
      "cell_type": "markdown",
      "source": [
        "Evaluasi model menggunakan dataset test"
      ],
      "metadata": {
        "id": "zPiNeVayphOU"
      }
    },
    {
      "cell_type": "code",
      "source": [
        "evaluation_test = model.evaluate(test_datasets.batch(BATCH_SIZE))\n",
        "\n",
        "print(f'\\nThe model loss on test dataset: {evaluation_test[0]}')\n",
        "print(f'The model accuracy on test dataset: {evaluation_test[1]}')"
      ],
      "metadata": {
        "id": "t1GyghgGwDSR",
        "colab": {
          "base_uri": "https://localhost:8080/"
        },
        "outputId": "3b84b935-29d9-4a7b-c2f1-74e6d6f9cd65"
      },
      "execution_count": 34,
      "outputs": [
        {
          "output_type": "stream",
          "name": "stdout",
          "text": [
            "54/54 [==============================] - 5s 39ms/step - loss: 0.2677 - masked_accuracy: 0.9422\n",
            "\n",
            "The model loss on test dataset: 0.2676778733730316\n",
            "The model accuracy on test dataset: 0.9422418475151062\n"
          ]
        }
      ]
    },
    {
      "cell_type": "markdown",
      "source": [
        "Cara lain untuk mengevaluasi model dengan data testing"
      ],
      "metadata": {
        "id": "yZhyWZ8CfNbr"
      }
    },
    {
      "cell_type": "code",
      "source": [
        "'''\n",
        "test_sentences_ids = sentence_vectorizer(test_sentences)\n",
        "y_true = test_labels\n",
        "y_pred = model.predict(test_sentences_ids)\n",
        "print(f'The model loss on test set is: {masked_loss(y_true,y_pred).numpy():.4f}')\n",
        "print(f'The model accuracy on test set is: {masked_accuracy(y_true,y_pred).numpy():.4f}')\n",
        "'''"
      ],
      "metadata": {
        "id": "hm68l_BkBmmQ",
        "colab": {
          "base_uri": "https://localhost:8080/",
          "height": 73
        },
        "outputId": "98944783-b0e8-425b-aa1f-56ec04716882"
      },
      "execution_count": 35,
      "outputs": [
        {
          "output_type": "execute_result",
          "data": {
            "text/plain": [
              "\"\\ntest_sentences_ids = sentence_vectorizer(test_sentences)\\ny_true = test_labels\\ny_pred = model.predict(test_sentences_ids)\\nprint(f'The model loss on test set is: {masked_loss(y_true,y_pred).numpy():.4f}')\\nprint(f'The model accuracy on test set is: {masked_accuracy(y_true,y_pred).numpy():.4f}')\\n\""
            ],
            "application/vnd.google.colaboratory.intrinsic+json": {
              "type": "string"
            }
          },
          "metadata": {},
          "execution_count": 35
        }
      ]
    },
    {
      "cell_type": "markdown",
      "source": [
        "Note : Jika ingin mendapat hasil loss yang sama saat running kedua metode evaluasi model dengan test dataset diatas, maka ukuran batchnya harus sama, karena jika tidak lossnya akan memiliki hasil yang berbeda"
      ],
      "metadata": {
        "id": "Kp7hIumJiuva"
      }
    },
    {
      "cell_type": "markdown",
      "source": [
        "Membuat function `predict` yang akan fed input text ke model yang telah ditraining dan menghasilkan prediksi"
      ],
      "metadata": {
        "id": "9cxyOC2TfU6q"
      }
    },
    {
      "cell_type": "code",
      "source": [
        "def predict(sentence, model, sentence_vectorizer, tag_map):\n",
        "    # Mengonversi kalimat menjadi vektor fitur dengan menggunakan sentence_vectorizer\n",
        "    sentence_vectorized = sentence_vectorizer(sentence)\n",
        "    # Menambahkan dimensi tambahan pada vektor fitur untuk sesuai untuk di fed ke model\n",
        "    sentence_vectorized = tf.expand_dims(sentence_vectorized, 0)\n",
        "    # Melakukan prediksi menggunakan model NER\n",
        "    outputs = model(sentence_vectorized)\n",
        "    # Dapatkan label yang diprediksi untuk setiap token, menggunakan fungsi argmax dan menentukan axis yang benar untuk melakukan argmax\n",
        "    output = np.argmax(outputs, axis=-1)\n",
        "    # Baris berikutnya hanya untuk menyesuaikan dimensi keluaran. Karena fungsi ini hanya mengharapkan satu masukan untuk mendapatkan prediksi, keluarannya akan menjadi seperti [[1,2,3]]\n",
        "    # jadi untuk menghindari notasi yang berat di bawah ini, mari kita ubah menjadi [1,2,3]\n",
        "    output = output[0]\n",
        "    # Mendapatkan daftar label yang sesuai dengan tag_map\n",
        "    labels = list(tag_map.keys())\n",
        "    pred = []\n",
        "    # Iterasi melalui setiap indeks label hasil prediksi\n",
        "    for tag_idx in output:\n",
        "        pred_label = labels[tag_idx]\n",
        "        pred.append(pred_label)\n",
        "\n",
        "    return pred"
      ],
      "metadata": {
        "id": "_JhKZ6e74LEt"
      },
      "execution_count": 36,
      "outputs": []
    },
    {
      "cell_type": "code",
      "source": [
        "sentence = \"John Smith works at Microsoft in New York\"\n",
        "predictions = predict(sentence, model, sentence_vectorizer, tag_maps)\n",
        "for x,y in zip(sentence.split(' '), predictions):\n",
        "    if y != 'O':\n",
        "        print(f'{x} --> {y}')"
      ],
      "metadata": {
        "colab": {
          "base_uri": "https://localhost:8080/"
        },
        "id": "WHdlvb1j4SqW",
        "outputId": "325772b2-81fe-463b-ad68-ce8d3d4db209"
      },
      "execution_count": 37,
      "outputs": [
        {
          "output_type": "stream",
          "name": "stdout",
          "text": [
            "John --> B-PER\n",
            "Smith --> I-PER\n",
            "Microsoft --> B-ORG\n",
            "New --> B-LOC\n",
            "York --> I-LOC\n"
          ]
        }
      ]
    },
    {
      "cell_type": "markdown",
      "source": [
        "Menyimpan file txt yang berisi tentang vektorisasi kalimat yang telah diproses dengan layer `TextVectorization`. Hasil dari `TextVectorization` disimpan agar bisa digunakan kembali saat deployment menggunakan flask/streamlit."
      ],
      "metadata": {
        "id": "4gPuEERsgZBS"
      }
    },
    {
      "cell_type": "code",
      "source": [
        "import os\n",
        "\n",
        "folder_path = 'vectorizer'\n",
        "file_name = 'vocabulary.txt'\n",
        "file_path = os.path.join(folder_path, file_name)\n",
        "\n",
        "if not os.path.exists(folder_path):\n",
        "  os.mkdir(folder_path)\n",
        "\n",
        "  if not os.path.exists(file_path):\n",
        "    with open(file_path, 'w') as v:\n",
        "      pass\n",
        "\n",
        "    sentence_vectorizer.save_assets(folder_path)\n",
        "    print('File vectorizer berhasil disimpan')\n",
        "  else:\n",
        "    print(f'File {file_name} sudah ada')\n",
        "\n",
        "else:\n",
        "  print(f'Folder {folder_path} sudah ada')"
      ],
      "metadata": {
        "id": "TN0jU9gn5kPp",
        "colab": {
          "base_uri": "https://localhost:8080/"
        },
        "outputId": "ca930692-4bd9-47ac-c4b3-4d5f690cf5c2"
      },
      "execution_count": 38,
      "outputs": [
        {
          "output_type": "stream",
          "name": "stdout",
          "text": [
            "File vectorizer berhasil disimpan\n"
          ]
        }
      ]
    },
    {
      "cell_type": "markdown",
      "source": [
        "Menyimpan model yang telah ditraining"
      ],
      "metadata": {
        "id": "qj_C2vf8jBVj"
      }
    },
    {
      "cell_type": "code",
      "source": [
        "model.save('NER model.h5')"
      ],
      "metadata": {
        "colab": {
          "base_uri": "https://localhost:8080/"
        },
        "id": "rlIRHn3JiJ8f",
        "outputId": "f9bb7c71-c994-42da-e326-4e69e6ea50e3"
      },
      "execution_count": 39,
      "outputs": [
        {
          "output_type": "stream",
          "name": "stderr",
          "text": [
            "/usr/local/lib/python3.10/dist-packages/keras/src/engine/training.py:3103: UserWarning: You are saving your model as an HDF5 file via `model.save()`. This file format is considered legacy. We recommend using instead the native Keras format, e.g. `model.save('my_model.keras')`.\n",
            "  saving_api.save_model(\n"
          ]
        }
      ]
    }
  ],
  "metadata": {
    "colab": {
      "provenance": []
    },
    "kernelspec": {
      "display_name": "Python 3",
      "name": "python3"
    },
    "language_info": {
      "name": "python"
    },
    "widgets": {
      "application/vnd.jupyter.widget-state+json": {
        "e0f3f292098d4ddcb149b817146ed1e0": {
          "model_module": "@jupyter-widgets/controls",
          "model_name": "HBoxModel",
          "model_module_version": "1.5.0",
          "state": {
            "_dom_classes": [],
            "_model_module": "@jupyter-widgets/controls",
            "_model_module_version": "1.5.0",
            "_model_name": "HBoxModel",
            "_view_count": null,
            "_view_module": "@jupyter-widgets/controls",
            "_view_module_version": "1.5.0",
            "_view_name": "HBoxView",
            "box_style": "",
            "children": [
              "IPY_MODEL_a2752b92522e411ba42c0027f34c8dbd",
              "IPY_MODEL_dfc8e8df0c2148d9ac8e7cc4ca2eb956",
              "IPY_MODEL_c8afe2a9685a4e3da996911f9e0bd1d1"
            ],
            "layout": "IPY_MODEL_312b79027d624941b4b99f1086ec2b8b"
          }
        },
        "a2752b92522e411ba42c0027f34c8dbd": {
          "model_module": "@jupyter-widgets/controls",
          "model_name": "HTMLModel",
          "model_module_version": "1.5.0",
          "state": {
            "_dom_classes": [],
            "_model_module": "@jupyter-widgets/controls",
            "_model_module_version": "1.5.0",
            "_model_name": "HTMLModel",
            "_view_count": null,
            "_view_module": "@jupyter-widgets/controls",
            "_view_module_version": "1.5.0",
            "_view_name": "HTMLView",
            "description": "",
            "description_tooltip": null,
            "layout": "IPY_MODEL_7e540ccde2f64ba789a7e30a8efff6d8",
            "placeholder": "​",
            "style": "IPY_MODEL_6476c4aad66846998d9ba2c67d2c1701",
            "value": "Downloading data: 100%"
          }
        },
        "dfc8e8df0c2148d9ac8e7cc4ca2eb956": {
          "model_module": "@jupyter-widgets/controls",
          "model_name": "FloatProgressModel",
          "model_module_version": "1.5.0",
          "state": {
            "_dom_classes": [],
            "_model_module": "@jupyter-widgets/controls",
            "_model_module_version": "1.5.0",
            "_model_name": "FloatProgressModel",
            "_view_count": null,
            "_view_module": "@jupyter-widgets/controls",
            "_view_module_version": "1.5.0",
            "_view_name": "ProgressView",
            "bar_style": "success",
            "description": "",
            "description_tooltip": null,
            "layout": "IPY_MODEL_3abca31e7b7242168677b0bfd48574f4",
            "max": 1227788,
            "min": 0,
            "orientation": "horizontal",
            "style": "IPY_MODEL_540db657b2ea41fd9b8141adbf45fcc1",
            "value": 1227788
          }
        },
        "c8afe2a9685a4e3da996911f9e0bd1d1": {
          "model_module": "@jupyter-widgets/controls",
          "model_name": "HTMLModel",
          "model_module_version": "1.5.0",
          "state": {
            "_dom_classes": [],
            "_model_module": "@jupyter-widgets/controls",
            "_model_module_version": "1.5.0",
            "_model_name": "HTMLModel",
            "_view_count": null,
            "_view_module": "@jupyter-widgets/controls",
            "_view_module_version": "1.5.0",
            "_view_name": "HTMLView",
            "description": "",
            "description_tooltip": null,
            "layout": "IPY_MODEL_10e53d27eb034c8d9d8d4f201fcf9b81",
            "placeholder": "​",
            "style": "IPY_MODEL_d4d6aa7566ef43b8bda0e69cba851a54",
            "value": " 1.23M/1.23M [00:00&lt;00:00, 4.23MB/s]"
          }
        },
        "312b79027d624941b4b99f1086ec2b8b": {
          "model_module": "@jupyter-widgets/base",
          "model_name": "LayoutModel",
          "model_module_version": "1.2.0",
          "state": {
            "_model_module": "@jupyter-widgets/base",
            "_model_module_version": "1.2.0",
            "_model_name": "LayoutModel",
            "_view_count": null,
            "_view_module": "@jupyter-widgets/base",
            "_view_module_version": "1.2.0",
            "_view_name": "LayoutView",
            "align_content": null,
            "align_items": null,
            "align_self": null,
            "border": null,
            "bottom": null,
            "display": null,
            "flex": null,
            "flex_flow": null,
            "grid_area": null,
            "grid_auto_columns": null,
            "grid_auto_flow": null,
            "grid_auto_rows": null,
            "grid_column": null,
            "grid_gap": null,
            "grid_row": null,
            "grid_template_areas": null,
            "grid_template_columns": null,
            "grid_template_rows": null,
            "height": null,
            "justify_content": null,
            "justify_items": null,
            "left": null,
            "margin": null,
            "max_height": null,
            "max_width": null,
            "min_height": null,
            "min_width": null,
            "object_fit": null,
            "object_position": null,
            "order": null,
            "overflow": null,
            "overflow_x": null,
            "overflow_y": null,
            "padding": null,
            "right": null,
            "top": null,
            "visibility": null,
            "width": null
          }
        },
        "7e540ccde2f64ba789a7e30a8efff6d8": {
          "model_module": "@jupyter-widgets/base",
          "model_name": "LayoutModel",
          "model_module_version": "1.2.0",
          "state": {
            "_model_module": "@jupyter-widgets/base",
            "_model_module_version": "1.2.0",
            "_model_name": "LayoutModel",
            "_view_count": null,
            "_view_module": "@jupyter-widgets/base",
            "_view_module_version": "1.2.0",
            "_view_name": "LayoutView",
            "align_content": null,
            "align_items": null,
            "align_self": null,
            "border": null,
            "bottom": null,
            "display": null,
            "flex": null,
            "flex_flow": null,
            "grid_area": null,
            "grid_auto_columns": null,
            "grid_auto_flow": null,
            "grid_auto_rows": null,
            "grid_column": null,
            "grid_gap": null,
            "grid_row": null,
            "grid_template_areas": null,
            "grid_template_columns": null,
            "grid_template_rows": null,
            "height": null,
            "justify_content": null,
            "justify_items": null,
            "left": null,
            "margin": null,
            "max_height": null,
            "max_width": null,
            "min_height": null,
            "min_width": null,
            "object_fit": null,
            "object_position": null,
            "order": null,
            "overflow": null,
            "overflow_x": null,
            "overflow_y": null,
            "padding": null,
            "right": null,
            "top": null,
            "visibility": null,
            "width": null
          }
        },
        "6476c4aad66846998d9ba2c67d2c1701": {
          "model_module": "@jupyter-widgets/controls",
          "model_name": "DescriptionStyleModel",
          "model_module_version": "1.5.0",
          "state": {
            "_model_module": "@jupyter-widgets/controls",
            "_model_module_version": "1.5.0",
            "_model_name": "DescriptionStyleModel",
            "_view_count": null,
            "_view_module": "@jupyter-widgets/base",
            "_view_module_version": "1.2.0",
            "_view_name": "StyleView",
            "description_width": ""
          }
        },
        "3abca31e7b7242168677b0bfd48574f4": {
          "model_module": "@jupyter-widgets/base",
          "model_name": "LayoutModel",
          "model_module_version": "1.2.0",
          "state": {
            "_model_module": "@jupyter-widgets/base",
            "_model_module_version": "1.2.0",
            "_model_name": "LayoutModel",
            "_view_count": null,
            "_view_module": "@jupyter-widgets/base",
            "_view_module_version": "1.2.0",
            "_view_name": "LayoutView",
            "align_content": null,
            "align_items": null,
            "align_self": null,
            "border": null,
            "bottom": null,
            "display": null,
            "flex": null,
            "flex_flow": null,
            "grid_area": null,
            "grid_auto_columns": null,
            "grid_auto_flow": null,
            "grid_auto_rows": null,
            "grid_column": null,
            "grid_gap": null,
            "grid_row": null,
            "grid_template_areas": null,
            "grid_template_columns": null,
            "grid_template_rows": null,
            "height": null,
            "justify_content": null,
            "justify_items": null,
            "left": null,
            "margin": null,
            "max_height": null,
            "max_width": null,
            "min_height": null,
            "min_width": null,
            "object_fit": null,
            "object_position": null,
            "order": null,
            "overflow": null,
            "overflow_x": null,
            "overflow_y": null,
            "padding": null,
            "right": null,
            "top": null,
            "visibility": null,
            "width": null
          }
        },
        "540db657b2ea41fd9b8141adbf45fcc1": {
          "model_module": "@jupyter-widgets/controls",
          "model_name": "ProgressStyleModel",
          "model_module_version": "1.5.0",
          "state": {
            "_model_module": "@jupyter-widgets/controls",
            "_model_module_version": "1.5.0",
            "_model_name": "ProgressStyleModel",
            "_view_count": null,
            "_view_module": "@jupyter-widgets/base",
            "_view_module_version": "1.2.0",
            "_view_name": "StyleView",
            "bar_color": null,
            "description_width": ""
          }
        },
        "10e53d27eb034c8d9d8d4f201fcf9b81": {
          "model_module": "@jupyter-widgets/base",
          "model_name": "LayoutModel",
          "model_module_version": "1.2.0",
          "state": {
            "_model_module": "@jupyter-widgets/base",
            "_model_module_version": "1.2.0",
            "_model_name": "LayoutModel",
            "_view_count": null,
            "_view_module": "@jupyter-widgets/base",
            "_view_module_version": "1.2.0",
            "_view_name": "LayoutView",
            "align_content": null,
            "align_items": null,
            "align_self": null,
            "border": null,
            "bottom": null,
            "display": null,
            "flex": null,
            "flex_flow": null,
            "grid_area": null,
            "grid_auto_columns": null,
            "grid_auto_flow": null,
            "grid_auto_rows": null,
            "grid_column": null,
            "grid_gap": null,
            "grid_row": null,
            "grid_template_areas": null,
            "grid_template_columns": null,
            "grid_template_rows": null,
            "height": null,
            "justify_content": null,
            "justify_items": null,
            "left": null,
            "margin": null,
            "max_height": null,
            "max_width": null,
            "min_height": null,
            "min_width": null,
            "object_fit": null,
            "object_position": null,
            "order": null,
            "overflow": null,
            "overflow_x": null,
            "overflow_y": null,
            "padding": null,
            "right": null,
            "top": null,
            "visibility": null,
            "width": null
          }
        },
        "d4d6aa7566ef43b8bda0e69cba851a54": {
          "model_module": "@jupyter-widgets/controls",
          "model_name": "DescriptionStyleModel",
          "model_module_version": "1.5.0",
          "state": {
            "_model_module": "@jupyter-widgets/controls",
            "_model_module_version": "1.5.0",
            "_model_name": "DescriptionStyleModel",
            "_view_count": null,
            "_view_module": "@jupyter-widgets/base",
            "_view_module_version": "1.2.0",
            "_view_name": "StyleView",
            "description_width": ""
          }
        },
        "f75306ff8e5741dbb1803a72dab63606": {
          "model_module": "@jupyter-widgets/controls",
          "model_name": "HBoxModel",
          "model_module_version": "1.5.0",
          "state": {
            "_dom_classes": [],
            "_model_module": "@jupyter-widgets/controls",
            "_model_module_version": "1.5.0",
            "_model_name": "HBoxModel",
            "_view_count": null,
            "_view_module": "@jupyter-widgets/controls",
            "_view_module_version": "1.5.0",
            "_view_name": "HBoxView",
            "box_style": "",
            "children": [
              "IPY_MODEL_0ac9054d2f9044579237230675eb0db8",
              "IPY_MODEL_8cb196d41a9c4c2898ed68c2e3bcd727",
              "IPY_MODEL_f309e19a327646fe88ab0134a5e3f65e"
            ],
            "layout": "IPY_MODEL_6a26581e2e154705adfdb2047d4b168b"
          }
        },
        "0ac9054d2f9044579237230675eb0db8": {
          "model_module": "@jupyter-widgets/controls",
          "model_name": "HTMLModel",
          "model_module_version": "1.5.0",
          "state": {
            "_dom_classes": [],
            "_model_module": "@jupyter-widgets/controls",
            "_model_module_version": "1.5.0",
            "_model_name": "HTMLModel",
            "_view_count": null,
            "_view_module": "@jupyter-widgets/controls",
            "_view_module_version": "1.5.0",
            "_view_name": "HTMLView",
            "description": "",
            "description_tooltip": null,
            "layout": "IPY_MODEL_8e486d07fd3f4e3f8e46427269a2eb4a",
            "placeholder": "​",
            "style": "IPY_MODEL_b432c430fb6d4164ae80d1ba48b8e462",
            "value": "Downloading data: 100%"
          }
        },
        "8cb196d41a9c4c2898ed68c2e3bcd727": {
          "model_module": "@jupyter-widgets/controls",
          "model_name": "FloatProgressModel",
          "model_module_version": "1.5.0",
          "state": {
            "_dom_classes": [],
            "_model_module": "@jupyter-widgets/controls",
            "_model_module_version": "1.5.0",
            "_model_name": "FloatProgressModel",
            "_view_count": null,
            "_view_module": "@jupyter-widgets/controls",
            "_view_module_version": "1.5.0",
            "_view_name": "ProgressView",
            "bar_style": "success",
            "description": "",
            "description_tooltip": null,
            "layout": "IPY_MODEL_4c61ced4b65d47c992ef25a6c9ae5bfe",
            "max": 311883,
            "min": 0,
            "orientation": "horizontal",
            "style": "IPY_MODEL_47e96aca13f14be6afd7f432123329a7",
            "value": 311883
          }
        },
        "f309e19a327646fe88ab0134a5e3f65e": {
          "model_module": "@jupyter-widgets/controls",
          "model_name": "HTMLModel",
          "model_module_version": "1.5.0",
          "state": {
            "_dom_classes": [],
            "_model_module": "@jupyter-widgets/controls",
            "_model_module_version": "1.5.0",
            "_model_name": "HTMLModel",
            "_view_count": null,
            "_view_module": "@jupyter-widgets/controls",
            "_view_module_version": "1.5.0",
            "_view_name": "HTMLView",
            "description": "",
            "description_tooltip": null,
            "layout": "IPY_MODEL_47e8c98354b84a9e8dbd7717b4bde7e0",
            "placeholder": "​",
            "style": "IPY_MODEL_4266bad74870422b9b97ff4adc04bc0b",
            "value": " 312k/312k [00:00&lt;00:00, 2.23MB/s]"
          }
        },
        "6a26581e2e154705adfdb2047d4b168b": {
          "model_module": "@jupyter-widgets/base",
          "model_name": "LayoutModel",
          "model_module_version": "1.2.0",
          "state": {
            "_model_module": "@jupyter-widgets/base",
            "_model_module_version": "1.2.0",
            "_model_name": "LayoutModel",
            "_view_count": null,
            "_view_module": "@jupyter-widgets/base",
            "_view_module_version": "1.2.0",
            "_view_name": "LayoutView",
            "align_content": null,
            "align_items": null,
            "align_self": null,
            "border": null,
            "bottom": null,
            "display": null,
            "flex": null,
            "flex_flow": null,
            "grid_area": null,
            "grid_auto_columns": null,
            "grid_auto_flow": null,
            "grid_auto_rows": null,
            "grid_column": null,
            "grid_gap": null,
            "grid_row": null,
            "grid_template_areas": null,
            "grid_template_columns": null,
            "grid_template_rows": null,
            "height": null,
            "justify_content": null,
            "justify_items": null,
            "left": null,
            "margin": null,
            "max_height": null,
            "max_width": null,
            "min_height": null,
            "min_width": null,
            "object_fit": null,
            "object_position": null,
            "order": null,
            "overflow": null,
            "overflow_x": null,
            "overflow_y": null,
            "padding": null,
            "right": null,
            "top": null,
            "visibility": null,
            "width": null
          }
        },
        "8e486d07fd3f4e3f8e46427269a2eb4a": {
          "model_module": "@jupyter-widgets/base",
          "model_name": "LayoutModel",
          "model_module_version": "1.2.0",
          "state": {
            "_model_module": "@jupyter-widgets/base",
            "_model_module_version": "1.2.0",
            "_model_name": "LayoutModel",
            "_view_count": null,
            "_view_module": "@jupyter-widgets/base",
            "_view_module_version": "1.2.0",
            "_view_name": "LayoutView",
            "align_content": null,
            "align_items": null,
            "align_self": null,
            "border": null,
            "bottom": null,
            "display": null,
            "flex": null,
            "flex_flow": null,
            "grid_area": null,
            "grid_auto_columns": null,
            "grid_auto_flow": null,
            "grid_auto_rows": null,
            "grid_column": null,
            "grid_gap": null,
            "grid_row": null,
            "grid_template_areas": null,
            "grid_template_columns": null,
            "grid_template_rows": null,
            "height": null,
            "justify_content": null,
            "justify_items": null,
            "left": null,
            "margin": null,
            "max_height": null,
            "max_width": null,
            "min_height": null,
            "min_width": null,
            "object_fit": null,
            "object_position": null,
            "order": null,
            "overflow": null,
            "overflow_x": null,
            "overflow_y": null,
            "padding": null,
            "right": null,
            "top": null,
            "visibility": null,
            "width": null
          }
        },
        "b432c430fb6d4164ae80d1ba48b8e462": {
          "model_module": "@jupyter-widgets/controls",
          "model_name": "DescriptionStyleModel",
          "model_module_version": "1.5.0",
          "state": {
            "_model_module": "@jupyter-widgets/controls",
            "_model_module_version": "1.5.0",
            "_model_name": "DescriptionStyleModel",
            "_view_count": null,
            "_view_module": "@jupyter-widgets/base",
            "_view_module_version": "1.2.0",
            "_view_name": "StyleView",
            "description_width": ""
          }
        },
        "4c61ced4b65d47c992ef25a6c9ae5bfe": {
          "model_module": "@jupyter-widgets/base",
          "model_name": "LayoutModel",
          "model_module_version": "1.2.0",
          "state": {
            "_model_module": "@jupyter-widgets/base",
            "_model_module_version": "1.2.0",
            "_model_name": "LayoutModel",
            "_view_count": null,
            "_view_module": "@jupyter-widgets/base",
            "_view_module_version": "1.2.0",
            "_view_name": "LayoutView",
            "align_content": null,
            "align_items": null,
            "align_self": null,
            "border": null,
            "bottom": null,
            "display": null,
            "flex": null,
            "flex_flow": null,
            "grid_area": null,
            "grid_auto_columns": null,
            "grid_auto_flow": null,
            "grid_auto_rows": null,
            "grid_column": null,
            "grid_gap": null,
            "grid_row": null,
            "grid_template_areas": null,
            "grid_template_columns": null,
            "grid_template_rows": null,
            "height": null,
            "justify_content": null,
            "justify_items": null,
            "left": null,
            "margin": null,
            "max_height": null,
            "max_width": null,
            "min_height": null,
            "min_width": null,
            "object_fit": null,
            "object_position": null,
            "order": null,
            "overflow": null,
            "overflow_x": null,
            "overflow_y": null,
            "padding": null,
            "right": null,
            "top": null,
            "visibility": null,
            "width": null
          }
        },
        "47e96aca13f14be6afd7f432123329a7": {
          "model_module": "@jupyter-widgets/controls",
          "model_name": "ProgressStyleModel",
          "model_module_version": "1.5.0",
          "state": {
            "_model_module": "@jupyter-widgets/controls",
            "_model_module_version": "1.5.0",
            "_model_name": "ProgressStyleModel",
            "_view_count": null,
            "_view_module": "@jupyter-widgets/base",
            "_view_module_version": "1.2.0",
            "_view_name": "StyleView",
            "bar_color": null,
            "description_width": ""
          }
        },
        "47e8c98354b84a9e8dbd7717b4bde7e0": {
          "model_module": "@jupyter-widgets/base",
          "model_name": "LayoutModel",
          "model_module_version": "1.2.0",
          "state": {
            "_model_module": "@jupyter-widgets/base",
            "_model_module_version": "1.2.0",
            "_model_name": "LayoutModel",
            "_view_count": null,
            "_view_module": "@jupyter-widgets/base",
            "_view_module_version": "1.2.0",
            "_view_name": "LayoutView",
            "align_content": null,
            "align_items": null,
            "align_self": null,
            "border": null,
            "bottom": null,
            "display": null,
            "flex": null,
            "flex_flow": null,
            "grid_area": null,
            "grid_auto_columns": null,
            "grid_auto_flow": null,
            "grid_auto_rows": null,
            "grid_column": null,
            "grid_gap": null,
            "grid_row": null,
            "grid_template_areas": null,
            "grid_template_columns": null,
            "grid_template_rows": null,
            "height": null,
            "justify_content": null,
            "justify_items": null,
            "left": null,
            "margin": null,
            "max_height": null,
            "max_width": null,
            "min_height": null,
            "min_width": null,
            "object_fit": null,
            "object_position": null,
            "order": null,
            "overflow": null,
            "overflow_x": null,
            "overflow_y": null,
            "padding": null,
            "right": null,
            "top": null,
            "visibility": null,
            "width": null
          }
        },
        "4266bad74870422b9b97ff4adc04bc0b": {
          "model_module": "@jupyter-widgets/controls",
          "model_name": "DescriptionStyleModel",
          "model_module_version": "1.5.0",
          "state": {
            "_model_module": "@jupyter-widgets/controls",
            "_model_module_version": "1.5.0",
            "_model_name": "DescriptionStyleModel",
            "_view_count": null,
            "_view_module": "@jupyter-widgets/base",
            "_view_module_version": "1.2.0",
            "_view_name": "StyleView",
            "description_width": ""
          }
        },
        "79af4a1fbac5474881bf9fa16e2b6807": {
          "model_module": "@jupyter-widgets/controls",
          "model_name": "HBoxModel",
          "model_module_version": "1.5.0",
          "state": {
            "_dom_classes": [],
            "_model_module": "@jupyter-widgets/controls",
            "_model_module_version": "1.5.0",
            "_model_name": "HBoxModel",
            "_view_count": null,
            "_view_module": "@jupyter-widgets/controls",
            "_view_module_version": "1.5.0",
            "_view_name": "HBoxView",
            "box_style": "",
            "children": [
              "IPY_MODEL_48af7b70b93b4f899b3b702763cf1fc9",
              "IPY_MODEL_069f3184eea24b8e83eb0fa986df2b22",
              "IPY_MODEL_581efd8889f242a9891178f9b2d72096"
            ],
            "layout": "IPY_MODEL_f119d70a6f7d44e0897d42962e579fed"
          }
        },
        "48af7b70b93b4f899b3b702763cf1fc9": {
          "model_module": "@jupyter-widgets/controls",
          "model_name": "HTMLModel",
          "model_module_version": "1.5.0",
          "state": {
            "_dom_classes": [],
            "_model_module": "@jupyter-widgets/controls",
            "_model_module_version": "1.5.0",
            "_model_name": "HTMLModel",
            "_view_count": null,
            "_view_module": "@jupyter-widgets/controls",
            "_view_module_version": "1.5.0",
            "_view_name": "HTMLView",
            "description": "",
            "description_tooltip": null,
            "layout": "IPY_MODEL_e3b3a099ccf44d8fad95283fac85afb6",
            "placeholder": "​",
            "style": "IPY_MODEL_c5fc8f883c2047e88a630151d1b06e7a",
            "value": "Downloading data: 100%"
          }
        },
        "069f3184eea24b8e83eb0fa986df2b22": {
          "model_module": "@jupyter-widgets/controls",
          "model_name": "FloatProgressModel",
          "model_module_version": "1.5.0",
          "state": {
            "_dom_classes": [],
            "_model_module": "@jupyter-widgets/controls",
            "_model_module_version": "1.5.0",
            "_model_name": "FloatProgressModel",
            "_view_count": null,
            "_view_module": "@jupyter-widgets/controls",
            "_view_module_version": "1.5.0",
            "_view_name": "ProgressView",
            "bar_style": "success",
            "description": "",
            "description_tooltip": null,
            "layout": "IPY_MODEL_9c3a9adbc8f14456a9f54cdbaaa0023c",
            "max": 283307,
            "min": 0,
            "orientation": "horizontal",
            "style": "IPY_MODEL_58584b724bd147a88890fa2a7909e4fe",
            "value": 283307
          }
        },
        "581efd8889f242a9891178f9b2d72096": {
          "model_module": "@jupyter-widgets/controls",
          "model_name": "HTMLModel",
          "model_module_version": "1.5.0",
          "state": {
            "_dom_classes": [],
            "_model_module": "@jupyter-widgets/controls",
            "_model_module_version": "1.5.0",
            "_model_name": "HTMLModel",
            "_view_count": null,
            "_view_module": "@jupyter-widgets/controls",
            "_view_module_version": "1.5.0",
            "_view_name": "HTMLView",
            "description": "",
            "description_tooltip": null,
            "layout": "IPY_MODEL_534993adbde14594bfef20a326bc9825",
            "placeholder": "​",
            "style": "IPY_MODEL_99fc53a80bb844c99e24bca17c1e441b",
            "value": " 283k/283k [00:00&lt;00:00, 3.79MB/s]"
          }
        },
        "f119d70a6f7d44e0897d42962e579fed": {
          "model_module": "@jupyter-widgets/base",
          "model_name": "LayoutModel",
          "model_module_version": "1.2.0",
          "state": {
            "_model_module": "@jupyter-widgets/base",
            "_model_module_version": "1.2.0",
            "_model_name": "LayoutModel",
            "_view_count": null,
            "_view_module": "@jupyter-widgets/base",
            "_view_module_version": "1.2.0",
            "_view_name": "LayoutView",
            "align_content": null,
            "align_items": null,
            "align_self": null,
            "border": null,
            "bottom": null,
            "display": null,
            "flex": null,
            "flex_flow": null,
            "grid_area": null,
            "grid_auto_columns": null,
            "grid_auto_flow": null,
            "grid_auto_rows": null,
            "grid_column": null,
            "grid_gap": null,
            "grid_row": null,
            "grid_template_areas": null,
            "grid_template_columns": null,
            "grid_template_rows": null,
            "height": null,
            "justify_content": null,
            "justify_items": null,
            "left": null,
            "margin": null,
            "max_height": null,
            "max_width": null,
            "min_height": null,
            "min_width": null,
            "object_fit": null,
            "object_position": null,
            "order": null,
            "overflow": null,
            "overflow_x": null,
            "overflow_y": null,
            "padding": null,
            "right": null,
            "top": null,
            "visibility": null,
            "width": null
          }
        },
        "e3b3a099ccf44d8fad95283fac85afb6": {
          "model_module": "@jupyter-widgets/base",
          "model_name": "LayoutModel",
          "model_module_version": "1.2.0",
          "state": {
            "_model_module": "@jupyter-widgets/base",
            "_model_module_version": "1.2.0",
            "_model_name": "LayoutModel",
            "_view_count": null,
            "_view_module": "@jupyter-widgets/base",
            "_view_module_version": "1.2.0",
            "_view_name": "LayoutView",
            "align_content": null,
            "align_items": null,
            "align_self": null,
            "border": null,
            "bottom": null,
            "display": null,
            "flex": null,
            "flex_flow": null,
            "grid_area": null,
            "grid_auto_columns": null,
            "grid_auto_flow": null,
            "grid_auto_rows": null,
            "grid_column": null,
            "grid_gap": null,
            "grid_row": null,
            "grid_template_areas": null,
            "grid_template_columns": null,
            "grid_template_rows": null,
            "height": null,
            "justify_content": null,
            "justify_items": null,
            "left": null,
            "margin": null,
            "max_height": null,
            "max_width": null,
            "min_height": null,
            "min_width": null,
            "object_fit": null,
            "object_position": null,
            "order": null,
            "overflow": null,
            "overflow_x": null,
            "overflow_y": null,
            "padding": null,
            "right": null,
            "top": null,
            "visibility": null,
            "width": null
          }
        },
        "c5fc8f883c2047e88a630151d1b06e7a": {
          "model_module": "@jupyter-widgets/controls",
          "model_name": "DescriptionStyleModel",
          "model_module_version": "1.5.0",
          "state": {
            "_model_module": "@jupyter-widgets/controls",
            "_model_module_version": "1.5.0",
            "_model_name": "DescriptionStyleModel",
            "_view_count": null,
            "_view_module": "@jupyter-widgets/base",
            "_view_module_version": "1.2.0",
            "_view_name": "StyleView",
            "description_width": ""
          }
        },
        "9c3a9adbc8f14456a9f54cdbaaa0023c": {
          "model_module": "@jupyter-widgets/base",
          "model_name": "LayoutModel",
          "model_module_version": "1.2.0",
          "state": {
            "_model_module": "@jupyter-widgets/base",
            "_model_module_version": "1.2.0",
            "_model_name": "LayoutModel",
            "_view_count": null,
            "_view_module": "@jupyter-widgets/base",
            "_view_module_version": "1.2.0",
            "_view_name": "LayoutView",
            "align_content": null,
            "align_items": null,
            "align_self": null,
            "border": null,
            "bottom": null,
            "display": null,
            "flex": null,
            "flex_flow": null,
            "grid_area": null,
            "grid_auto_columns": null,
            "grid_auto_flow": null,
            "grid_auto_rows": null,
            "grid_column": null,
            "grid_gap": null,
            "grid_row": null,
            "grid_template_areas": null,
            "grid_template_columns": null,
            "grid_template_rows": null,
            "height": null,
            "justify_content": null,
            "justify_items": null,
            "left": null,
            "margin": null,
            "max_height": null,
            "max_width": null,
            "min_height": null,
            "min_width": null,
            "object_fit": null,
            "object_position": null,
            "order": null,
            "overflow": null,
            "overflow_x": null,
            "overflow_y": null,
            "padding": null,
            "right": null,
            "top": null,
            "visibility": null,
            "width": null
          }
        },
        "58584b724bd147a88890fa2a7909e4fe": {
          "model_module": "@jupyter-widgets/controls",
          "model_name": "ProgressStyleModel",
          "model_module_version": "1.5.0",
          "state": {
            "_model_module": "@jupyter-widgets/controls",
            "_model_module_version": "1.5.0",
            "_model_name": "ProgressStyleModel",
            "_view_count": null,
            "_view_module": "@jupyter-widgets/base",
            "_view_module_version": "1.2.0",
            "_view_name": "StyleView",
            "bar_color": null,
            "description_width": ""
          }
        },
        "534993adbde14594bfef20a326bc9825": {
          "model_module": "@jupyter-widgets/base",
          "model_name": "LayoutModel",
          "model_module_version": "1.2.0",
          "state": {
            "_model_module": "@jupyter-widgets/base",
            "_model_module_version": "1.2.0",
            "_model_name": "LayoutModel",
            "_view_count": null,
            "_view_module": "@jupyter-widgets/base",
            "_view_module_version": "1.2.0",
            "_view_name": "LayoutView",
            "align_content": null,
            "align_items": null,
            "align_self": null,
            "border": null,
            "bottom": null,
            "display": null,
            "flex": null,
            "flex_flow": null,
            "grid_area": null,
            "grid_auto_columns": null,
            "grid_auto_flow": null,
            "grid_auto_rows": null,
            "grid_column": null,
            "grid_gap": null,
            "grid_row": null,
            "grid_template_areas": null,
            "grid_template_columns": null,
            "grid_template_rows": null,
            "height": null,
            "justify_content": null,
            "justify_items": null,
            "left": null,
            "margin": null,
            "max_height": null,
            "max_width": null,
            "min_height": null,
            "min_width": null,
            "object_fit": null,
            "object_position": null,
            "order": null,
            "overflow": null,
            "overflow_x": null,
            "overflow_y": null,
            "padding": null,
            "right": null,
            "top": null,
            "visibility": null,
            "width": null
          }
        },
        "99fc53a80bb844c99e24bca17c1e441b": {
          "model_module": "@jupyter-widgets/controls",
          "model_name": "DescriptionStyleModel",
          "model_module_version": "1.5.0",
          "state": {
            "_model_module": "@jupyter-widgets/controls",
            "_model_module_version": "1.5.0",
            "_model_name": "DescriptionStyleModel",
            "_view_count": null,
            "_view_module": "@jupyter-widgets/base",
            "_view_module_version": "1.2.0",
            "_view_name": "StyleView",
            "description_width": ""
          }
        },
        "5e8a55c990b54afcb2df29f78a5f4ef0": {
          "model_module": "@jupyter-widgets/controls",
          "model_name": "HBoxModel",
          "model_module_version": "1.5.0",
          "state": {
            "_dom_classes": [],
            "_model_module": "@jupyter-widgets/controls",
            "_model_module_version": "1.5.0",
            "_model_name": "HBoxModel",
            "_view_count": null,
            "_view_module": "@jupyter-widgets/controls",
            "_view_module_version": "1.5.0",
            "_view_name": "HBoxView",
            "box_style": "",
            "children": [
              "IPY_MODEL_9feb402f66c34bfbb328586cb2373d0b",
              "IPY_MODEL_60d4887d04594684890079c2b36b6909",
              "IPY_MODEL_a6fb01a98cf641ff8983131afd3d0e34"
            ],
            "layout": "IPY_MODEL_e37b2a7086984fa19ac6304dc009adb4"
          }
        },
        "9feb402f66c34bfbb328586cb2373d0b": {
          "model_module": "@jupyter-widgets/controls",
          "model_name": "HTMLModel",
          "model_module_version": "1.5.0",
          "state": {
            "_dom_classes": [],
            "_model_module": "@jupyter-widgets/controls",
            "_model_module_version": "1.5.0",
            "_model_name": "HTMLModel",
            "_view_count": null,
            "_view_module": "@jupyter-widgets/controls",
            "_view_module_version": "1.5.0",
            "_view_name": "HTMLView",
            "description": "",
            "description_tooltip": null,
            "layout": "IPY_MODEL_da8ff755ad374b6686d1ec4236fd0423",
            "placeholder": "​",
            "style": "IPY_MODEL_e74347a16179495396da660b7dbf3ee2",
            "value": "Generating train split: 100%"
          }
        },
        "60d4887d04594684890079c2b36b6909": {
          "model_module": "@jupyter-widgets/controls",
          "model_name": "FloatProgressModel",
          "model_module_version": "1.5.0",
          "state": {
            "_dom_classes": [],
            "_model_module": "@jupyter-widgets/controls",
            "_model_module_version": "1.5.0",
            "_model_name": "FloatProgressModel",
            "_view_count": null,
            "_view_module": "@jupyter-widgets/controls",
            "_view_module_version": "1.5.0",
            "_view_name": "ProgressView",
            "bar_style": "success",
            "description": "",
            "description_tooltip": null,
            "layout": "IPY_MODEL_986bb16759f04bd09d2a854b6306ab75",
            "max": 14041,
            "min": 0,
            "orientation": "horizontal",
            "style": "IPY_MODEL_076bd979283f48bd8ecb0bc90747c520",
            "value": 14041
          }
        },
        "a6fb01a98cf641ff8983131afd3d0e34": {
          "model_module": "@jupyter-widgets/controls",
          "model_name": "HTMLModel",
          "model_module_version": "1.5.0",
          "state": {
            "_dom_classes": [],
            "_model_module": "@jupyter-widgets/controls",
            "_model_module_version": "1.5.0",
            "_model_name": "HTMLModel",
            "_view_count": null,
            "_view_module": "@jupyter-widgets/controls",
            "_view_module_version": "1.5.0",
            "_view_name": "HTMLView",
            "description": "",
            "description_tooltip": null,
            "layout": "IPY_MODEL_2c4e650f280447b3bf2df0aa2787a327",
            "placeholder": "​",
            "style": "IPY_MODEL_c598f4221f0240e5b659eb0f549e6135",
            "value": " 14041/14041 [00:00&lt;00:00, 107743.98 examples/s]"
          }
        },
        "e37b2a7086984fa19ac6304dc009adb4": {
          "model_module": "@jupyter-widgets/base",
          "model_name": "LayoutModel",
          "model_module_version": "1.2.0",
          "state": {
            "_model_module": "@jupyter-widgets/base",
            "_model_module_version": "1.2.0",
            "_model_name": "LayoutModel",
            "_view_count": null,
            "_view_module": "@jupyter-widgets/base",
            "_view_module_version": "1.2.0",
            "_view_name": "LayoutView",
            "align_content": null,
            "align_items": null,
            "align_self": null,
            "border": null,
            "bottom": null,
            "display": null,
            "flex": null,
            "flex_flow": null,
            "grid_area": null,
            "grid_auto_columns": null,
            "grid_auto_flow": null,
            "grid_auto_rows": null,
            "grid_column": null,
            "grid_gap": null,
            "grid_row": null,
            "grid_template_areas": null,
            "grid_template_columns": null,
            "grid_template_rows": null,
            "height": null,
            "justify_content": null,
            "justify_items": null,
            "left": null,
            "margin": null,
            "max_height": null,
            "max_width": null,
            "min_height": null,
            "min_width": null,
            "object_fit": null,
            "object_position": null,
            "order": null,
            "overflow": null,
            "overflow_x": null,
            "overflow_y": null,
            "padding": null,
            "right": null,
            "top": null,
            "visibility": null,
            "width": null
          }
        },
        "da8ff755ad374b6686d1ec4236fd0423": {
          "model_module": "@jupyter-widgets/base",
          "model_name": "LayoutModel",
          "model_module_version": "1.2.0",
          "state": {
            "_model_module": "@jupyter-widgets/base",
            "_model_module_version": "1.2.0",
            "_model_name": "LayoutModel",
            "_view_count": null,
            "_view_module": "@jupyter-widgets/base",
            "_view_module_version": "1.2.0",
            "_view_name": "LayoutView",
            "align_content": null,
            "align_items": null,
            "align_self": null,
            "border": null,
            "bottom": null,
            "display": null,
            "flex": null,
            "flex_flow": null,
            "grid_area": null,
            "grid_auto_columns": null,
            "grid_auto_flow": null,
            "grid_auto_rows": null,
            "grid_column": null,
            "grid_gap": null,
            "grid_row": null,
            "grid_template_areas": null,
            "grid_template_columns": null,
            "grid_template_rows": null,
            "height": null,
            "justify_content": null,
            "justify_items": null,
            "left": null,
            "margin": null,
            "max_height": null,
            "max_width": null,
            "min_height": null,
            "min_width": null,
            "object_fit": null,
            "object_position": null,
            "order": null,
            "overflow": null,
            "overflow_x": null,
            "overflow_y": null,
            "padding": null,
            "right": null,
            "top": null,
            "visibility": null,
            "width": null
          }
        },
        "e74347a16179495396da660b7dbf3ee2": {
          "model_module": "@jupyter-widgets/controls",
          "model_name": "DescriptionStyleModel",
          "model_module_version": "1.5.0",
          "state": {
            "_model_module": "@jupyter-widgets/controls",
            "_model_module_version": "1.5.0",
            "_model_name": "DescriptionStyleModel",
            "_view_count": null,
            "_view_module": "@jupyter-widgets/base",
            "_view_module_version": "1.2.0",
            "_view_name": "StyleView",
            "description_width": ""
          }
        },
        "986bb16759f04bd09d2a854b6306ab75": {
          "model_module": "@jupyter-widgets/base",
          "model_name": "LayoutModel",
          "model_module_version": "1.2.0",
          "state": {
            "_model_module": "@jupyter-widgets/base",
            "_model_module_version": "1.2.0",
            "_model_name": "LayoutModel",
            "_view_count": null,
            "_view_module": "@jupyter-widgets/base",
            "_view_module_version": "1.2.0",
            "_view_name": "LayoutView",
            "align_content": null,
            "align_items": null,
            "align_self": null,
            "border": null,
            "bottom": null,
            "display": null,
            "flex": null,
            "flex_flow": null,
            "grid_area": null,
            "grid_auto_columns": null,
            "grid_auto_flow": null,
            "grid_auto_rows": null,
            "grid_column": null,
            "grid_gap": null,
            "grid_row": null,
            "grid_template_areas": null,
            "grid_template_columns": null,
            "grid_template_rows": null,
            "height": null,
            "justify_content": null,
            "justify_items": null,
            "left": null,
            "margin": null,
            "max_height": null,
            "max_width": null,
            "min_height": null,
            "min_width": null,
            "object_fit": null,
            "object_position": null,
            "order": null,
            "overflow": null,
            "overflow_x": null,
            "overflow_y": null,
            "padding": null,
            "right": null,
            "top": null,
            "visibility": null,
            "width": null
          }
        },
        "076bd979283f48bd8ecb0bc90747c520": {
          "model_module": "@jupyter-widgets/controls",
          "model_name": "ProgressStyleModel",
          "model_module_version": "1.5.0",
          "state": {
            "_model_module": "@jupyter-widgets/controls",
            "_model_module_version": "1.5.0",
            "_model_name": "ProgressStyleModel",
            "_view_count": null,
            "_view_module": "@jupyter-widgets/base",
            "_view_module_version": "1.2.0",
            "_view_name": "StyleView",
            "bar_color": null,
            "description_width": ""
          }
        },
        "2c4e650f280447b3bf2df0aa2787a327": {
          "model_module": "@jupyter-widgets/base",
          "model_name": "LayoutModel",
          "model_module_version": "1.2.0",
          "state": {
            "_model_module": "@jupyter-widgets/base",
            "_model_module_version": "1.2.0",
            "_model_name": "LayoutModel",
            "_view_count": null,
            "_view_module": "@jupyter-widgets/base",
            "_view_module_version": "1.2.0",
            "_view_name": "LayoutView",
            "align_content": null,
            "align_items": null,
            "align_self": null,
            "border": null,
            "bottom": null,
            "display": null,
            "flex": null,
            "flex_flow": null,
            "grid_area": null,
            "grid_auto_columns": null,
            "grid_auto_flow": null,
            "grid_auto_rows": null,
            "grid_column": null,
            "grid_gap": null,
            "grid_row": null,
            "grid_template_areas": null,
            "grid_template_columns": null,
            "grid_template_rows": null,
            "height": null,
            "justify_content": null,
            "justify_items": null,
            "left": null,
            "margin": null,
            "max_height": null,
            "max_width": null,
            "min_height": null,
            "min_width": null,
            "object_fit": null,
            "object_position": null,
            "order": null,
            "overflow": null,
            "overflow_x": null,
            "overflow_y": null,
            "padding": null,
            "right": null,
            "top": null,
            "visibility": null,
            "width": null
          }
        },
        "c598f4221f0240e5b659eb0f549e6135": {
          "model_module": "@jupyter-widgets/controls",
          "model_name": "DescriptionStyleModel",
          "model_module_version": "1.5.0",
          "state": {
            "_model_module": "@jupyter-widgets/controls",
            "_model_module_version": "1.5.0",
            "_model_name": "DescriptionStyleModel",
            "_view_count": null,
            "_view_module": "@jupyter-widgets/base",
            "_view_module_version": "1.2.0",
            "_view_name": "StyleView",
            "description_width": ""
          }
        },
        "0f5bce5f0c6349a4a4106f8e352fa7e6": {
          "model_module": "@jupyter-widgets/controls",
          "model_name": "HBoxModel",
          "model_module_version": "1.5.0",
          "state": {
            "_dom_classes": [],
            "_model_module": "@jupyter-widgets/controls",
            "_model_module_version": "1.5.0",
            "_model_name": "HBoxModel",
            "_view_count": null,
            "_view_module": "@jupyter-widgets/controls",
            "_view_module_version": "1.5.0",
            "_view_name": "HBoxView",
            "box_style": "",
            "children": [
              "IPY_MODEL_25d344f9881e4f6aa29d33436093788c",
              "IPY_MODEL_fdb888a5a93d4d5686bbf538b7b8d7bc",
              "IPY_MODEL_2a06c54898bb4e049a80fbc24279fda0"
            ],
            "layout": "IPY_MODEL_a5ed4228efdf4da19732db783352157c"
          }
        },
        "25d344f9881e4f6aa29d33436093788c": {
          "model_module": "@jupyter-widgets/controls",
          "model_name": "HTMLModel",
          "model_module_version": "1.5.0",
          "state": {
            "_dom_classes": [],
            "_model_module": "@jupyter-widgets/controls",
            "_model_module_version": "1.5.0",
            "_model_name": "HTMLModel",
            "_view_count": null,
            "_view_module": "@jupyter-widgets/controls",
            "_view_module_version": "1.5.0",
            "_view_name": "HTMLView",
            "description": "",
            "description_tooltip": null,
            "layout": "IPY_MODEL_02daf0967776455486f78d8c66d3a358",
            "placeholder": "​",
            "style": "IPY_MODEL_7b313b00f77641eab1ce71bcbd5abf49",
            "value": "Generating validation split: 100%"
          }
        },
        "fdb888a5a93d4d5686bbf538b7b8d7bc": {
          "model_module": "@jupyter-widgets/controls",
          "model_name": "FloatProgressModel",
          "model_module_version": "1.5.0",
          "state": {
            "_dom_classes": [],
            "_model_module": "@jupyter-widgets/controls",
            "_model_module_version": "1.5.0",
            "_model_name": "FloatProgressModel",
            "_view_count": null,
            "_view_module": "@jupyter-widgets/controls",
            "_view_module_version": "1.5.0",
            "_view_name": "ProgressView",
            "bar_style": "success",
            "description": "",
            "description_tooltip": null,
            "layout": "IPY_MODEL_7336a70b1def49f2a35fb9e7aefeeb1d",
            "max": 3250,
            "min": 0,
            "orientation": "horizontal",
            "style": "IPY_MODEL_ab4b64be7e6a4a76b255783c0f87f7aa",
            "value": 3250
          }
        },
        "2a06c54898bb4e049a80fbc24279fda0": {
          "model_module": "@jupyter-widgets/controls",
          "model_name": "HTMLModel",
          "model_module_version": "1.5.0",
          "state": {
            "_dom_classes": [],
            "_model_module": "@jupyter-widgets/controls",
            "_model_module_version": "1.5.0",
            "_model_name": "HTMLModel",
            "_view_count": null,
            "_view_module": "@jupyter-widgets/controls",
            "_view_module_version": "1.5.0",
            "_view_name": "HTMLView",
            "description": "",
            "description_tooltip": null,
            "layout": "IPY_MODEL_e5ec2ed488dd4023b8ac9adbebcd1d8f",
            "placeholder": "​",
            "style": "IPY_MODEL_c33e04f88439463c91a2a3a62bc9ff38",
            "value": " 3250/3250 [00:00&lt;00:00, 53150.21 examples/s]"
          }
        },
        "a5ed4228efdf4da19732db783352157c": {
          "model_module": "@jupyter-widgets/base",
          "model_name": "LayoutModel",
          "model_module_version": "1.2.0",
          "state": {
            "_model_module": "@jupyter-widgets/base",
            "_model_module_version": "1.2.0",
            "_model_name": "LayoutModel",
            "_view_count": null,
            "_view_module": "@jupyter-widgets/base",
            "_view_module_version": "1.2.0",
            "_view_name": "LayoutView",
            "align_content": null,
            "align_items": null,
            "align_self": null,
            "border": null,
            "bottom": null,
            "display": null,
            "flex": null,
            "flex_flow": null,
            "grid_area": null,
            "grid_auto_columns": null,
            "grid_auto_flow": null,
            "grid_auto_rows": null,
            "grid_column": null,
            "grid_gap": null,
            "grid_row": null,
            "grid_template_areas": null,
            "grid_template_columns": null,
            "grid_template_rows": null,
            "height": null,
            "justify_content": null,
            "justify_items": null,
            "left": null,
            "margin": null,
            "max_height": null,
            "max_width": null,
            "min_height": null,
            "min_width": null,
            "object_fit": null,
            "object_position": null,
            "order": null,
            "overflow": null,
            "overflow_x": null,
            "overflow_y": null,
            "padding": null,
            "right": null,
            "top": null,
            "visibility": null,
            "width": null
          }
        },
        "02daf0967776455486f78d8c66d3a358": {
          "model_module": "@jupyter-widgets/base",
          "model_name": "LayoutModel",
          "model_module_version": "1.2.0",
          "state": {
            "_model_module": "@jupyter-widgets/base",
            "_model_module_version": "1.2.0",
            "_model_name": "LayoutModel",
            "_view_count": null,
            "_view_module": "@jupyter-widgets/base",
            "_view_module_version": "1.2.0",
            "_view_name": "LayoutView",
            "align_content": null,
            "align_items": null,
            "align_self": null,
            "border": null,
            "bottom": null,
            "display": null,
            "flex": null,
            "flex_flow": null,
            "grid_area": null,
            "grid_auto_columns": null,
            "grid_auto_flow": null,
            "grid_auto_rows": null,
            "grid_column": null,
            "grid_gap": null,
            "grid_row": null,
            "grid_template_areas": null,
            "grid_template_columns": null,
            "grid_template_rows": null,
            "height": null,
            "justify_content": null,
            "justify_items": null,
            "left": null,
            "margin": null,
            "max_height": null,
            "max_width": null,
            "min_height": null,
            "min_width": null,
            "object_fit": null,
            "object_position": null,
            "order": null,
            "overflow": null,
            "overflow_x": null,
            "overflow_y": null,
            "padding": null,
            "right": null,
            "top": null,
            "visibility": null,
            "width": null
          }
        },
        "7b313b00f77641eab1ce71bcbd5abf49": {
          "model_module": "@jupyter-widgets/controls",
          "model_name": "DescriptionStyleModel",
          "model_module_version": "1.5.0",
          "state": {
            "_model_module": "@jupyter-widgets/controls",
            "_model_module_version": "1.5.0",
            "_model_name": "DescriptionStyleModel",
            "_view_count": null,
            "_view_module": "@jupyter-widgets/base",
            "_view_module_version": "1.2.0",
            "_view_name": "StyleView",
            "description_width": ""
          }
        },
        "7336a70b1def49f2a35fb9e7aefeeb1d": {
          "model_module": "@jupyter-widgets/base",
          "model_name": "LayoutModel",
          "model_module_version": "1.2.0",
          "state": {
            "_model_module": "@jupyter-widgets/base",
            "_model_module_version": "1.2.0",
            "_model_name": "LayoutModel",
            "_view_count": null,
            "_view_module": "@jupyter-widgets/base",
            "_view_module_version": "1.2.0",
            "_view_name": "LayoutView",
            "align_content": null,
            "align_items": null,
            "align_self": null,
            "border": null,
            "bottom": null,
            "display": null,
            "flex": null,
            "flex_flow": null,
            "grid_area": null,
            "grid_auto_columns": null,
            "grid_auto_flow": null,
            "grid_auto_rows": null,
            "grid_column": null,
            "grid_gap": null,
            "grid_row": null,
            "grid_template_areas": null,
            "grid_template_columns": null,
            "grid_template_rows": null,
            "height": null,
            "justify_content": null,
            "justify_items": null,
            "left": null,
            "margin": null,
            "max_height": null,
            "max_width": null,
            "min_height": null,
            "min_width": null,
            "object_fit": null,
            "object_position": null,
            "order": null,
            "overflow": null,
            "overflow_x": null,
            "overflow_y": null,
            "padding": null,
            "right": null,
            "top": null,
            "visibility": null,
            "width": null
          }
        },
        "ab4b64be7e6a4a76b255783c0f87f7aa": {
          "model_module": "@jupyter-widgets/controls",
          "model_name": "ProgressStyleModel",
          "model_module_version": "1.5.0",
          "state": {
            "_model_module": "@jupyter-widgets/controls",
            "_model_module_version": "1.5.0",
            "_model_name": "ProgressStyleModel",
            "_view_count": null,
            "_view_module": "@jupyter-widgets/base",
            "_view_module_version": "1.2.0",
            "_view_name": "StyleView",
            "bar_color": null,
            "description_width": ""
          }
        },
        "e5ec2ed488dd4023b8ac9adbebcd1d8f": {
          "model_module": "@jupyter-widgets/base",
          "model_name": "LayoutModel",
          "model_module_version": "1.2.0",
          "state": {
            "_model_module": "@jupyter-widgets/base",
            "_model_module_version": "1.2.0",
            "_model_name": "LayoutModel",
            "_view_count": null,
            "_view_module": "@jupyter-widgets/base",
            "_view_module_version": "1.2.0",
            "_view_name": "LayoutView",
            "align_content": null,
            "align_items": null,
            "align_self": null,
            "border": null,
            "bottom": null,
            "display": null,
            "flex": null,
            "flex_flow": null,
            "grid_area": null,
            "grid_auto_columns": null,
            "grid_auto_flow": null,
            "grid_auto_rows": null,
            "grid_column": null,
            "grid_gap": null,
            "grid_row": null,
            "grid_template_areas": null,
            "grid_template_columns": null,
            "grid_template_rows": null,
            "height": null,
            "justify_content": null,
            "justify_items": null,
            "left": null,
            "margin": null,
            "max_height": null,
            "max_width": null,
            "min_height": null,
            "min_width": null,
            "object_fit": null,
            "object_position": null,
            "order": null,
            "overflow": null,
            "overflow_x": null,
            "overflow_y": null,
            "padding": null,
            "right": null,
            "top": null,
            "visibility": null,
            "width": null
          }
        },
        "c33e04f88439463c91a2a3a62bc9ff38": {
          "model_module": "@jupyter-widgets/controls",
          "model_name": "DescriptionStyleModel",
          "model_module_version": "1.5.0",
          "state": {
            "_model_module": "@jupyter-widgets/controls",
            "_model_module_version": "1.5.0",
            "_model_name": "DescriptionStyleModel",
            "_view_count": null,
            "_view_module": "@jupyter-widgets/base",
            "_view_module_version": "1.2.0",
            "_view_name": "StyleView",
            "description_width": ""
          }
        },
        "dbf9a296b1ff48df857097fdef13308a": {
          "model_module": "@jupyter-widgets/controls",
          "model_name": "HBoxModel",
          "model_module_version": "1.5.0",
          "state": {
            "_dom_classes": [],
            "_model_module": "@jupyter-widgets/controls",
            "_model_module_version": "1.5.0",
            "_model_name": "HBoxModel",
            "_view_count": null,
            "_view_module": "@jupyter-widgets/controls",
            "_view_module_version": "1.5.0",
            "_view_name": "HBoxView",
            "box_style": "",
            "children": [
              "IPY_MODEL_290440d29d654307bfc622680aea3da9",
              "IPY_MODEL_1bf7fb960f764d15be31a7bbfbf89ff9",
              "IPY_MODEL_4be35b3df66a466db8dd1ff71648a92d"
            ],
            "layout": "IPY_MODEL_84c04f521ac241639fb18efa90cc8089"
          }
        },
        "290440d29d654307bfc622680aea3da9": {
          "model_module": "@jupyter-widgets/controls",
          "model_name": "HTMLModel",
          "model_module_version": "1.5.0",
          "state": {
            "_dom_classes": [],
            "_model_module": "@jupyter-widgets/controls",
            "_model_module_version": "1.5.0",
            "_model_name": "HTMLModel",
            "_view_count": null,
            "_view_module": "@jupyter-widgets/controls",
            "_view_module_version": "1.5.0",
            "_view_name": "HTMLView",
            "description": "",
            "description_tooltip": null,
            "layout": "IPY_MODEL_cc304202477e4900b5fc430d1e353e14",
            "placeholder": "​",
            "style": "IPY_MODEL_f5885e5c666042cb9dc00f76ace8c894",
            "value": "Generating test split: 100%"
          }
        },
        "1bf7fb960f764d15be31a7bbfbf89ff9": {
          "model_module": "@jupyter-widgets/controls",
          "model_name": "FloatProgressModel",
          "model_module_version": "1.5.0",
          "state": {
            "_dom_classes": [],
            "_model_module": "@jupyter-widgets/controls",
            "_model_module_version": "1.5.0",
            "_model_name": "FloatProgressModel",
            "_view_count": null,
            "_view_module": "@jupyter-widgets/controls",
            "_view_module_version": "1.5.0",
            "_view_name": "ProgressView",
            "bar_style": "success",
            "description": "",
            "description_tooltip": null,
            "layout": "IPY_MODEL_8355b3e9763d41e48a170e35f5b89632",
            "max": 3453,
            "min": 0,
            "orientation": "horizontal",
            "style": "IPY_MODEL_0b587dc4a2ef4b149dc03ede42fff2a8",
            "value": 3453
          }
        },
        "4be35b3df66a466db8dd1ff71648a92d": {
          "model_module": "@jupyter-widgets/controls",
          "model_name": "HTMLModel",
          "model_module_version": "1.5.0",
          "state": {
            "_dom_classes": [],
            "_model_module": "@jupyter-widgets/controls",
            "_model_module_version": "1.5.0",
            "_model_name": "HTMLModel",
            "_view_count": null,
            "_view_module": "@jupyter-widgets/controls",
            "_view_module_version": "1.5.0",
            "_view_name": "HTMLView",
            "description": "",
            "description_tooltip": null,
            "layout": "IPY_MODEL_8db46544f7964754bf4a4bb9d60b7683",
            "placeholder": "​",
            "style": "IPY_MODEL_2821898836d9400fa2b72ed941879f01",
            "value": " 3453/3453 [00:00&lt;00:00, 81501.23 examples/s]"
          }
        },
        "84c04f521ac241639fb18efa90cc8089": {
          "model_module": "@jupyter-widgets/base",
          "model_name": "LayoutModel",
          "model_module_version": "1.2.0",
          "state": {
            "_model_module": "@jupyter-widgets/base",
            "_model_module_version": "1.2.0",
            "_model_name": "LayoutModel",
            "_view_count": null,
            "_view_module": "@jupyter-widgets/base",
            "_view_module_version": "1.2.0",
            "_view_name": "LayoutView",
            "align_content": null,
            "align_items": null,
            "align_self": null,
            "border": null,
            "bottom": null,
            "display": null,
            "flex": null,
            "flex_flow": null,
            "grid_area": null,
            "grid_auto_columns": null,
            "grid_auto_flow": null,
            "grid_auto_rows": null,
            "grid_column": null,
            "grid_gap": null,
            "grid_row": null,
            "grid_template_areas": null,
            "grid_template_columns": null,
            "grid_template_rows": null,
            "height": null,
            "justify_content": null,
            "justify_items": null,
            "left": null,
            "margin": null,
            "max_height": null,
            "max_width": null,
            "min_height": null,
            "min_width": null,
            "object_fit": null,
            "object_position": null,
            "order": null,
            "overflow": null,
            "overflow_x": null,
            "overflow_y": null,
            "padding": null,
            "right": null,
            "top": null,
            "visibility": null,
            "width": null
          }
        },
        "cc304202477e4900b5fc430d1e353e14": {
          "model_module": "@jupyter-widgets/base",
          "model_name": "LayoutModel",
          "model_module_version": "1.2.0",
          "state": {
            "_model_module": "@jupyter-widgets/base",
            "_model_module_version": "1.2.0",
            "_model_name": "LayoutModel",
            "_view_count": null,
            "_view_module": "@jupyter-widgets/base",
            "_view_module_version": "1.2.0",
            "_view_name": "LayoutView",
            "align_content": null,
            "align_items": null,
            "align_self": null,
            "border": null,
            "bottom": null,
            "display": null,
            "flex": null,
            "flex_flow": null,
            "grid_area": null,
            "grid_auto_columns": null,
            "grid_auto_flow": null,
            "grid_auto_rows": null,
            "grid_column": null,
            "grid_gap": null,
            "grid_row": null,
            "grid_template_areas": null,
            "grid_template_columns": null,
            "grid_template_rows": null,
            "height": null,
            "justify_content": null,
            "justify_items": null,
            "left": null,
            "margin": null,
            "max_height": null,
            "max_width": null,
            "min_height": null,
            "min_width": null,
            "object_fit": null,
            "object_position": null,
            "order": null,
            "overflow": null,
            "overflow_x": null,
            "overflow_y": null,
            "padding": null,
            "right": null,
            "top": null,
            "visibility": null,
            "width": null
          }
        },
        "f5885e5c666042cb9dc00f76ace8c894": {
          "model_module": "@jupyter-widgets/controls",
          "model_name": "DescriptionStyleModel",
          "model_module_version": "1.5.0",
          "state": {
            "_model_module": "@jupyter-widgets/controls",
            "_model_module_version": "1.5.0",
            "_model_name": "DescriptionStyleModel",
            "_view_count": null,
            "_view_module": "@jupyter-widgets/base",
            "_view_module_version": "1.2.0",
            "_view_name": "StyleView",
            "description_width": ""
          }
        },
        "8355b3e9763d41e48a170e35f5b89632": {
          "model_module": "@jupyter-widgets/base",
          "model_name": "LayoutModel",
          "model_module_version": "1.2.0",
          "state": {
            "_model_module": "@jupyter-widgets/base",
            "_model_module_version": "1.2.0",
            "_model_name": "LayoutModel",
            "_view_count": null,
            "_view_module": "@jupyter-widgets/base",
            "_view_module_version": "1.2.0",
            "_view_name": "LayoutView",
            "align_content": null,
            "align_items": null,
            "align_self": null,
            "border": null,
            "bottom": null,
            "display": null,
            "flex": null,
            "flex_flow": null,
            "grid_area": null,
            "grid_auto_columns": null,
            "grid_auto_flow": null,
            "grid_auto_rows": null,
            "grid_column": null,
            "grid_gap": null,
            "grid_row": null,
            "grid_template_areas": null,
            "grid_template_columns": null,
            "grid_template_rows": null,
            "height": null,
            "justify_content": null,
            "justify_items": null,
            "left": null,
            "margin": null,
            "max_height": null,
            "max_width": null,
            "min_height": null,
            "min_width": null,
            "object_fit": null,
            "object_position": null,
            "order": null,
            "overflow": null,
            "overflow_x": null,
            "overflow_y": null,
            "padding": null,
            "right": null,
            "top": null,
            "visibility": null,
            "width": null
          }
        },
        "0b587dc4a2ef4b149dc03ede42fff2a8": {
          "model_module": "@jupyter-widgets/controls",
          "model_name": "ProgressStyleModel",
          "model_module_version": "1.5.0",
          "state": {
            "_model_module": "@jupyter-widgets/controls",
            "_model_module_version": "1.5.0",
            "_model_name": "ProgressStyleModel",
            "_view_count": null,
            "_view_module": "@jupyter-widgets/base",
            "_view_module_version": "1.2.0",
            "_view_name": "StyleView",
            "bar_color": null,
            "description_width": ""
          }
        },
        "8db46544f7964754bf4a4bb9d60b7683": {
          "model_module": "@jupyter-widgets/base",
          "model_name": "LayoutModel",
          "model_module_version": "1.2.0",
          "state": {
            "_model_module": "@jupyter-widgets/base",
            "_model_module_version": "1.2.0",
            "_model_name": "LayoutModel",
            "_view_count": null,
            "_view_module": "@jupyter-widgets/base",
            "_view_module_version": "1.2.0",
            "_view_name": "LayoutView",
            "align_content": null,
            "align_items": null,
            "align_self": null,
            "border": null,
            "bottom": null,
            "display": null,
            "flex": null,
            "flex_flow": null,
            "grid_area": null,
            "grid_auto_columns": null,
            "grid_auto_flow": null,
            "grid_auto_rows": null,
            "grid_column": null,
            "grid_gap": null,
            "grid_row": null,
            "grid_template_areas": null,
            "grid_template_columns": null,
            "grid_template_rows": null,
            "height": null,
            "justify_content": null,
            "justify_items": null,
            "left": null,
            "margin": null,
            "max_height": null,
            "max_width": null,
            "min_height": null,
            "min_width": null,
            "object_fit": null,
            "object_position": null,
            "order": null,
            "overflow": null,
            "overflow_x": null,
            "overflow_y": null,
            "padding": null,
            "right": null,
            "top": null,
            "visibility": null,
            "width": null
          }
        },
        "2821898836d9400fa2b72ed941879f01": {
          "model_module": "@jupyter-widgets/controls",
          "model_name": "DescriptionStyleModel",
          "model_module_version": "1.5.0",
          "state": {
            "_model_module": "@jupyter-widgets/controls",
            "_model_module_version": "1.5.0",
            "_model_name": "DescriptionStyleModel",
            "_view_count": null,
            "_view_module": "@jupyter-widgets/base",
            "_view_module_version": "1.2.0",
            "_view_name": "StyleView",
            "description_width": ""
          }
        }
      }
    }
  },
  "nbformat": 4,
  "nbformat_minor": 0
}