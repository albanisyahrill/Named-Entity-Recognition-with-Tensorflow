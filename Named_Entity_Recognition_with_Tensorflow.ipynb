{
  "cells": [
    {
      "cell_type": "markdown",
      "source": [
        "# Named Entity Recognition Menggunakan Tensorflow"
      ],
      "metadata": {
        "id": "WqEQMVxD-6ud"
      }
    },
    {
      "cell_type": "markdown",
      "source": [
        "Download package datasets dari library `Hugging Face`"
      ],
      "metadata": {
        "id": "iuQAKPGi8YY4"
      }
    },
    {
      "cell_type": "code",
      "source": [
        "!pip install datasets"
      ],
      "metadata": {
        "colab": {
          "base_uri": "https://localhost:8080/"
        },
        "id": "X-ZjeieAjkMY",
        "outputId": "4b00d20f-629a-4581-c819-6f3aca965908"
      },
      "execution_count": 1,
      "outputs": [
        {
          "output_type": "stream",
          "name": "stdout",
          "text": [
            "Collecting datasets\n",
            "  Downloading datasets-2.19.0-py3-none-any.whl (542 kB)\n",
            "\u001b[2K     \u001b[90m━━━━━━━━━━━━━━━━━━━━━━━━━━━━━━━━━━━━━━━━\u001b[0m \u001b[32m542.0/542.0 kB\u001b[0m \u001b[31m4.5 MB/s\u001b[0m eta \u001b[36m0:00:00\u001b[0m\n",
            "\u001b[?25hRequirement already satisfied: filelock in /usr/local/lib/python3.10/dist-packages (from datasets) (3.13.4)\n",
            "Requirement already satisfied: numpy>=1.17 in /usr/local/lib/python3.10/dist-packages (from datasets) (1.25.2)\n",
            "Requirement already satisfied: pyarrow>=12.0.0 in /usr/local/lib/python3.10/dist-packages (from datasets) (14.0.2)\n",
            "Requirement already satisfied: pyarrow-hotfix in /usr/local/lib/python3.10/dist-packages (from datasets) (0.6)\n",
            "Collecting dill<0.3.9,>=0.3.0 (from datasets)\n",
            "  Downloading dill-0.3.8-py3-none-any.whl (116 kB)\n",
            "\u001b[2K     \u001b[90m━━━━━━━━━━━━━━━━━━━━━━━━━━━━━━━━━━━━━━━━\u001b[0m \u001b[32m116.3/116.3 kB\u001b[0m \u001b[31m7.7 MB/s\u001b[0m eta \u001b[36m0:00:00\u001b[0m\n",
            "\u001b[?25hRequirement already satisfied: pandas in /usr/local/lib/python3.10/dist-packages (from datasets) (2.0.3)\n",
            "Requirement already satisfied: requests>=2.19.0 in /usr/local/lib/python3.10/dist-packages (from datasets) (2.31.0)\n",
            "Requirement already satisfied: tqdm>=4.62.1 in /usr/local/lib/python3.10/dist-packages (from datasets) (4.66.2)\n",
            "Collecting xxhash (from datasets)\n",
            "  Downloading xxhash-3.4.1-cp310-cp310-manylinux_2_17_x86_64.manylinux2014_x86_64.whl (194 kB)\n",
            "\u001b[2K     \u001b[90m━━━━━━━━━━━━━━━━━━━━━━━━━━━━━━━━━━━━━━━━\u001b[0m \u001b[32m194.1/194.1 kB\u001b[0m \u001b[31m8.4 MB/s\u001b[0m eta \u001b[36m0:00:00\u001b[0m\n",
            "\u001b[?25hCollecting multiprocess (from datasets)\n",
            "  Downloading multiprocess-0.70.16-py310-none-any.whl (134 kB)\n",
            "\u001b[2K     \u001b[90m━━━━━━━━━━━━━━━━━━━━━━━━━━━━━━━━━━━━━━━━\u001b[0m \u001b[32m134.8/134.8 kB\u001b[0m \u001b[31m8.0 MB/s\u001b[0m eta \u001b[36m0:00:00\u001b[0m\n",
            "\u001b[?25hRequirement already satisfied: fsspec[http]<=2024.3.1,>=2023.1.0 in /usr/local/lib/python3.10/dist-packages (from datasets) (2023.6.0)\n",
            "Requirement already satisfied: aiohttp in /usr/local/lib/python3.10/dist-packages (from datasets) (3.9.5)\n",
            "Collecting huggingface-hub>=0.21.2 (from datasets)\n",
            "  Downloading huggingface_hub-0.22.2-py3-none-any.whl (388 kB)\n",
            "\u001b[2K     \u001b[90m━━━━━━━━━━━━━━━━━━━━━━━━━━━━━━━━━━━━━━━━\u001b[0m \u001b[32m388.9/388.9 kB\u001b[0m \u001b[31m10.5 MB/s\u001b[0m eta \u001b[36m0:00:00\u001b[0m\n",
            "\u001b[?25hRequirement already satisfied: packaging in /usr/local/lib/python3.10/dist-packages (from datasets) (24.0)\n",
            "Requirement already satisfied: pyyaml>=5.1 in /usr/local/lib/python3.10/dist-packages (from datasets) (6.0.1)\n",
            "Requirement already satisfied: aiosignal>=1.1.2 in /usr/local/lib/python3.10/dist-packages (from aiohttp->datasets) (1.3.1)\n",
            "Requirement already satisfied: attrs>=17.3.0 in /usr/local/lib/python3.10/dist-packages (from aiohttp->datasets) (23.2.0)\n",
            "Requirement already satisfied: frozenlist>=1.1.1 in /usr/local/lib/python3.10/dist-packages (from aiohttp->datasets) (1.4.1)\n",
            "Requirement already satisfied: multidict<7.0,>=4.5 in /usr/local/lib/python3.10/dist-packages (from aiohttp->datasets) (6.0.5)\n",
            "Requirement already satisfied: yarl<2.0,>=1.0 in /usr/local/lib/python3.10/dist-packages (from aiohttp->datasets) (1.9.4)\n",
            "Requirement already satisfied: async-timeout<5.0,>=4.0 in /usr/local/lib/python3.10/dist-packages (from aiohttp->datasets) (4.0.3)\n",
            "Requirement already satisfied: typing-extensions>=3.7.4.3 in /usr/local/lib/python3.10/dist-packages (from huggingface-hub>=0.21.2->datasets) (4.11.0)\n",
            "Requirement already satisfied: charset-normalizer<4,>=2 in /usr/local/lib/python3.10/dist-packages (from requests>=2.19.0->datasets) (3.3.2)\n",
            "Requirement already satisfied: idna<4,>=2.5 in /usr/local/lib/python3.10/dist-packages (from requests>=2.19.0->datasets) (3.7)\n",
            "Requirement already satisfied: urllib3<3,>=1.21.1 in /usr/local/lib/python3.10/dist-packages (from requests>=2.19.0->datasets) (2.0.7)\n",
            "Requirement already satisfied: certifi>=2017.4.17 in /usr/local/lib/python3.10/dist-packages (from requests>=2.19.0->datasets) (2024.2.2)\n",
            "Requirement already satisfied: python-dateutil>=2.8.2 in /usr/local/lib/python3.10/dist-packages (from pandas->datasets) (2.8.2)\n",
            "Requirement already satisfied: pytz>=2020.1 in /usr/local/lib/python3.10/dist-packages (from pandas->datasets) (2023.4)\n",
            "Requirement already satisfied: tzdata>=2022.1 in /usr/local/lib/python3.10/dist-packages (from pandas->datasets) (2024.1)\n",
            "Requirement already satisfied: six>=1.5 in /usr/local/lib/python3.10/dist-packages (from python-dateutil>=2.8.2->pandas->datasets) (1.16.0)\n",
            "Installing collected packages: xxhash, dill, multiprocess, huggingface-hub, datasets\n",
            "  Attempting uninstall: huggingface-hub\n",
            "    Found existing installation: huggingface-hub 0.20.3\n",
            "    Uninstalling huggingface-hub-0.20.3:\n",
            "      Successfully uninstalled huggingface-hub-0.20.3\n",
            "Successfully installed datasets-2.19.0 dill-0.3.8 huggingface-hub-0.22.2 multiprocess-0.70.16 xxhash-3.4.1\n"
          ]
        }
      ]
    },
    {
      "cell_type": "markdown",
      "source": [
        "Import library yang dibutuhkan"
      ],
      "metadata": {
        "id": "6PoGEsY1-cNx"
      }
    },
    {
      "cell_type": "code",
      "execution_count": 2,
      "metadata": {
        "id": "H0zEEs-asXYg"
      },
      "outputs": [],
      "source": [
        "import tensorflow as tf\n",
        "from tensorflow.keras.layers import TextVectorization, Embedding, Bidirectional, LSTM, Dense\n",
        "import numpy as np\n",
        "from datasets import load_dataset\n",
        "import matplotlib.pyplot as plt"
      ]
    },
    {
      "cell_type": "markdown",
      "source": [
        "## Load Dataset"
      ],
      "metadata": {
        "id": "CBOKLwpEjdkm"
      }
    },
    {
      "cell_type": "markdown",
      "source": [
        "Load dataset `conll2003` yang biasa dipakai untuk pembuatan model `Named Entity Recognition` dari `Hugging Face`"
      ],
      "metadata": {
        "id": "hV9YaUdy-ig3"
      }
    },
    {
      "cell_type": "code",
      "execution_count": 3,
      "metadata": {
        "colab": {
          "base_uri": "https://localhost:8080/",
          "height": 320,
          "referenced_widgets": [
            "aa6bda5ee6734c4b9ab87371ef0dec66",
            "a9a4cf6d0b9943a781392b99b9c59613",
            "caf1adaf9d1b48f0b6d36ca5064964ae",
            "0e8273c77faf46a88819c58a3dd0d3d3",
            "57add00e00a94b0fa8d35475b53ceee8",
            "a9d3dfbd484f4cbda51bf15f2590f5c1",
            "b17f5bafed1341e0aba84e84546bc941",
            "82134c14047e45448ad32c427feeedf4",
            "7196e5caaf80485a81624894a37bd323",
            "05ddecf1299d4532ac9993ab929e226e",
            "0c7cf093a1a9450e9d46776508e5923a",
            "963e64340fdf44e5a7619f4583e35b54",
            "f80369802c274f548fe78482dc5ddfb7",
            "73d8211c16164365ba597fbce2ea6ccf",
            "4681507e5fcd4ca69837d21ee6739f02",
            "885e0438ed89432f823ac2a49349f79a",
            "5b7552490c464b788bbb700ee8a5dc9e",
            "123a307576c44278a9b3eae2283e19e5",
            "2605a6ac1741429e9e2e26574d88b26e",
            "111519fd6da24668a05346bf47c9251b",
            "99637af3926e48c1b7c6ba006424bcde",
            "4333bdb6f034416aadc1d2a314f1c919",
            "2038efc992dd456eafbfa5d97389b9a1",
            "fd53d7b77b514efabf90384553928a93",
            "1f40c0cfa03245db849dbdf3ba0bcbb7",
            "f713dc4b29194a57b9927aa374829f6f",
            "3f14987881664f8698b65a2e50b7e409",
            "e690847a48154a928cdf1b34cce5d96c",
            "9e6affafe32f46fc8773d53629d3f34f",
            "6e4cf05f0e474db48d04622dc3ee3570",
            "29bc772ef7a34ea180a49abce953c8c3",
            "c962a913d1ec4e8fad9673c28b08f827",
            "acfedbb573c0402b830a9a705507c3ca",
            "073d8772910d414f9f1ad4d8db1cb41a",
            "b557aa3736574e93961c0b796b481ad8",
            "6bcf9216cfab4b35a493e412b7143a9d",
            "fcf3613e2c084b9f98bc6ca6ed7d1cf1",
            "a9a04e137b7444b2babf810b7de7f661",
            "2b0f896632994ebe9979f23b17291a7b",
            "a4858628ce194a6a885a46a7774260c6",
            "6b2277c9f5724f459c0e6117a11ae7d9",
            "e44e860b00314d67be452dc83fdc85f3",
            "9985b0c8b7e84fb1882a4c8b484c682e",
            "48a6727404c54579b16e5abe3d51e359",
            "4893b353e72e4e8e8b572cbf908c6fc3",
            "3cfd4ab0e05a4e66bda8af535ecdeb2b",
            "ca0a62c57f864814916d2e8a6d8db905",
            "ddb3e06c5aa04430b8913c451069ca8c",
            "cc3c2e9db42f41649a6de08dcb5ee3a0",
            "470699cabcd246ca961b6317669839e1",
            "09451fe2f4a34c14ad45c80e32cfad2b",
            "5380956b45ab4241bda957fa58e4e611",
            "4af43b9657474853b9fc3cb216be6d8a",
            "4b9fcd5665ed4b749415b5987b9dfe99",
            "2530574cdedf43b58d542ed68e255bfa",
            "63e70c2e65b34005baac74e857673a77",
            "6118a2b71c3e469b9da0685b3e41e808",
            "6bcc8ccaedc340f9944c2e7f5a2e4333",
            "49eade5dca3742fca747fa03bc4e9dd2",
            "01d8c252449d49c5890d590eeb387ccf",
            "b621c76e00c24e66b6b370fd41250525",
            "10bad87d0c1742b490f1948844739d2c",
            "e7eb56777239432bac124701f3187d4c",
            "d075be46f9c441e38de336fa83c5da9b",
            "a5ef38763e9a4f7a946869a66077b33b",
            "4e14b4cfe2864e5b8e50fbbb6205027b"
          ]
        },
        "id": "3OpLqCuzsbDH",
        "outputId": "dd23cb94-2b47-49d3-aead-d4ad9bdd3bdf"
      },
      "outputs": [
        {
          "output_type": "stream",
          "name": "stderr",
          "text": [
            "/usr/local/lib/python3.10/dist-packages/huggingface_hub/utils/_token.py:89: UserWarning: \n",
            "The secret `HF_TOKEN` does not exist in your Colab secrets.\n",
            "To authenticate with the Hugging Face Hub, create a token in your settings tab (https://huggingface.co/settings/tokens), set it as secret in your Google Colab and restart your session.\n",
            "You will be able to reuse this secret in all of your notebooks.\n",
            "Please note that authentication is recommended but still optional to access public models or datasets.\n",
            "  warnings.warn(\n"
          ]
        },
        {
          "output_type": "display_data",
          "data": {
            "text/plain": [
              "Downloading data:   0%|          | 0.00/1.23M [00:00<?, ?B/s]"
            ],
            "application/vnd.jupyter.widget-view+json": {
              "version_major": 2,
              "version_minor": 0,
              "model_id": "aa6bda5ee6734c4b9ab87371ef0dec66"
            }
          },
          "metadata": {}
        },
        {
          "output_type": "display_data",
          "data": {
            "text/plain": [
              "Downloading data:   0%|          | 0.00/312k [00:00<?, ?B/s]"
            ],
            "application/vnd.jupyter.widget-view+json": {
              "version_major": 2,
              "version_minor": 0,
              "model_id": "963e64340fdf44e5a7619f4583e35b54"
            }
          },
          "metadata": {}
        },
        {
          "output_type": "display_data",
          "data": {
            "text/plain": [
              "Downloading data:   0%|          | 0.00/283k [00:00<?, ?B/s]"
            ],
            "application/vnd.jupyter.widget-view+json": {
              "version_major": 2,
              "version_minor": 0,
              "model_id": "2038efc992dd456eafbfa5d97389b9a1"
            }
          },
          "metadata": {}
        },
        {
          "output_type": "display_data",
          "data": {
            "text/plain": [
              "Generating train split:   0%|          | 0/14041 [00:00<?, ? examples/s]"
            ],
            "application/vnd.jupyter.widget-view+json": {
              "version_major": 2,
              "version_minor": 0,
              "model_id": "073d8772910d414f9f1ad4d8db1cb41a"
            }
          },
          "metadata": {}
        },
        {
          "output_type": "display_data",
          "data": {
            "text/plain": [
              "Generating validation split:   0%|          | 0/3250 [00:00<?, ? examples/s]"
            ],
            "application/vnd.jupyter.widget-view+json": {
              "version_major": 2,
              "version_minor": 0,
              "model_id": "4893b353e72e4e8e8b572cbf908c6fc3"
            }
          },
          "metadata": {}
        },
        {
          "output_type": "display_data",
          "data": {
            "text/plain": [
              "Generating test split:   0%|          | 0/3453 [00:00<?, ? examples/s]"
            ],
            "application/vnd.jupyter.widget-view+json": {
              "version_major": 2,
              "version_minor": 0,
              "model_id": "63e70c2e65b34005baac74e857673a77"
            }
          },
          "metadata": {}
        }
      ],
      "source": [
        "dataset = load_dataset(\"conll2003\")"
      ]
    },
    {
      "cell_type": "code",
      "source": [
        "print(dataset)"
      ],
      "metadata": {
        "colab": {
          "base_uri": "https://localhost:8080/"
        },
        "id": "k6qCPXVkj3F6",
        "outputId": "3b981864-bba3-4abe-eb5e-c42a5e3a353e"
      },
      "execution_count": 4,
      "outputs": [
        {
          "output_type": "stream",
          "name": "stdout",
          "text": [
            "DatasetDict({\n",
            "    train: Dataset({\n",
            "        features: ['id', 'tokens', 'pos_tags', 'chunk_tags', 'ner_tags'],\n",
            "        num_rows: 14041\n",
            "    })\n",
            "    validation: Dataset({\n",
            "        features: ['id', 'tokens', 'pos_tags', 'chunk_tags', 'ner_tags'],\n",
            "        num_rows: 3250\n",
            "    })\n",
            "    test: Dataset({\n",
            "        features: ['id', 'tokens', 'pos_tags', 'chunk_tags', 'ner_tags'],\n",
            "        num_rows: 3453\n",
            "    })\n",
            "})\n"
          ]
        }
      ]
    },
    {
      "cell_type": "markdown",
      "source": [
        "Mengelompokkan dataset menjadi Train, Validation dan Test"
      ],
      "metadata": {
        "id": "iq0PtYBE-4PK"
      }
    },
    {
      "cell_type": "code",
      "execution_count": 5,
      "metadata": {
        "id": "BGAc5RPUvP2v"
      },
      "outputs": [],
      "source": [
        "train_data = dataset['train']\n",
        "val_data = dataset['validation']\n",
        "test_data = dataset['test']"
      ]
    },
    {
      "cell_type": "markdown",
      "source": [
        "Parsing dataset Train menjadi `train_sentences` dan `train_labels`"
      ],
      "metadata": {
        "id": "tctkDzG0_SlG"
      }
    },
    {
      "cell_type": "code",
      "execution_count": 6,
      "metadata": {
        "id": "HZAtcU2T2RB9"
      },
      "outputs": [],
      "source": [
        "train_sentences = [example['tokens'] for example in train_data]\n",
        "train_labels = [np.array(example['ner_tags']) for example in train_data]"
      ]
    },
    {
      "cell_type": "code",
      "execution_count": 7,
      "metadata": {
        "colab": {
          "base_uri": "https://localhost:8080/"
        },
        "id": "iDfWhuGF40xj",
        "outputId": "2c1ba27f-260f-46a2-95c6-3218cc285852"
      },
      "outputs": [
        {
          "output_type": "stream",
          "name": "stdout",
          "text": [
            "Sentences: ['EU', 'rejects', 'German', 'call', 'to', 'boycott', 'British', 'lamb', '.']\n",
            "Labels: [3 0 7 0 0 0 7 0 0]\n",
            "\n",
            "Label information: {'O': 0, 'B-PER': 1, 'I-PER': 2, 'B-ORG': 3, 'I-ORG': 4, 'B-LOC': 5, 'I-LOC': 6, 'B-MISC': 7, 'I-MISC': 8}\n"
          ]
        }
      ],
      "source": [
        "tag_maps = {'O': 0, 'B-PER': 1, 'I-PER': 2, 'B-ORG': 3, 'I-ORG': 4, 'B-LOC': 5, 'I-LOC': 6, 'B-MISC': 7, 'I-MISC': 8}\n",
        "\n",
        "print(f'Sentences: {train_sentences[0]}')\n",
        "print(f'Labels: {train_labels[0]}\\n')\n",
        "print(f'Label information: {tag_maps}')"
      ]
    },
    {
      "cell_type": "markdown",
      "source": [
        "## Pre-processed Text"
      ],
      "metadata": {
        "id": "UQQfaSN3ji0J"
      }
    },
    {
      "cell_type": "markdown",
      "source": [
        "Membuat function `parsing_nested_list_to_list` untuk memparsing nested list menjadi list biasa, dan diubah formatnya menjadi numpy array. Function ini dibuat supaya bisa feed dataset kedalam layers `TextVectorization`"
      ],
      "metadata": {
        "id": "PBUxjJUM_30m"
      }
    },
    {
      "cell_type": "code",
      "source": [
        "def parsing_nested_list_to_list(sentences):\n",
        "  # Inisialisasi list kosong untuk menyimpan hasil pengolahan teks\n",
        "  text_seq = []\n",
        "\n",
        "  for sentence in sentences:\n",
        "    # Menggabungkan setiap kata dalam kalimat menjadi satu string menggunakan ' '.join()\n",
        "    text = ' '.join(sentence)\n",
        "    # Menambahkan kalimat yang telah diproses ke dalam list text_seq\n",
        "    text_seq.append(text)\n",
        "\n",
        "  # Mereturn list text_seq yang telah dikonversi menjadi numpy array\n",
        "  return np.array(text_seq)"
      ],
      "metadata": {
        "id": "ShRe7SjliNa4"
      },
      "execution_count": 8,
      "outputs": []
    },
    {
      "cell_type": "code",
      "source": [
        "train_sentences = parsing_nested_list_to_list(train_sentences)"
      ],
      "metadata": {
        "id": "KPGGzBsnik2-"
      },
      "execution_count": 9,
      "outputs": []
    },
    {
      "cell_type": "code",
      "source": [
        "print(f'Sentences: {train_sentences[0]}')\n",
        "print(f'Data type: {type(train_sentences)}')"
      ],
      "metadata": {
        "colab": {
          "base_uri": "https://localhost:8080/"
        },
        "id": "o1ceYzOQz8e3",
        "outputId": "6bb7de90-cd7f-4f4c-c3e1-752b5e737782"
      },
      "execution_count": 10,
      "outputs": [
        {
          "output_type": "stream",
          "name": "stdout",
          "text": [
            "Sentences: EU rejects German call to boycott British lamb .\n",
            "Data type: <class 'numpy.ndarray'>\n"
          ]
        }
      ]
    },
    {
      "cell_type": "markdown",
      "source": [
        "Membuat function `get_sentence_vectorizer` yang memfeed dataset kedalam layers `TextVectorization`. Layers`TextVectorization` ini menghanlde tokenisasi dan vektorisasi dalam satu langkah agar mudah diintegrasikan kedalam arsitektur model."
      ],
      "metadata": {
        "id": "nII2gTKbBdot"
      }
    },
    {
      "cell_type": "code",
      "execution_count": 11,
      "metadata": {
        "id": "9f2ff5SA1DxI"
      },
      "outputs": [],
      "source": [
        "def get_sentence_vectorizer(sentences):\n",
        "  # Inisialisasi layers TextVectorization untuk vektorisasi kalimat\n",
        "  sentence_vectorizer = TextVectorization(standardize = None)\n",
        "  # Melatih vectorizer menggunakan data kalimat yang diberikan\n",
        "  sentence_vectorizer.adapt(sentences)\n",
        "  # Mendapatkan daftar kosakata dari vectorizer\n",
        "  vocab = sentence_vectorizer.get_vocabulary()\n",
        "\n",
        "  return sentence_vectorizer, vocab"
      ]
    },
    {
      "cell_type": "code",
      "execution_count": 12,
      "metadata": {
        "id": "OEHNME744rwe"
      },
      "outputs": [],
      "source": [
        "sentence_vectorizer, vocab = get_sentence_vectorizer(train_sentences)"
      ]
    },
    {
      "cell_type": "code",
      "execution_count": 13,
      "metadata": {
        "id": "oYQHysN6u_s4",
        "colab": {
          "base_uri": "https://localhost:8080/"
        },
        "outputId": "d9f3ad2e-1d79-4e13-c437-9bd1047b6eef"
      },
      "outputs": [
        {
          "output_type": "stream",
          "name": "stdout",
          "text": [
            "Example sentences: French is always be my favourite place to go\n",
            "Vectorized Sentence: [ 302   29 1192   40  445 6743  443    7  339]\n"
          ]
        }
      ],
      "source": [
        "sentence = 'French is always be my favourite place to go'\n",
        "\n",
        "sentence_vectorized = sentence_vectorizer(sentence)\n",
        "print(f'Example sentences: {sentence}')\n",
        "print(f'Vectorized Sentence: {sentence_vectorized.numpy()}')"
      ]
    },
    {
      "cell_type": "markdown",
      "source": [
        "Membuat function `padded_labels` untuk memberikan padding berdasarkan kalimat terpanjang agar memiliki panjang kalimat yang konsisten dan dapat difeed ke model saat proses training"
      ],
      "metadata": {
        "id": "iHtrKHHYDxao"
      }
    },
    {
      "cell_type": "code",
      "source": [
        "def padded_labels(labels):\n",
        "  # Menggunakan fungsi pad_sequences dari TensorFlow Keras untuk menyamakan panjang label/kalimat.\n",
        "  # Parameter padding='post' digunakan untuk memastikan padding dilakukan setelah sequence.\n",
        "  # Parameter value=-1 digunakan untuk menentukan nilai yang digunakan untuk padding.\n",
        "  labels_ids = tf.keras.utils.pad_sequences(labels, padding='post', value=-1)\n",
        "\n",
        "  return labels_ids"
      ],
      "metadata": {
        "id": "_8VHQ6wEgkpW"
      },
      "execution_count": 14,
      "outputs": []
    },
    {
      "cell_type": "code",
      "source": [
        "train_labels = padded_labels(train_labels)"
      ],
      "metadata": {
        "id": "Ss7W0R2Wh8-5"
      },
      "execution_count": 15,
      "outputs": []
    },
    {
      "cell_type": "code",
      "source": [
        "print(f'Labels after padded: {train_labels[0]}')"
      ],
      "metadata": {
        "colab": {
          "base_uri": "https://localhost:8080/"
        },
        "id": "dLnFMSOuoIb_",
        "outputId": "9d1c55fb-d9ca-411c-be67-4af13fd8f510"
      },
      "execution_count": 16,
      "outputs": [
        {
          "output_type": "stream",
          "name": "stdout",
          "text": [
            "Labels after padded: [ 3  0  7  0  0  0  7  0  0 -1 -1 -1 -1 -1 -1 -1 -1 -1 -1 -1 -1 -1 -1 -1\n",
            " -1 -1 -1 -1 -1 -1 -1 -1 -1 -1 -1 -1 -1 -1 -1 -1 -1 -1 -1 -1 -1 -1 -1 -1\n",
            " -1 -1 -1 -1 -1 -1 -1 -1 -1 -1 -1 -1 -1 -1 -1 -1 -1 -1 -1 -1 -1 -1 -1 -1\n",
            " -1 -1 -1 -1 -1 -1 -1 -1 -1 -1 -1 -1 -1 -1 -1 -1 -1 -1 -1 -1 -1 -1 -1 -1\n",
            " -1 -1 -1 -1 -1 -1 -1 -1 -1 -1 -1 -1 -1 -1 -1 -1 -1]\n"
          ]
        }
      ]
    },
    {
      "cell_type": "markdown",
      "source": [
        "Parsing dataset Validation menjadi `val_sentences` dan `val_labels` dan dataset Test menjadi `test_sentences` dan `test_labels`"
      ],
      "metadata": {
        "id": "qn5Oqx2TFamZ"
      }
    },
    {
      "cell_type": "code",
      "source": [
        "val_sentences = [example['tokens'] for example in val_data]\n",
        "val_labels = [np.array(example['ner_tags']) for example in val_data]\n",
        "test_sentences = [example['tokens'] for example in test_data]\n",
        "test_labels = [np.array(example['ner_tags']) for example in test_data]"
      ],
      "metadata": {
        "id": "6PWwhBvEXGCh"
      },
      "execution_count": 17,
      "outputs": []
    },
    {
      "cell_type": "code",
      "source": [
        "val_sentences = parsing_nested_list_to_list(val_sentences)\n",
        "val_labels = padded_labels(val_labels)\n",
        "test_sentences = parsing_nested_list_to_list(test_sentences)\n",
        "test_labels = padded_labels(test_labels)"
      ],
      "metadata": {
        "id": "MCjUrdWLXLos"
      },
      "execution_count": 18,
      "outputs": []
    },
    {
      "cell_type": "markdown",
      "source": [
        "Membuat function `generate_dataset` yang berfungsi untuk menjadi kan `sentences` dan `labels` menjadi satu kesatuan dataset"
      ],
      "metadata": {
        "id": "fvYW1DYaGKV2"
      }
    },
    {
      "cell_type": "code",
      "source": [
        "def generate_dataset(sentences, labels, sentence_vectorizer):\n",
        "  # Menggunakan sentence_vectorizer untuk mengonversi kalimat yang dipass\n",
        "  sentence_ids = sentence_vectorizer(sentences)\n",
        "  # Membuat dataset TensorFlow dari tensor yang diberikan\n",
        "  datasets = tf.data.Dataset.from_tensor_slices((sentence_ids, labels))\n",
        "\n",
        "  return datasets"
      ],
      "metadata": {
        "id": "FfxhRyFfY9bV"
      },
      "execution_count": 19,
      "outputs": []
    },
    {
      "cell_type": "code",
      "source": [
        "train_datasets = generate_dataset(train_sentences, train_labels, sentence_vectorizer)\n",
        "val_datasets = generate_dataset(val_sentences, val_labels, sentence_vectorizer)\n",
        "test_datasets = generate_dataset(test_sentences, test_labels, sentence_vectorizer)"
      ],
      "metadata": {
        "id": "qycwVqjVZb68"
      },
      "execution_count": 20,
      "outputs": []
    },
    {
      "cell_type": "code",
      "source": [
        "print(f'Number of labels/outputs: {len(tag_maps)}')\n",
        "print(f\"Total vocabulary words in the training set: {len(vocab)}\")\n",
        "print(f'The training size: {len(train_datasets)}')\n",
        "print(f'The validation size is: {len(val_datasets)}')\n",
        "print('An example of the first sentence is\\n\\t', next(iter(train_datasets))[0].numpy())\n",
        "print('An example of its corresponding label is\\n\\t', next(iter(train_datasets))[1].numpy())"
      ],
      "metadata": {
        "colab": {
          "base_uri": "https://localhost:8080/"
        },
        "id": "zRu14M-LZsOF",
        "outputId": "01c8042c-a463-4f17-ebda-d39be1755cb7"
      },
      "execution_count": 21,
      "outputs": [
        {
          "output_type": "stream",
          "name": "stdout",
          "text": [
            "Number of labels/outputs: 9\n",
            "Total vocabulary words in the training set: 23625\n",
            "The training size: 14041\n",
            "The validation size is: 3250\n",
            "An example of the first sentence is\n",
            "\t [  994 13201   237   780     7  4476   212  6626     2     0     0     0\n",
            "     0     0     0     0     0     0     0     0     0     0     0     0\n",
            "     0     0     0     0     0     0     0     0     0     0     0     0\n",
            "     0     0     0     0     0     0     0     0     0     0     0     0\n",
            "     0     0     0     0     0     0     0     0     0     0     0     0\n",
            "     0     0     0     0     0     0     0     0     0     0     0     0\n",
            "     0     0     0     0     0     0     0     0     0     0     0     0\n",
            "     0     0     0     0     0     0     0     0     0     0     0     0\n",
            "     0     0     0     0     0     0     0     0     0     0     0     0\n",
            "     0     0     0     0     0]\n",
            "An example of its corresponding label is\n",
            "\t [ 3  0  7  0  0  0  7  0  0 -1 -1 -1 -1 -1 -1 -1 -1 -1 -1 -1 -1 -1 -1 -1\n",
            " -1 -1 -1 -1 -1 -1 -1 -1 -1 -1 -1 -1 -1 -1 -1 -1 -1 -1 -1 -1 -1 -1 -1 -1\n",
            " -1 -1 -1 -1 -1 -1 -1 -1 -1 -1 -1 -1 -1 -1 -1 -1 -1 -1 -1 -1 -1 -1 -1 -1\n",
            " -1 -1 -1 -1 -1 -1 -1 -1 -1 -1 -1 -1 -1 -1 -1 -1 -1 -1 -1 -1 -1 -1 -1 -1\n",
            " -1 -1 -1 -1 -1 -1 -1 -1 -1 -1 -1 -1 -1 -1 -1 -1 -1]\n"
          ]
        }
      ]
    },
    {
      "cell_type": "markdown",
      "source": [
        "## Build and Train Model"
      ],
      "metadata": {
        "id": "bRBIUVEujub_"
      }
    },
    {
      "cell_type": "markdown",
      "source": [
        "Membuat function `create_model` untuk membuat arsitektur model yang akan digunakan untuk proses training"
      ],
      "metadata": {
        "id": "2wdbOw2BG8sD"
      }
    },
    {
      "cell_type": "code",
      "source": [
        "def create_model(len_tags, vocab_size, embedding_dim=50):\n",
        "  # Membuat model sequential\n",
        "  model = tf.keras.Sequential()\n",
        "  # Menambahkan layer embedding untuk mengkonversi token menjadi vektor embedding, mask_zero=True artinya nilai 0 akan diabaikan\n",
        "  # Kita perlu menambahkan 1 di input_dim, karena sekarang Tensorflow akan mempertimbangkan bahwa satu nilai tambahan 0 mungkin muncul di setiap kalimat.\n",
        "  model.add(Embedding(input_dim=vocab_size+1, output_dim=embedding_dim, mask_zero=True))\n",
        "  # Menambahkan layer LSTM dua arah dengan 64 unit, menghasilkan output untuk setiap timestep dalam urutan\n",
        "  model.add(Bidirectional(LSTM(32, return_sequences=True)))\n",
        "  # Menambahkan layer Dense untuk melakukan klasifikasi, dengan jumlah unit sama dengan jumlah tag, menggunakan fungsi aktivasi log_softmax\n",
        "  model.add(Dense(len_tags, activation=tf.nn.log_softmax))\n",
        "\n",
        "  return model"
      ],
      "metadata": {
        "id": "gwKRRMJvGV8f"
      },
      "execution_count": 51,
      "outputs": []
    },
    {
      "cell_type": "code",
      "source": [
        "model = create_model(len(tag_maps), len(vocab))"
      ],
      "metadata": {
        "id": "x0X-aU86Rbr9"
      },
      "execution_count": 23,
      "outputs": []
    },
    {
      "cell_type": "markdown",
      "source": [
        "Melihat ringkasan arsitektur model"
      ],
      "metadata": {
        "id": "nZeljEuONBXc"
      }
    },
    {
      "cell_type": "code",
      "source": [
        "model.summary()"
      ],
      "metadata": {
        "colab": {
          "base_uri": "https://localhost:8080/"
        },
        "id": "SB9mq9d5TbeE",
        "outputId": "d62b43fc-ef6e-4baa-941c-73a687723b1b"
      },
      "execution_count": 24,
      "outputs": [
        {
          "output_type": "stream",
          "name": "stdout",
          "text": [
            "Model: \"sequential\"\n",
            "_________________________________________________________________\n",
            " Layer (type)                Output Shape              Param #   \n",
            "=================================================================\n",
            " embedding (Embedding)       (None, None, 50)          1181300   \n",
            "                                                                 \n",
            " bidirectional (Bidirection  (None, None, 64)          21248     \n",
            " al)                                                             \n",
            "                                                                 \n",
            " dense (Dense)               (None, None, 9)           585       \n",
            "                                                                 \n",
            "=================================================================\n",
            "Total params: 1203133 (4.59 MB)\n",
            "Trainable params: 1203133 (4.59 MB)\n",
            "Non-trainable params: 0 (0.00 Byte)\n",
            "_________________________________________________________________\n"
          ]
        }
      ]
    },
    {
      "cell_type": "markdown",
      "source": [
        "Membuat function `masked_loss` yang merupakan implementasi dari perhitungan loss `SparseCategoricalCrossentropy` untuk klasifikasi multikelas yang juga memperhitungkan mask atau pengabaian untuk padding/kelas tertentu. Ini memungkinkan untuk mengontrol bagaimana loss dihitung"
      ],
      "metadata": {
        "id": "ZUX9Y8N3NVUl"
      }
    },
    {
      "cell_type": "code",
      "source": [
        "def masked_loss(y_true, y_pred):\n",
        "  # Mendefinisikan fungsi kerugian dengan SparseCategoricalCrossentropy\n",
        "  # Parameter from_logits=True menunjukkan pada loss function bahwa nilai output yang dihasilkan oleh model tidak dinormalisasi, alias logit.\n",
        "  # Dengan kata lain, fungsi softmax belum diterapkan pada mereka untuk menghasilkan distribusi probabilitas.\n",
        "  # Oleh karena itu, lapisan output dalam kasus ini tidak memiliki fungsi aktivasi softmax:\n",
        "  # ignore_class=-1 mengabaikan kelas dengan nilai -1 saat menghitung kerugian\n",
        "  loss_fn = tf.keras.losses.SparseCategoricalCrossentropy(from_logits=True, ignore_class=-1)\n",
        "\n",
        "  # Menghitung kerugian menggunakan fungsi kerugian yang telah didefinisikan\n",
        "  loss = loss_fn(y_true, y_pred)\n",
        "\n",
        "  return loss"
      ],
      "metadata": {
        "id": "G_ulyn5WiUGM"
      },
      "execution_count": 25,
      "outputs": []
    },
    {
      "cell_type": "markdown",
      "source": [
        "Membuat function `masked_accuracy` yang menghasilkan nilai akurasi yang memperhitungkan hanya prediksi yang relevan dengan label yang tidak di-mask (-1 diabaikan). Ini berguna ketika ada label yang harus diabaikan dalam perhitungan akurasi, seperti dalam kasus pemrosesan teks dengan token khusus yang perlu diabaikan."
      ],
      "metadata": {
        "id": "x0Lh44jVPBPW"
      }
    },
    {
      "cell_type": "code",
      "source": [
        "def masked_accuracy(y_true, y_pred):\n",
        "  # Mengonversi tensor label sebenarnya ke tipe data float32\n",
        "  y_true = tf.cast(y_true, tf.float32)\n",
        "\n",
        "  # Membuat masker untuk nilai yang akan diabaikan yaitu -1 dan mengonversi ke tipe data float32\n",
        "  mask = tf.not_equal(y_true, -1)\n",
        "  mask = tf.cast(mask, tf.float32)\n",
        "\n",
        "  # Menerapkan argmax untuk mendapatkan nilai prediksi, dan mengonversi ke tipe data float32\n",
        "  y_pred_class = tf.math.argmax(y_pred, axis=-1)\n",
        "  y_pred_class = tf.cast(y_pred_class, tf.float32)\n",
        "\n",
        "  # Membandingkan label sebenarnya dengan kelas prediksi, dan mengonversi ke tipe data float32\n",
        "  matches_true_pred  = tf.equal(y_true, y_pred_class)\n",
        "  matches_true_pred = tf.cast(matches_true_pred, tf.float32)\n",
        "\n",
        "  # Mengalikan hasil perbandingan dengan masker, sehingga hanya menghitung akurasi untuk label yang tidak di-mask\n",
        "  matches_true_pred *= mask\n",
        "\n",
        "  # Menghitung akurasi dengan jumlah prediksi yang benar dibagi dengan jumlah label yang tidak di-mask\n",
        "  masked_acc = tf.reduce_sum(matches_true_pred) / tf.reduce_sum(mask)\n",
        "\n",
        "  return masked_acc"
      ],
      "metadata": {
        "id": "sVBfb_chlqUl"
      },
      "execution_count": 26,
      "outputs": []
    },
    {
      "cell_type": "markdown",
      "source": [
        "Menentukan compiler model untuk training"
      ],
      "metadata": {
        "id": "MQEzwfO5PX8V"
      }
    },
    {
      "cell_type": "code",
      "source": [
        "model.compile(optimizer=tf.keras.optimizers.Adam(0.01),\n",
        "              loss=masked_loss,\n",
        "              metrics=[masked_accuracy])"
      ],
      "metadata": {
        "id": "VXJZnl3GT2wt"
      },
      "execution_count": 27,
      "outputs": []
    },
    {
      "cell_type": "markdown",
      "source": [
        "Membuat callback yang akan otomatis menyimpan model dengan`val_loss` dengan weights paling rendah"
      ],
      "metadata": {
        "id": "60lSBuBmwo9X"
      }
    },
    {
      "cell_type": "code",
      "source": [
        "early_stopping = tf.keras.callbacks.EarlyStopping(monitor='val_loss', patience=3, restore_best_weights=True)"
      ],
      "metadata": {
        "id": "r7O3NiO3wkgK"
      },
      "execution_count": 28,
      "outputs": []
    },
    {
      "cell_type": "markdown",
      "source": [
        "Training model"
      ],
      "metadata": {
        "id": "85pILy7QPbBE"
      }
    },
    {
      "cell_type": "code",
      "source": [
        "BATCH_SIZE = 64\n",
        "\n",
        "history = model.fit(train_datasets.batch(BATCH_SIZE),\n",
        "          validation_data = val_datasets.batch(BATCH_SIZE),\n",
        "          shuffle=True,\n",
        "          epochs=5,\n",
        "          callbacks=[early_stopping])"
      ],
      "metadata": {
        "colab": {
          "base_uri": "https://localhost:8080/"
        },
        "id": "whL8MoClUbKX",
        "outputId": "f2a4375d-64a1-40d9-89f3-8e241ae50e13"
      },
      "execution_count": 29,
      "outputs": [
        {
          "output_type": "stream",
          "name": "stdout",
          "text": [
            "Epoch 1/5\n",
            "220/220 [==============================] - 70s 255ms/step - loss: 0.4786 - masked_accuracy: 0.8797 - val_loss: 0.1838 - val_masked_accuracy: 0.9486\n",
            "Epoch 2/5\n",
            "220/220 [==============================] - 52s 235ms/step - loss: 0.0817 - masked_accuracy: 0.9778 - val_loss: 0.1418 - val_masked_accuracy: 0.9600\n",
            "Epoch 3/5\n",
            "220/220 [==============================] - 47s 213ms/step - loss: 0.0279 - masked_accuracy: 0.9923 - val_loss: 0.1508 - val_masked_accuracy: 0.9619\n",
            "Epoch 4/5\n",
            "220/220 [==============================] - 39s 177ms/step - loss: 0.0124 - masked_accuracy: 0.9966 - val_loss: 0.1565 - val_masked_accuracy: 0.9625\n",
            "Epoch 5/5\n",
            "220/220 [==============================] - 41s 185ms/step - loss: 0.0062 - masked_accuracy: 0.9984 - val_loss: 0.1742 - val_masked_accuracy: 0.9625\n"
          ]
        }
      ]
    },
    {
      "cell_type": "markdown",
      "source": [
        "## Evaluate Model"
      ],
      "metadata": {
        "id": "lQZXljHBjx8n"
      }
    },
    {
      "cell_type": "markdown",
      "source": [
        "Membuat function `create_plot` untuk plot akurasi dan loss pada saat training model"
      ],
      "metadata": {
        "id": "I0lsl239pWMM"
      }
    },
    {
      "cell_type": "code",
      "source": [
        "def create_plot(history, string):\n",
        "  # Plot training loss atau accuracy.\n",
        "  plt.plot(history.history[string], 'r', label='Training '+string)\n",
        "  # Plot validation loss atau accuracy.\n",
        "  plt.plot(history.history['val_'+string], 'b', label='Validation '+string)\n",
        "  # Set judul plot.\n",
        "  plt.title('Training and validation '+string)\n",
        "  # Tampilkan legenda.\n",
        "  plt.legend()\n",
        "  # Tampilkan plot.\n",
        "  plt.show()\n",
        "  # Tampilkan baris kosong untuk pemisah.\n",
        "  print('')"
      ],
      "metadata": {
        "id": "f9CgjQHB8UYM"
      },
      "execution_count": 30,
      "outputs": []
    },
    {
      "cell_type": "code",
      "source": [
        "create_plot(history, 'masked_accuracy')\n",
        "create_plot(history, 'loss')"
      ],
      "metadata": {
        "id": "BoS1FMGG9BQH",
        "colab": {
          "base_uri": "https://localhost:8080/",
          "height": 924
        },
        "outputId": "5e632c95-9d98-4bc5-9e26-61a943c6d675"
      },
      "execution_count": 31,
      "outputs": [
        {
          "output_type": "display_data",
          "data": {
            "text/plain": [
              "<Figure size 640x480 with 1 Axes>"
            ],
            "image/png": "[encoded data removed]"
          },
          "metadata": {}
        },
        {
          "output_type": "stream",
          "name": "stdout",
          "text": [
            "\n"
          ]
        },
        {
          "output_type": "display_data",
          "data": {
            "text/plain": [
              "<Figure size 640x480 with 1 Axes>"
            ],
            "image/png": "[encoded data removed]"
          },
          "metadata": {}
        },
        {
          "output_type": "stream",
          "name": "stdout",
          "text": [
            "\n"
          ]
        }
      ]
    },
    {
      "cell_type": "markdown",
      "source": [
        "Evaluasi model menggunakan dataset test"
      ],
      "metadata": {
        "id": "zPiNeVayphOU"
      }
    },
    {
      "cell_type": "code",
      "source": [
        "evaluation_test = model.evaluate(test_datasets.batch(BATCH_SIZE))\n",
        "\n",
        "print(f'\\nThe model loss on test dataset: {evaluation_test[0]}')\n",
        "print(f'The model accuracy on test dataset: {evaluation_test[1]}')"
      ],
      "metadata": {
        "id": "t1GyghgGwDSR",
        "colab": {
          "base_uri": "https://localhost:8080/"
        },
        "outputId": "66e62d49-e766-438e-8260-5c80293f45da"
      },
      "execution_count": 32,
      "outputs": [
        {
          "output_type": "stream",
          "name": "stdout",
          "text": [
            "54/54 [==============================] - 5s 40ms/step - loss: 0.2401 - masked_accuracy: 0.9388\n",
            "\n",
            "The model loss on test dataset: 0.2400500327348709\n",
            "The model accuracy on test dataset: 0.9387746453285217\n"
          ]
        }
      ]
    },
    {
      "cell_type": "markdown",
      "source": [
        "Cara lain untuk mengevaluasi model dengan data testing"
      ],
      "metadata": {
        "id": "yZhyWZ8CfNbr"
      }
    },
    {
      "cell_type": "code",
      "source": [
        "'''\n",
        "test_sentences_ids = sentence_vectorizer(test_sentences)\n",
        "y_true = test_labels\n",
        "y_pred = model.predict(test_sentences_ids)\n",
        "print(f'The model loss on test set is: {masked_loss(y_true,y_pred).numpy():.4f}')\n",
        "print(f'The model accuracy on test set is: {masked_accuracy(y_true,y_pred).numpy():.4f}')\n",
        "'''"
      ],
      "metadata": {
        "id": "hm68l_BkBmmQ",
        "colab": {
          "base_uri": "https://localhost:8080/",
          "height": 55
        },
        "outputId": "8c80904e-925a-42bb-d964-7a90fc1e7c7b"
      },
      "execution_count": 33,
      "outputs": [
        {
          "output_type": "execute_result",
          "data": {
            "text/plain": [
              "\"\\ntest_sentences_ids = sentence_vectorizer(test_sentences)\\ny_true = test_labels\\ny_pred = model.predict(test_sentences_ids)\\nprint(f'The model loss on test set is: {masked_loss(y_true,y_pred).numpy():.4f}')\\nprint(f'The model accuracy on test set is: {masked_accuracy(y_true,y_pred).numpy():.4f}')\\n\""
            ],
            "application/vnd.google.colaboratory.intrinsic+json": {
              "type": "string"
            }
          },
          "metadata": {},
          "execution_count": 33
        }
      ]
    },
    {
      "cell_type": "markdown",
      "source": [
        "Note : Jika ingin mendapat hasil loss yang sama saat running kedua metode evaluasi model dengan test dataset diatas, maka ukuran batchnya harus sama, karena jika tidak lossnya akan memiliki hasil yang berbeda"
      ],
      "metadata": {
        "id": "Kp7hIumJiuva"
      }
    },
    {
      "cell_type": "markdown",
      "source": [
        "Membuat function `predict` yang akan fed input text ke model yang telah ditraining dan menghasilkan prediksi"
      ],
      "metadata": {
        "id": "9cxyOC2TfU6q"
      }
    },
    {
      "cell_type": "code",
      "source": [
        "def predict(sentence, model, sentence_vectorizer, tag_map):\n",
        "    # Mengonversi kalimat menjadi vektor fitur dengan menggunakan sentence_vectorizer\n",
        "    sentence_vectorized = sentence_vectorizer(sentence)\n",
        "    # Menambahkan dimensi tambahan pada vektor fitur untuk sesuai untuk di fed ke model\n",
        "    sentence_vectorized = tf.expand_dims(sentence_vectorized, 0)\n",
        "    # Melakukan prediksi menggunakan model NER\n",
        "    outputs = model(sentence_vectorized)\n",
        "    # Dapatkan label yang diprediksi untuk setiap token, menggunakan fungsi argmax dan menentukan axis yang benar untuk melakukan argmax\n",
        "    output = np.argmax(outputs, axis=-1)\n",
        "    # Baris berikutnya hanya untuk menyesuaikan dimensi keluaran. Karena fungsi ini hanya mengharapkan satu masukan untuk mendapatkan prediksi, keluarannya akan menjadi seperti [[1,2,3]]\n",
        "    # jadi untuk menghindari notasi yang berat di bawah ini, mari kita ubah menjadi [1,2,3]\n",
        "    output = output[0]\n",
        "    # Mendapatkan daftar label yang sesuai dengan tag_map\n",
        "    labels = list(tag_map.keys())\n",
        "    pred = []\n",
        "    # Iterasi melalui setiap indeks label hasil prediksi\n",
        "    for tag_idx in output:\n",
        "        pred_label = labels[tag_idx]\n",
        "        pred.append(pred_label)\n",
        "\n",
        "    return pred"
      ],
      "metadata": {
        "id": "_JhKZ6e74LEt"
      },
      "execution_count": 49,
      "outputs": []
    },
    {
      "cell_type": "code",
      "source": [
        "sentence = \"John Smith works at Microsoft in Washington DC\"\n",
        "predictions = predict(sentence, model, sentence_vectorizer, tag_maps)\n",
        "for x,y in zip(sentence.split(' '), predictions):\n",
        "    if y != 'O':\n",
        "        print(f'{x} --> {y}')"
      ],
      "metadata": {
        "colab": {
          "base_uri": "https://localhost:8080/"
        },
        "id": "WHdlvb1j4SqW",
        "outputId": "f9cfcc70-fa40-4e56-a788-50ace2fbab1f"
      },
      "execution_count": 50,
      "outputs": [
        {
          "output_type": "stream",
          "name": "stdout",
          "text": [
            "John --> B-PER\n",
            "Smith --> I-PER\n",
            "Microsoft --> B-ORG\n",
            "Washington --> B-LOC\n",
            "DC --> I-LOC\n"
          ]
        }
      ]
    },
    {
      "cell_type": "markdown",
      "source": [
        "Menyimpan file txt yang berisi tentang vektorisasi kalimat yang telah diproses dengan layer `TextVectorization`. Hasil dari `TextVectorization` disimpan agar bisa digunakan kembali saat deployment menggunakan flask/streamlit."
      ],
      "metadata": {
        "id": "4gPuEERsgZBS"
      }
    },
    {
      "cell_type": "code",
      "source": [
        "import os\n",
        "\n",
        "folder_path = 'vectorizer'\n",
        "file_name = 'vocabulary.txt'\n",
        "file_path = os.path.join(folder_path, file_name)\n",
        "\n",
        "if not os.path.exists(folder_path):\n",
        "  os.mkdir(folder_path)\n",
        "\n",
        "  if not os.path.exists(file_path):\n",
        "    with open(file_path, 'w') as v:\n",
        "      pass\n",
        "\n",
        "    sentence_vectorizer.save_assets(folder_path)\n",
        "    print('File vectorizer berhasil disimpan')\n",
        "  else:\n",
        "    print(f'File {file_name} sudah ada')\n",
        "\n",
        "else:\n",
        "  print(f'Folder {folder_path} sudah ada')"
      ],
      "metadata": {
        "id": "TN0jU9gn5kPp",
        "colab": {
          "base_uri": "https://localhost:8080/"
        },
        "outputId": "28e6f13c-ff3b-4a9b-ec08-09163df64fb4"
      },
      "execution_count": 38,
      "outputs": [
        {
          "output_type": "stream",
          "name": "stdout",
          "text": [
            "File vectorizer berhasil disimpan\n"
          ]
        }
      ]
    },
    {
      "cell_type": "markdown",
      "source": [
        "Menyimpan model yang telah ditraining"
      ],
      "metadata": {
        "id": "qj_C2vf8jBVj"
      }
    },
    {
      "cell_type": "code",
      "source": [
        "model.save('NER model.h5')"
      ],
      "metadata": {
        "colab": {
          "base_uri": "https://localhost:8080/"
        },
        "id": "rlIRHn3JiJ8f",
        "outputId": "e8948be0-657a-4ee4-f29c-58054b8d8a55"
      },
      "execution_count": 39,
      "outputs": [
        {
          "output_type": "stream",
          "name": "stderr",
          "text": [
            "/usr/local/lib/python3.10/dist-packages/keras/src/engine/training.py:3103: UserWarning: You are saving your model as an HDF5 file via `model.save()`. This file format is considered legacy. We recommend using instead the native Keras format, e.g. `model.save('my_model.keras')`.\n",
            "  saving_api.save_model(\n"
          ]
        }
      ]
    }
  ],
  "metadata": {
    "colab": {
      "provenance": []
    },
    "kernelspec": {
      "display_name": "Python 3",
      "name": "python3"
    },
    "language_info": {
      "name": "python"
    },
    "widgets": {
      "application/vnd.jupyter.widget-state+json": {
        "aa6bda5ee6734c4b9ab87371ef0dec66": {
          "model_module": "@jupyter-widgets/controls",
          "model_name": "HBoxModel",
          "model_module_version": "1.5.0",
          "state": {
            "_dom_classes": [],
            "_model_module": "@jupyter-widgets/controls",
            "_model_module_version": "1.5.0",
            "_model_name": "HBoxModel",
            "_view_count": null,
            "_view_module": "@jupyter-widgets/controls",
            "_view_module_version": "1.5.0",
            "_view_name": "HBoxView",
            "box_style": "",
            "children": [
              "IPY_MODEL_a9a4cf6d0b9943a781392b99b9c59613",
              "IPY_MODEL_caf1adaf9d1b48f0b6d36ca5064964ae",
              "IPY_MODEL_0e8273c77faf46a88819c58a3dd0d3d3"
            ],
            "layout": "IPY_MODEL_57add00e00a94b0fa8d35475b53ceee8"
          }
        },
        "a9a4cf6d0b9943a781392b99b9c59613": {
          "model_module": "@jupyter-widgets/controls",
          "model_name": "HTMLModel",
          "model_module_version": "1.5.0",
          "state": {
            "_dom_classes": [],
            "_model_module": "@jupyter-widgets/controls",
            "_model_module_version": "1.5.0",
            "_model_name": "HTMLModel",
            "_view_count": null,
            "_view_module": "@jupyter-widgets/controls",
            "_view_module_version": "1.5.0",
            "_view_name": "HTMLView",
            "description": "",
            "description_tooltip": null,
            "layout": "IPY_MODEL_a9d3dfbd484f4cbda51bf15f2590f5c1",
            "placeholder": "​",
            "style": "IPY_MODEL_b17f5bafed1341e0aba84e84546bc941",
            "value": "Downloading data: 100%"
          }
        },
        "caf1adaf9d1b48f0b6d36ca5064964ae": {
          "model_module": "@jupyter-widgets/controls",
          "model_name": "FloatProgressModel",
          "model_module_version": "1.5.0",
          "state": {
            "_dom_classes": [],
            "_model_module": "@jupyter-widgets/controls",
            "_model_module_version": "1.5.0",
            "_model_name": "FloatProgressModel",
            "_view_count": null,
            "_view_module": "@jupyter-widgets/controls",
            "_view_module_version": "1.5.0",
            "_view_name": "ProgressView",
            "bar_style": "success",
            "description": "",
            "description_tooltip": null,
            "layout": "IPY_MODEL_82134c14047e45448ad32c427feeedf4",
            "max": 1227788,
            "min": 0,
            "orientation": "horizontal",
            "style": "IPY_MODEL_7196e5caaf80485a81624894a37bd323",
            "value": 1227788
          }
        },
        "0e8273c77faf46a88819c58a3dd0d3d3": {
          "model_module": "@jupyter-widgets/controls",
          "model_name": "HTMLModel",
          "model_module_version": "1.5.0",
          "state": {
            "_dom_classes": [],
            "_model_module": "@jupyter-widgets/controls",
            "_model_module_version": "1.5.0",
            "_model_name": "HTMLModel",
            "_view_count": null,
            "_view_module": "@jupyter-widgets/controls",
            "_view_module_version": "1.5.0",
            "_view_name": "HTMLView",
            "description": "",
            "description_tooltip": null,
            "layout": "IPY_MODEL_05ddecf1299d4532ac9993ab929e226e",
            "placeholder": "​",
            "style": "IPY_MODEL_0c7cf093a1a9450e9d46776508e5923a",
            "value": " 1.23M/1.23M [00:00&lt;00:00, 3.00MB/s]"
          }
        },
        "57add00e00a94b0fa8d35475b53ceee8": {
          "model_module": "@jupyter-widgets/base",
          "model_name": "LayoutModel",
          "model_module_version": "1.2.0",
          "state": {
            "_model_module": "@jupyter-widgets/base",
            "_model_module_version": "1.2.0",
            "_model_name": "LayoutModel",
            "_view_count": null,
            "_view_module": "@jupyter-widgets/base",
            "_view_module_version": "1.2.0",
            "_view_name": "LayoutView",
            "align_content": null,
            "align_items": null,
            "align_self": null,
            "border": null,
            "bottom": null,
            "display": null,
            "flex": null,
            "flex_flow": null,
            "grid_area": null,
            "grid_auto_columns": null,
            "grid_auto_flow": null,
            "grid_auto_rows": null,
            "grid_column": null,
            "grid_gap": null,
            "grid_row": null,
            "grid_template_areas": null,
            "grid_template_columns": null,
            "grid_template_rows": null,
            "height": null,
            "justify_content": null,
            "justify_items": null,
            "left": null,
            "margin": null,
            "max_height": null,
            "max_width": null,
            "min_height": null,
            "min_width": null,
            "object_fit": null,
            "object_position": null,
            "order": null,
            "overflow": null,
            "overflow_x": null,
            "overflow_y": null,
            "padding": null,
            "right": null,
            "top": null,
            "visibility": null,
            "width": null
          }
        },
        "a9d3dfbd484f4cbda51bf15f2590f5c1": {
          "model_module": "@jupyter-widgets/base",
          "model_name": "LayoutModel",
          "model_module_version": "1.2.0",
          "state": {
            "_model_module": "@jupyter-widgets/base",
            "_model_module_version": "1.2.0",
            "_model_name": "LayoutModel",
            "_view_count": null,
            "_view_module": "@jupyter-widgets/base",
            "_view_module_version": "1.2.0",
            "_view_name": "LayoutView",
            "align_content": null,
            "align_items": null,
            "align_self": null,
            "border": null,
            "bottom": null,
            "display": null,
            "flex": null,
            "flex_flow": null,
            "grid_area": null,
            "grid_auto_columns": null,
            "grid_auto_flow": null,
            "grid_auto_rows": null,
            "grid_column": null,
            "grid_gap": null,
            "grid_row": null,
            "grid_template_areas": null,
            "grid_template_columns": null,
            "grid_template_rows": null,
            "height": null,
            "justify_content": null,
            "justify_items": null,
            "left": null,
            "margin": null,
            "max_height": null,
            "max_width": null,
            "min_height": null,
            "min_width": null,
            "object_fit": null,
            "object_position": null,
            "order": null,
            "overflow": null,
            "overflow_x": null,
            "overflow_y": null,
            "padding": null,
            "right": null,
            "top": null,
            "visibility": null,
            "width": null
          }
        },
        "b17f5bafed1341e0aba84e84546bc941": {
          "model_module": "@jupyter-widgets/controls",
          "model_name": "DescriptionStyleModel",
          "model_module_version": "1.5.0",
          "state": {
            "_model_module": "@jupyter-widgets/controls",
            "_model_module_version": "1.5.0",
            "_model_name": "DescriptionStyleModel",
            "_view_count": null,
            "_view_module": "@jupyter-widgets/base",
            "_view_module_version": "1.2.0",
            "_view_name": "StyleView",
            "description_width": ""
          }
        },
        "82134c14047e45448ad32c427feeedf4": {
          "model_module": "@jupyter-widgets/base",
          "model_name": "LayoutModel",
          "model_module_version": "1.2.0",
          "state": {
            "_model_module": "@jupyter-widgets/base",
            "_model_module_version": "1.2.0",
            "_model_name": "LayoutModel",
            "_view_count": null,
            "_view_module": "@jupyter-widgets/base",
            "_view_module_version": "1.2.0",
            "_view_name": "LayoutView",
            "align_content": null,
            "align_items": null,
            "align_self": null,
            "border": null,
            "bottom": null,
            "display": null,
            "flex": null,
            "flex_flow": null,
            "grid_area": null,
            "grid_auto_columns": null,
            "grid_auto_flow": null,
            "grid_auto_rows": null,
            "grid_column": null,
            "grid_gap": null,
            "grid_row": null,
            "grid_template_areas": null,
            "grid_template_columns": null,
            "grid_template_rows": null,
            "height": null,
            "justify_content": null,
            "justify_items": null,
            "left": null,
            "margin": null,
            "max_height": null,
            "max_width": null,
            "min_height": null,
            "min_width": null,
            "object_fit": null,
            "object_position": null,
            "order": null,
            "overflow": null,
            "overflow_x": null,
            "overflow_y": null,
            "padding": null,
            "right": null,
            "top": null,
            "visibility": null,
            "width": null
          }
        },
        "7196e5caaf80485a81624894a37bd323": {
          "model_module": "@jupyter-widgets/controls",
          "model_name": "ProgressStyleModel",
          "model_module_version": "1.5.0",
          "state": {
            "_model_module": "@jupyter-widgets/controls",
            "_model_module_version": "1.5.0",
            "_model_name": "ProgressStyleModel",
            "_view_count": null,
            "_view_module": "@jupyter-widgets/base",
            "_view_module_version": "1.2.0",
            "_view_name": "StyleView",
            "bar_color": null,
            "description_width": ""
          }
        },
        "05ddecf1299d4532ac9993ab929e226e": {
          "model_module": "@jupyter-widgets/base",
          "model_name": "LayoutModel",
          "model_module_version": "1.2.0",
          "state": {
            "_model_module": "@jupyter-widgets/base",
            "_model_module_version": "1.2.0",
            "_model_name": "LayoutModel",
            "_view_count": null,
            "_view_module": "@jupyter-widgets/base",
            "_view_module_version": "1.2.0",
            "_view_name": "LayoutView",
            "align_content": null,
            "align_items": null,
            "align_self": null,
            "border": null,
            "bottom": null,
            "display": null,
            "flex": null,
            "flex_flow": null,
            "grid_area": null,
            "grid_auto_columns": null,
            "grid_auto_flow": null,
            "grid_auto_rows": null,
            "grid_column": null,
            "grid_gap": null,
            "grid_row": null,
            "grid_template_areas": null,
            "grid_template_columns": null,
            "grid_template_rows": null,
            "height": null,
            "justify_content": null,
            "justify_items": null,
            "left": null,
            "margin": null,
            "max_height": null,
            "max_width": null,
            "min_height": null,
            "min_width": null,
            "object_fit": null,
            "object_position": null,
            "order": null,
            "overflow": null,
            "overflow_x": null,
            "overflow_y": null,
            "padding": null,
            "right": null,
            "top": null,
            "visibility": null,
            "width": null
          }
        },
        "0c7cf093a1a9450e9d46776508e5923a": {
          "model_module": "@jupyter-widgets/controls",
          "model_name": "DescriptionStyleModel",
          "model_module_version": "1.5.0",
          "state": {
            "_model_module": "@jupyter-widgets/controls",
            "_model_module_version": "1.5.0",
            "_model_name": "DescriptionStyleModel",
            "_view_count": null,
            "_view_module": "@jupyter-widgets/base",
            "_view_module_version": "1.2.0",
            "_view_name": "StyleView",
            "description_width": ""
          }
        },
        "963e64340fdf44e5a7619f4583e35b54": {
          "model_module": "@jupyter-widgets/controls",
          "model_name": "HBoxModel",
          "model_module_version": "1.5.0",
          "state": {
            "_dom_classes": [],
            "_model_module": "@jupyter-widgets/controls",
            "_model_module_version": "1.5.0",
            "_model_name": "HBoxModel",
            "_view_count": null,
            "_view_module": "@jupyter-widgets/controls",
            "_view_module_version": "1.5.0",
            "_view_name": "HBoxView",
            "box_style": "",
            "children": [
              "IPY_MODEL_f80369802c274f548fe78482dc5ddfb7",
              "IPY_MODEL_73d8211c16164365ba597fbce2ea6ccf",
              "IPY_MODEL_4681507e5fcd4ca69837d21ee6739f02"
            ],
            "layout": "IPY_MODEL_885e0438ed89432f823ac2a49349f79a"
          }
        },
        "f80369802c274f548fe78482dc5ddfb7": {
          "model_module": "@jupyter-widgets/controls",
          "model_name": "HTMLModel",
          "model_module_version": "1.5.0",
          "state": {
            "_dom_classes": [],
            "_model_module": "@jupyter-widgets/controls",
            "_model_module_version": "1.5.0",
            "_model_name": "HTMLModel",
            "_view_count": null,
            "_view_module": "@jupyter-widgets/controls",
            "_view_module_version": "1.5.0",
            "_view_name": "HTMLView",
            "description": "",
            "description_tooltip": null,
            "layout": "IPY_MODEL_5b7552490c464b788bbb700ee8a5dc9e",
            "placeholder": "​",
            "style": "IPY_MODEL_123a307576c44278a9b3eae2283e19e5",
            "value": "Downloading data: 100%"
          }
        },
        "73d8211c16164365ba597fbce2ea6ccf": {
          "model_module": "@jupyter-widgets/controls",
          "model_name": "FloatProgressModel",
          "model_module_version": "1.5.0",
          "state": {
            "_dom_classes": [],
            "_model_module": "@jupyter-widgets/controls",
            "_model_module_version": "1.5.0",
            "_model_name": "FloatProgressModel",
            "_view_count": null,
            "_view_module": "@jupyter-widgets/controls",
            "_view_module_version": "1.5.0",
            "_view_name": "ProgressView",
            "bar_style": "success",
            "description": "",
            "description_tooltip": null,
            "layout": "IPY_MODEL_2605a6ac1741429e9e2e26574d88b26e",
            "max": 311883,
            "min": 0,
            "orientation": "horizontal",
            "style": "IPY_MODEL_111519fd6da24668a05346bf47c9251b",
            "value": 311883
          }
        },
        "4681507e5fcd4ca69837d21ee6739f02": {
          "model_module": "@jupyter-widgets/controls",
          "model_name": "HTMLModel",
          "model_module_version": "1.5.0",
          "state": {
            "_dom_classes": [],
            "_model_module": "@jupyter-widgets/controls",
            "_model_module_version": "1.5.0",
            "_model_name": "HTMLModel",
            "_view_count": null,
            "_view_module": "@jupyter-widgets/controls",
            "_view_module_version": "1.5.0",
            "_view_name": "HTMLView",
            "description": "",
            "description_tooltip": null,
            "layout": "IPY_MODEL_99637af3926e48c1b7c6ba006424bcde",
            "placeholder": "​",
            "style": "IPY_MODEL_4333bdb6f034416aadc1d2a314f1c919",
            "value": " 312k/312k [00:00&lt;00:00, 1.99MB/s]"
          }
        },
        "885e0438ed89432f823ac2a49349f79a": {
          "model_module": "@jupyter-widgets/base",
          "model_name": "LayoutModel",
          "model_module_version": "1.2.0",
          "state": {
            "_model_module": "@jupyter-widgets/base",
            "_model_module_version": "1.2.0",
            "_model_name": "LayoutModel",
            "_view_count": null,
            "_view_module": "@jupyter-widgets/base",
            "_view_module_version": "1.2.0",
            "_view_name": "LayoutView",
            "align_content": null,
            "align_items": null,
            "align_self": null,
            "border": null,
            "bottom": null,
            "display": null,
            "flex": null,
            "flex_flow": null,
            "grid_area": null,
            "grid_auto_columns": null,
            "grid_auto_flow": null,
            "grid_auto_rows": null,
            "grid_column": null,
            "grid_gap": null,
            "grid_row": null,
            "grid_template_areas": null,
            "grid_template_columns": null,
            "grid_template_rows": null,
            "height": null,
            "justify_content": null,
            "justify_items": null,
            "left": null,
            "margin": null,
            "max_height": null,
            "max_width": null,
            "min_height": null,
            "min_width": null,
            "object_fit": null,
            "object_position": null,
            "order": null,
            "overflow": null,
            "overflow_x": null,
            "overflow_y": null,
            "padding": null,
            "right": null,
            "top": null,
            "visibility": null,
            "width": null
          }
        },
        "5b7552490c464b788bbb700ee8a5dc9e": {
          "model_module": "@jupyter-widgets/base",
          "model_name": "LayoutModel",
          "model_module_version": "1.2.0",
          "state": {
            "_model_module": "@jupyter-widgets/base",
            "_model_module_version": "1.2.0",
            "_model_name": "LayoutModel",
            "_view_count": null,
            "_view_module": "@jupyter-widgets/base",
            "_view_module_version": "1.2.0",
            "_view_name": "LayoutView",
            "align_content": null,
            "align_items": null,
            "align_self": null,
            "border": null,
            "bottom": null,
            "display": null,
            "flex": null,
            "flex_flow": null,
            "grid_area": null,
            "grid_auto_columns": null,
            "grid_auto_flow": null,
            "grid_auto_rows": null,
            "grid_column": null,
            "grid_gap": null,
            "grid_row": null,
            "grid_template_areas": null,
            "grid_template_columns": null,
            "grid_template_rows": null,
            "height": null,
            "justify_content": null,
            "justify_items": null,
            "left": null,
            "margin": null,
            "max_height": null,
            "max_width": null,
            "min_height": null,
            "min_width": null,
            "object_fit": null,
            "object_position": null,
            "order": null,
            "overflow": null,
            "overflow_x": null,
            "overflow_y": null,
            "padding": null,
            "right": null,
            "top": null,
            "visibility": null,
            "width": null
          }
        },
        "123a307576c44278a9b3eae2283e19e5": {
          "model_module": "@jupyter-widgets/controls",
          "model_name": "DescriptionStyleModel",
          "model_module_version": "1.5.0",
          "state": {
            "_model_module": "@jupyter-widgets/controls",
            "_model_module_version": "1.5.0",
            "_model_name": "DescriptionStyleModel",
            "_view_count": null,
            "_view_module": "@jupyter-widgets/base",
            "_view_module_version": "1.2.0",
            "_view_name": "StyleView",
            "description_width": ""
          }
        },
        "2605a6ac1741429e9e2e26574d88b26e": {
          "model_module": "@jupyter-widgets/base",
          "model_name": "LayoutModel",
          "model_module_version": "1.2.0",
          "state": {
            "_model_module": "@jupyter-widgets/base",
            "_model_module_version": "1.2.0",
            "_model_name": "LayoutModel",
            "_view_count": null,
            "_view_module": "@jupyter-widgets/base",
            "_view_module_version": "1.2.0",
            "_view_name": "LayoutView",
            "align_content": null,
            "align_items": null,
            "align_self": null,
            "border": null,
            "bottom": null,
            "display": null,
            "flex": null,
            "flex_flow": null,
            "grid_area": null,
            "grid_auto_columns": null,
            "grid_auto_flow": null,
            "grid_auto_rows": null,
            "grid_column": null,
            "grid_gap": null,
            "grid_row": null,
            "grid_template_areas": null,
            "grid_template_columns": null,
            "grid_template_rows": null,
            "height": null,
            "justify_content": null,
            "justify_items": null,
            "left": null,
            "margin": null,
            "max_height": null,
            "max_width": null,
            "min_height": null,
            "min_width": null,
            "object_fit": null,
            "object_position": null,
            "order": null,
            "overflow": null,
            "overflow_x": null,
            "overflow_y": null,
            "padding": null,
            "right": null,
            "top": null,
            "visibility": null,
            "width": null
          }
        },
        "111519fd6da24668a05346bf47c9251b": {
          "model_module": "@jupyter-widgets/controls",
          "model_name": "ProgressStyleModel",
          "model_module_version": "1.5.0",
          "state": {
            "_model_module": "@jupyter-widgets/controls",
            "_model_module_version": "1.5.0",
            "_model_name": "ProgressStyleModel",
            "_view_count": null,
            "_view_module": "@jupyter-widgets/base",
            "_view_module_version": "1.2.0",
            "_view_name": "StyleView",
            "bar_color": null,
            "description_width": ""
          }
        },
        "99637af3926e48c1b7c6ba006424bcde": {
          "model_module": "@jupyter-widgets/base",
          "model_name": "LayoutModel",
          "model_module_version": "1.2.0",
          "state": {
            "_model_module": "@jupyter-widgets/base",
            "_model_module_version": "1.2.0",
            "_model_name": "LayoutModel",
            "_view_count": null,
            "_view_module": "@jupyter-widgets/base",
            "_view_module_version": "1.2.0",
            "_view_name": "LayoutView",
            "align_content": null,
            "align_items": null,
            "align_self": null,
            "border": null,
            "bottom": null,
            "display": null,
            "flex": null,
            "flex_flow": null,
            "grid_area": null,
            "grid_auto_columns": null,
            "grid_auto_flow": null,
            "grid_auto_rows": null,
            "grid_column": null,
            "grid_gap": null,
            "grid_row": null,
            "grid_template_areas": null,
            "grid_template_columns": null,
            "grid_template_rows": null,
            "height": null,
            "justify_content": null,
            "justify_items": null,
            "left": null,
            "margin": null,
            "max_height": null,
            "max_width": null,
            "min_height": null,
            "min_width": null,
            "object_fit": null,
            "object_position": null,
            "order": null,
            "overflow": null,
            "overflow_x": null,
            "overflow_y": null,
            "padding": null,
            "right": null,
            "top": null,
            "visibility": null,
            "width": null
          }
        },
        "4333bdb6f034416aadc1d2a314f1c919": {
          "model_module": "@jupyter-widgets/controls",
          "model_name": "DescriptionStyleModel",
          "model_module_version": "1.5.0",
          "state": {
            "_model_module": "@jupyter-widgets/controls",
            "_model_module_version": "1.5.0",
            "_model_name": "DescriptionStyleModel",
            "_view_count": null,
            "_view_module": "@jupyter-widgets/base",
            "_view_module_version": "1.2.0",
            "_view_name": "StyleView",
            "description_width": ""
          }
        },
        "2038efc992dd456eafbfa5d97389b9a1": {
          "model_module": "@jupyter-widgets/controls",
          "model_name": "HBoxModel",
          "model_module_version": "1.5.0",
          "state": {
            "_dom_classes": [],
            "_model_module": "@jupyter-widgets/controls",
            "_model_module_version": "1.5.0",
            "_model_name": "HBoxModel",
            "_view_count": null,
            "_view_module": "@jupyter-widgets/controls",
            "_view_module_version": "1.5.0",
            "_view_name": "HBoxView",
            "box_style": "",
            "children": [
              "IPY_MODEL_fd53d7b77b514efabf90384553928a93",
              "IPY_MODEL_1f40c0cfa03245db849dbdf3ba0bcbb7",
              "IPY_MODEL_f713dc4b29194a57b9927aa374829f6f"
            ],
            "layout": "IPY_MODEL_3f14987881664f8698b65a2e50b7e409"
          }
        },
        "fd53d7b77b514efabf90384553928a93": {
          "model_module": "@jupyter-widgets/controls",
          "model_name": "HTMLModel",
          "model_module_version": "1.5.0",
          "state": {
            "_dom_classes": [],
            "_model_module": "@jupyter-widgets/controls",
            "_model_module_version": "1.5.0",
            "_model_name": "HTMLModel",
            "_view_count": null,
            "_view_module": "@jupyter-widgets/controls",
            "_view_module_version": "1.5.0",
            "_view_name": "HTMLView",
            "description": "",
            "description_tooltip": null,
            "layout": "IPY_MODEL_e690847a48154a928cdf1b34cce5d96c",
            "placeholder": "​",
            "style": "IPY_MODEL_9e6affafe32f46fc8773d53629d3f34f",
            "value": "Downloading data: 100%"
          }
        },
        "1f40c0cfa03245db849dbdf3ba0bcbb7": {
          "model_module": "@jupyter-widgets/controls",
          "model_name": "FloatProgressModel",
          "model_module_version": "1.5.0",
          "state": {
            "_dom_classes": [],
            "_model_module": "@jupyter-widgets/controls",
            "_model_module_version": "1.5.0",
            "_model_name": "FloatProgressModel",
            "_view_count": null,
            "_view_module": "@jupyter-widgets/controls",
            "_view_module_version": "1.5.0",
            "_view_name": "ProgressView",
            "bar_style": "success",
            "description": "",
            "description_tooltip": null,
            "layout": "IPY_MODEL_6e4cf05f0e474db48d04622dc3ee3570",
            "max": 283307,
            "min": 0,
            "orientation": "horizontal",
            "style": "IPY_MODEL_29bc772ef7a34ea180a49abce953c8c3",
            "value": 283307
          }
        },
        "f713dc4b29194a57b9927aa374829f6f": {
          "model_module": "@jupyter-widgets/controls",
          "model_name": "HTMLModel",
          "model_module_version": "1.5.0",
          "state": {
            "_dom_classes": [],
            "_model_module": "@jupyter-widgets/controls",
            "_model_module_version": "1.5.0",
            "_model_name": "HTMLModel",
            "_view_count": null,
            "_view_module": "@jupyter-widgets/controls",
            "_view_module_version": "1.5.0",
            "_view_name": "HTMLView",
            "description": "",
            "description_tooltip": null,
            "layout": "IPY_MODEL_c962a913d1ec4e8fad9673c28b08f827",
            "placeholder": "​",
            "style": "IPY_MODEL_acfedbb573c0402b830a9a705507c3ca",
            "value": " 283k/283k [00:00&lt;00:00, 2.12MB/s]"
          }
        },
        "3f14987881664f8698b65a2e50b7e409": {
          "model_module": "@jupyter-widgets/base",
          "model_name": "LayoutModel",
          "model_module_version": "1.2.0",
          "state": {
            "_model_module": "@jupyter-widgets/base",
            "_model_module_version": "1.2.0",
            "_model_name": "LayoutModel",
            "_view_count": null,
            "_view_module": "@jupyter-widgets/base",
            "_view_module_version": "1.2.0",
            "_view_name": "LayoutView",
            "align_content": null,
            "align_items": null,
            "align_self": null,
            "border": null,
            "bottom": null,
            "display": null,
            "flex": null,
            "flex_flow": null,
            "grid_area": null,
            "grid_auto_columns": null,
            "grid_auto_flow": null,
            "grid_auto_rows": null,
            "grid_column": null,
            "grid_gap": null,
            "grid_row": null,
            "grid_template_areas": null,
            "grid_template_columns": null,
            "grid_template_rows": null,
            "height": null,
            "justify_content": null,
            "justify_items": null,
            "left": null,
            "margin": null,
            "max_height": null,
            "max_width": null,
            "min_height": null,
            "min_width": null,
            "object_fit": null,
            "object_position": null,
            "order": null,
            "overflow": null,
            "overflow_x": null,
            "overflow_y": null,
            "padding": null,
            "right": null,
            "top": null,
            "visibility": null,
            "width": null
          }
        },
        "e690847a48154a928cdf1b34cce5d96c": {
          "model_module": "@jupyter-widgets/base",
          "model_name": "LayoutModel",
          "model_module_version": "1.2.0",
          "state": {
            "_model_module": "@jupyter-widgets/base",
            "_model_module_version": "1.2.0",
            "_model_name": "LayoutModel",
            "_view_count": null,
            "_view_module": "@jupyter-widgets/base",
            "_view_module_version": "1.2.0",
            "_view_name": "LayoutView",
            "align_content": null,
            "align_items": null,
            "align_self": null,
            "border": null,
            "bottom": null,
            "display": null,
            "flex": null,
            "flex_flow": null,
            "grid_area": null,
            "grid_auto_columns": null,
            "grid_auto_flow": null,
            "grid_auto_rows": null,
            "grid_column": null,
            "grid_gap": null,
            "grid_row": null,
            "grid_template_areas": null,
            "grid_template_columns": null,
            "grid_template_rows": null,
            "height": null,
            "justify_content": null,
            "justify_items": null,
            "left": null,
            "margin": null,
            "max_height": null,
            "max_width": null,
            "min_height": null,
            "min_width": null,
            "object_fit": null,
            "object_position": null,
            "order": null,
            "overflow": null,
            "overflow_x": null,
            "overflow_y": null,
            "padding": null,
            "right": null,
            "top": null,
            "visibility": null,
            "width": null
          }
        },
        "9e6affafe32f46fc8773d53629d3f34f": {
          "model_module": "@jupyter-widgets/controls",
          "model_name": "DescriptionStyleModel",
          "model_module_version": "1.5.0",
          "state": {
            "_model_module": "@jupyter-widgets/controls",
            "_model_module_version": "1.5.0",
            "_model_name": "DescriptionStyleModel",
            "_view_count": null,
            "_view_module": "@jupyter-widgets/base",
            "_view_module_version": "1.2.0",
            "_view_name": "StyleView",
            "description_width": ""
          }
        },
        "6e4cf05f0e474db48d04622dc3ee3570": {
          "model_module": "@jupyter-widgets/base",
          "model_name": "LayoutModel",
          "model_module_version": "1.2.0",
          "state": {
            "_model_module": "@jupyter-widgets/base",
            "_model_module_version": "1.2.0",
            "_model_name": "LayoutModel",
            "_view_count": null,
            "_view_module": "@jupyter-widgets/base",
            "_view_module_version": "1.2.0",
            "_view_name": "LayoutView",
            "align_content": null,
            "align_items": null,
            "align_self": null,
            "border": null,
            "bottom": null,
            "display": null,
            "flex": null,
            "flex_flow": null,
            "grid_area": null,
            "grid_auto_columns": null,
            "grid_auto_flow": null,
            "grid_auto_rows": null,
            "grid_column": null,
            "grid_gap": null,
            "grid_row": null,
            "grid_template_areas": null,
            "grid_template_columns": null,
            "grid_template_rows": null,
            "height": null,
            "justify_content": null,
            "justify_items": null,
            "left": null,
            "margin": null,
            "max_height": null,
            "max_width": null,
            "min_height": null,
            "min_width": null,
            "object_fit": null,
            "object_position": null,
            "order": null,
            "overflow": null,
            "overflow_x": null,
            "overflow_y": null,
            "padding": null,
            "right": null,
            "top": null,
            "visibility": null,
            "width": null
          }
        },
        "29bc772ef7a34ea180a49abce953c8c3": {
          "model_module": "@jupyter-widgets/controls",
          "model_name": "ProgressStyleModel",
          "model_module_version": "1.5.0",
          "state": {
            "_model_module": "@jupyter-widgets/controls",
            "_model_module_version": "1.5.0",
            "_model_name": "ProgressStyleModel",
            "_view_count": null,
            "_view_module": "@jupyter-widgets/base",
            "_view_module_version": "1.2.0",
            "_view_name": "StyleView",
            "bar_color": null,
            "description_width": ""
          }
        },
        "c962a913d1ec4e8fad9673c28b08f827": {
          "model_module": "@jupyter-widgets/base",
          "model_name": "LayoutModel",
          "model_module_version": "1.2.0",
          "state": {
            "_model_module": "@jupyter-widgets/base",
            "_model_module_version": "1.2.0",
            "_model_name": "LayoutModel",
            "_view_count": null,
            "_view_module": "@jupyter-widgets/base",
            "_view_module_version": "1.2.0",
            "_view_name": "LayoutView",
            "align_content": null,
            "align_items": null,
            "align_self": null,
            "border": null,
            "bottom": null,
            "display": null,
            "flex": null,
            "flex_flow": null,
            "grid_area": null,
            "grid_auto_columns": null,
            "grid_auto_flow": null,
            "grid_auto_rows": null,
            "grid_column": null,
            "grid_gap": null,
            "grid_row": null,
            "grid_template_areas": null,
            "grid_template_columns": null,
            "grid_template_rows": null,
            "height": null,
            "justify_content": null,
            "justify_items": null,
            "left": null,
            "margin": null,
            "max_height": null,
            "max_width": null,
            "min_height": null,
            "min_width": null,
            "object_fit": null,
            "object_position": null,
            "order": null,
            "overflow": null,
            "overflow_x": null,
            "overflow_y": null,
            "padding": null,
            "right": null,
            "top": null,
            "visibility": null,
            "width": null
          }
        },
        "acfedbb573c0402b830a9a705507c3ca": {
          "model_module": "@jupyter-widgets/controls",
          "model_name": "DescriptionStyleModel",
          "model_module_version": "1.5.0",
          "state": {
            "_model_module": "@jupyter-widgets/controls",
            "_model_module_version": "1.5.0",
            "_model_name": "DescriptionStyleModel",
            "_view_count": null,
            "_view_module": "@jupyter-widgets/base",
            "_view_module_version": "1.2.0",
            "_view_name": "StyleView",
            "description_width": ""
          }
        },
        "073d8772910d414f9f1ad4d8db1cb41a": {
          "model_module": "@jupyter-widgets/controls",
          "model_name": "HBoxModel",
          "model_module_version": "1.5.0",
          "state": {
            "_dom_classes": [],
            "_model_module": "@jupyter-widgets/controls",
            "_model_module_version": "1.5.0",
            "_model_name": "HBoxModel",
            "_view_count": null,
            "_view_module": "@jupyter-widgets/controls",
            "_view_module_version": "1.5.0",
            "_view_name": "HBoxView",
            "box_style": "",
            "children": [
              "IPY_MODEL_b557aa3736574e93961c0b796b481ad8",
              "IPY_MODEL_6bcf9216cfab4b35a493e412b7143a9d",
              "IPY_MODEL_fcf3613e2c084b9f98bc6ca6ed7d1cf1"
            ],
            "layout": "IPY_MODEL_a9a04e137b7444b2babf810b7de7f661"
          }
        },
        "b557aa3736574e93961c0b796b481ad8": {
          "model_module": "@jupyter-widgets/controls",
          "model_name": "HTMLModel",
          "model_module_version": "1.5.0",
          "state": {
            "_dom_classes": [],
            "_model_module": "@jupyter-widgets/controls",
            "_model_module_version": "1.5.0",
            "_model_name": "HTMLModel",
            "_view_count": null,
            "_view_module": "@jupyter-widgets/controls",
            "_view_module_version": "1.5.0",
            "_view_name": "HTMLView",
            "description": "",
            "description_tooltip": null,
            "layout": "IPY_MODEL_2b0f896632994ebe9979f23b17291a7b",
            "placeholder": "​",
            "style": "IPY_MODEL_a4858628ce194a6a885a46a7774260c6",
            "value": "Generating train split: 100%"
          }
        },
        "6bcf9216cfab4b35a493e412b7143a9d": {
          "model_module": "@jupyter-widgets/controls",
          "model_name": "FloatProgressModel",
          "model_module_version": "1.5.0",
          "state": {
            "_dom_classes": [],
            "_model_module": "@jupyter-widgets/controls",
            "_model_module_version": "1.5.0",
            "_model_name": "FloatProgressModel",
            "_view_count": null,
            "_view_module": "@jupyter-widgets/controls",
            "_view_module_version": "1.5.0",
            "_view_name": "ProgressView",
            "bar_style": "success",
            "description": "",
            "description_tooltip": null,
            "layout": "IPY_MODEL_6b2277c9f5724f459c0e6117a11ae7d9",
            "max": 14041,
            "min": 0,
            "orientation": "horizontal",
            "style": "IPY_MODEL_e44e860b00314d67be452dc83fdc85f3",
            "value": 14041
          }
        },
        "fcf3613e2c084b9f98bc6ca6ed7d1cf1": {
          "model_module": "@jupyter-widgets/controls",
          "model_name": "HTMLModel",
          "model_module_version": "1.5.0",
          "state": {
            "_dom_classes": [],
            "_model_module": "@jupyter-widgets/controls",
            "_model_module_version": "1.5.0",
            "_model_name": "HTMLModel",
            "_view_count": null,
            "_view_module": "@jupyter-widgets/controls",
            "_view_module_version": "1.5.0",
            "_view_name": "HTMLView",
            "description": "",
            "description_tooltip": null,
            "layout": "IPY_MODEL_9985b0c8b7e84fb1882a4c8b484c682e",
            "placeholder": "​",
            "style": "IPY_MODEL_48a6727404c54579b16e5abe3d51e359",
            "value": " 14041/14041 [00:00&lt;00:00, 117716.88 examples/s]"
          }
        },
        "a9a04e137b7444b2babf810b7de7f661": {
          "model_module": "@jupyter-widgets/base",
          "model_name": "LayoutModel",
          "model_module_version": "1.2.0",
          "state": {
            "_model_module": "@jupyter-widgets/base",
            "_model_module_version": "1.2.0",
            "_model_name": "LayoutModel",
            "_view_count": null,
            "_view_module": "@jupyter-widgets/base",
            "_view_module_version": "1.2.0",
            "_view_name": "LayoutView",
            "align_content": null,
            "align_items": null,
            "align_self": null,
            "border": null,
            "bottom": null,
            "display": null,
            "flex": null,
            "flex_flow": null,
            "grid_area": null,
            "grid_auto_columns": null,
            "grid_auto_flow": null,
            "grid_auto_rows": null,
            "grid_column": null,
            "grid_gap": null,
            "grid_row": null,
            "grid_template_areas": null,
            "grid_template_columns": null,
            "grid_template_rows": null,
            "height": null,
            "justify_content": null,
            "justify_items": null,
            "left": null,
            "margin": null,
            "max_height": null,
            "max_width": null,
            "min_height": null,
            "min_width": null,
            "object_fit": null,
            "object_position": null,
            "order": null,
            "overflow": null,
            "overflow_x": null,
            "overflow_y": null,
            "padding": null,
            "right": null,
            "top": null,
            "visibility": null,
            "width": null
          }
        },
        "2b0f896632994ebe9979f23b17291a7b": {
          "model_module": "@jupyter-widgets/base",
          "model_name": "LayoutModel",
          "model_module_version": "1.2.0",
          "state": {
            "_model_module": "@jupyter-widgets/base",
            "_model_module_version": "1.2.0",
            "_model_name": "LayoutModel",
            "_view_count": null,
            "_view_module": "@jupyter-widgets/base",
            "_view_module_version": "1.2.0",
            "_view_name": "LayoutView",
            "align_content": null,
            "align_items": null,
            "align_self": null,
            "border": null,
            "bottom": null,
            "display": null,
            "flex": null,
            "flex_flow": null,
            "grid_area": null,
            "grid_auto_columns": null,
            "grid_auto_flow": null,
            "grid_auto_rows": null,
            "grid_column": null,
            "grid_gap": null,
            "grid_row": null,
            "grid_template_areas": null,
            "grid_template_columns": null,
            "grid_template_rows": null,
            "height": null,
            "justify_content": null,
            "justify_items": null,
            "left": null,
            "margin": null,
            "max_height": null,
            "max_width": null,
            "min_height": null,
            "min_width": null,
            "object_fit": null,
            "object_position": null,
            "order": null,
            "overflow": null,
            "overflow_x": null,
            "overflow_y": null,
            "padding": null,
            "right": null,
            "top": null,
            "visibility": null,
            "width": null
          }
        },
        "a4858628ce194a6a885a46a7774260c6": {
          "model_module": "@jupyter-widgets/controls",
          "model_name": "DescriptionStyleModel",
          "model_module_version": "1.5.0",
          "state": {
            "_model_module": "@jupyter-widgets/controls",
            "_model_module_version": "1.5.0",
            "_model_name": "DescriptionStyleModel",
            "_view_count": null,
            "_view_module": "@jupyter-widgets/base",
            "_view_module_version": "1.2.0",
            "_view_name": "StyleView",
            "description_width": ""
          }
        },
        "6b2277c9f5724f459c0e6117a11ae7d9": {
          "model_module": "@jupyter-widgets/base",
          "model_name": "LayoutModel",
          "model_module_version": "1.2.0",
          "state": {
            "_model_module": "@jupyter-widgets/base",
            "_model_module_version": "1.2.0",
            "_model_name": "LayoutModel",
            "_view_count": null,
            "_view_module": "@jupyter-widgets/base",
            "_view_module_version": "1.2.0",
            "_view_name": "LayoutView",
            "align_content": null,
            "align_items": null,
            "align_self": null,
            "border": null,
            "bottom": null,
            "display": null,
            "flex": null,
            "flex_flow": null,
            "grid_area": null,
            "grid_auto_columns": null,
            "grid_auto_flow": null,
            "grid_auto_rows": null,
            "grid_column": null,
            "grid_gap": null,
            "grid_row": null,
            "grid_template_areas": null,
            "grid_template_columns": null,
            "grid_template_rows": null,
            "height": null,
            "justify_content": null,
            "justify_items": null,
            "left": null,
            "margin": null,
            "max_height": null,
            "max_width": null,
            "min_height": null,
            "min_width": null,
            "object_fit": null,
            "object_position": null,
            "order": null,
            "overflow": null,
            "overflow_x": null,
            "overflow_y": null,
            "padding": null,
            "right": null,
            "top": null,
            "visibility": null,
            "width": null
          }
        },
        "e44e860b00314d67be452dc83fdc85f3": {
          "model_module": "@jupyter-widgets/controls",
          "model_name": "ProgressStyleModel",
          "model_module_version": "1.5.0",
          "state": {
            "_model_module": "@jupyter-widgets/controls",
            "_model_module_version": "1.5.0",
            "_model_name": "ProgressStyleModel",
            "_view_count": null,
            "_view_module": "@jupyter-widgets/base",
            "_view_module_version": "1.2.0",
            "_view_name": "StyleView",
            "bar_color": null,
            "description_width": ""
          }
        },
        "9985b0c8b7e84fb1882a4c8b484c682e": {
          "model_module": "@jupyter-widgets/base",
          "model_name": "LayoutModel",
          "model_module_version": "1.2.0",
          "state": {
            "_model_module": "@jupyter-widgets/base",
            "_model_module_version": "1.2.0",
            "_model_name": "LayoutModel",
            "_view_count": null,
            "_view_module": "@jupyter-widgets/base",
            "_view_module_version": "1.2.0",
            "_view_name": "LayoutView",
            "align_content": null,
            "align_items": null,
            "align_self": null,
            "border": null,
            "bottom": null,
            "display": null,
            "flex": null,
            "flex_flow": null,
            "grid_area": null,
            "grid_auto_columns": null,
            "grid_auto_flow": null,
            "grid_auto_rows": null,
            "grid_column": null,
            "grid_gap": null,
            "grid_row": null,
            "grid_template_areas": null,
            "grid_template_columns": null,
            "grid_template_rows": null,
            "height": null,
            "justify_content": null,
            "justify_items": null,
            "left": null,
            "margin": null,
            "max_height": null,
            "max_width": null,
            "min_height": null,
            "min_width": null,
            "object_fit": null,
            "object_position": null,
            "order": null,
            "overflow": null,
            "overflow_x": null,
            "overflow_y": null,
            "padding": null,
            "right": null,
            "top": null,
            "visibility": null,
            "width": null
          }
        },
        "48a6727404c54579b16e5abe3d51e359": {
          "model_module": "@jupyter-widgets/controls",
          "model_name": "DescriptionStyleModel",
          "model_module_version": "1.5.0",
          "state": {
            "_model_module": "@jupyter-widgets/controls",
            "_model_module_version": "1.5.0",
            "_model_name": "DescriptionStyleModel",
            "_view_count": null,
            "_view_module": "@jupyter-widgets/base",
            "_view_module_version": "1.2.0",
            "_view_name": "StyleView",
            "description_width": ""
          }
        },
        "4893b353e72e4e8e8b572cbf908c6fc3": {
          "model_module": "@jupyter-widgets/controls",
          "model_name": "HBoxModel",
          "model_module_version": "1.5.0",
          "state": {
            "_dom_classes": [],
            "_model_module": "@jupyter-widgets/controls",
            "_model_module_version": "1.5.0",
            "_model_name": "HBoxModel",
            "_view_count": null,
            "_view_module": "@jupyter-widgets/controls",
            "_view_module_version": "1.5.0",
            "_view_name": "HBoxView",
            "box_style": "",
            "children": [
              "IPY_MODEL_3cfd4ab0e05a4e66bda8af535ecdeb2b",
              "IPY_MODEL_ca0a62c57f864814916d2e8a6d8db905",
              "IPY_MODEL_ddb3e06c5aa04430b8913c451069ca8c"
            ],
            "layout": "IPY_MODEL_cc3c2e9db42f41649a6de08dcb5ee3a0"
          }
        },
        "3cfd4ab0e05a4e66bda8af535ecdeb2b": {
          "model_module": "@jupyter-widgets/controls",
          "model_name": "HTMLModel",
          "model_module_version": "1.5.0",
          "state": {
            "_dom_classes": [],
            "_model_module": "@jupyter-widgets/controls",
            "_model_module_version": "1.5.0",
            "_model_name": "HTMLModel",
            "_view_count": null,
            "_view_module": "@jupyter-widgets/controls",
            "_view_module_version": "1.5.0",
            "_view_name": "HTMLView",
            "description": "",
            "description_tooltip": null,
            "layout": "IPY_MODEL_470699cabcd246ca961b6317669839e1",
            "placeholder": "​",
            "style": "IPY_MODEL_09451fe2f4a34c14ad45c80e32cfad2b",
            "value": "Generating validation split: 100%"
          }
        },
        "ca0a62c57f864814916d2e8a6d8db905": {
          "model_module": "@jupyter-widgets/controls",
          "model_name": "FloatProgressModel",
          "model_module_version": "1.5.0",
          "state": {
            "_dom_classes": [],
            "_model_module": "@jupyter-widgets/controls",
            "_model_module_version": "1.5.0",
            "_model_name": "FloatProgressModel",
            "_view_count": null,
            "_view_module": "@jupyter-widgets/controls",
            "_view_module_version": "1.5.0",
            "_view_name": "ProgressView",
            "bar_style": "success",
            "description": "",
            "description_tooltip": null,
            "layout": "IPY_MODEL_5380956b45ab4241bda957fa58e4e611",
            "max": 3250,
            "min": 0,
            "orientation": "horizontal",
            "style": "IPY_MODEL_4af43b9657474853b9fc3cb216be6d8a",
            "value": 3250
          }
        },
        "ddb3e06c5aa04430b8913c451069ca8c": {
          "model_module": "@jupyter-widgets/controls",
          "model_name": "HTMLModel",
          "model_module_version": "1.5.0",
          "state": {
            "_dom_classes": [],
            "_model_module": "@jupyter-widgets/controls",
            "_model_module_version": "1.5.0",
            "_model_name": "HTMLModel",
            "_view_count": null,
            "_view_module": "@jupyter-widgets/controls",
            "_view_module_version": "1.5.0",
            "_view_name": "HTMLView",
            "description": "",
            "description_tooltip": null,
            "layout": "IPY_MODEL_4b9fcd5665ed4b749415b5987b9dfe99",
            "placeholder": "​",
            "style": "IPY_MODEL_2530574cdedf43b58d542ed68e255bfa",
            "value": " 3250/3250 [00:00&lt;00:00, 59877.83 examples/s]"
          }
        },
        "cc3c2e9db42f41649a6de08dcb5ee3a0": {
          "model_module": "@jupyter-widgets/base",
          "model_name": "LayoutModel",
          "model_module_version": "1.2.0",
          "state": {
            "_model_module": "@jupyter-widgets/base",
            "_model_module_version": "1.2.0",
            "_model_name": "LayoutModel",
            "_view_count": null,
            "_view_module": "@jupyter-widgets/base",
            "_view_module_version": "1.2.0",
            "_view_name": "LayoutView",
            "align_content": null,
            "align_items": null,
            "align_self": null,
            "border": null,
            "bottom": null,
            "display": null,
            "flex": null,
            "flex_flow": null,
            "grid_area": null,
            "grid_auto_columns": null,
            "grid_auto_flow": null,
            "grid_auto_rows": null,
            "grid_column": null,
            "grid_gap": null,
            "grid_row": null,
            "grid_template_areas": null,
            "grid_template_columns": null,
            "grid_template_rows": null,
            "height": null,
            "justify_content": null,
            "justify_items": null,
            "left": null,
            "margin": null,
            "max_height": null,
            "max_width": null,
            "min_height": null,
            "min_width": null,
            "object_fit": null,
            "object_position": null,
            "order": null,
            "overflow": null,
            "overflow_x": null,
            "overflow_y": null,
            "padding": null,
            "right": null,
            "top": null,
            "visibility": null,
            "width": null
          }
        },
        "470699cabcd246ca961b6317669839e1": {
          "model_module": "@jupyter-widgets/base",
          "model_name": "LayoutModel",
          "model_module_version": "1.2.0",
          "state": {
            "_model_module": "@jupyter-widgets/base",
            "_model_module_version": "1.2.0",
            "_model_name": "LayoutModel",
            "_view_count": null,
            "_view_module": "@jupyter-widgets/base",
            "_view_module_version": "1.2.0",
            "_view_name": "LayoutView",
            "align_content": null,
            "align_items": null,
            "align_self": null,
            "border": null,
            "bottom": null,
            "display": null,
            "flex": null,
            "flex_flow": null,
            "grid_area": null,
            "grid_auto_columns": null,
            "grid_auto_flow": null,
            "grid_auto_rows": null,
            "grid_column": null,
            "grid_gap": null,
            "grid_row": null,
            "grid_template_areas": null,
            "grid_template_columns": null,
            "grid_template_rows": null,
            "height": null,
            "justify_content": null,
            "justify_items": null,
            "left": null,
            "margin": null,
            "max_height": null,
            "max_width": null,
            "min_height": null,
            "min_width": null,
            "object_fit": null,
            "object_position": null,
            "order": null,
            "overflow": null,
            "overflow_x": null,
            "overflow_y": null,
            "padding": null,
            "right": null,
            "top": null,
            "visibility": null,
            "width": null
          }
        },
        "09451fe2f4a34c14ad45c80e32cfad2b": {
          "model_module": "@jupyter-widgets/controls",
          "model_name": "DescriptionStyleModel",
          "model_module_version": "1.5.0",
          "state": {
            "_model_module": "@jupyter-widgets/controls",
            "_model_module_version": "1.5.0",
            "_model_name": "DescriptionStyleModel",
            "_view_count": null,
            "_view_module": "@jupyter-widgets/base",
            "_view_module_version": "1.2.0",
            "_view_name": "StyleView",
            "description_width": ""
          }
        },
        "5380956b45ab4241bda957fa58e4e611": {
          "model_module": "@jupyter-widgets/base",
          "model_name": "LayoutModel",
          "model_module_version": "1.2.0",
          "state": {
            "_model_module": "@jupyter-widgets/base",
            "_model_module_version": "1.2.0",
            "_model_name": "LayoutModel",
            "_view_count": null,
            "_view_module": "@jupyter-widgets/base",
            "_view_module_version": "1.2.0",
            "_view_name": "LayoutView",
            "align_content": null,
            "align_items": null,
            "align_self": null,
            "border": null,
            "bottom": null,
            "display": null,
            "flex": null,
            "flex_flow": null,
            "grid_area": null,
            "grid_auto_columns": null,
            "grid_auto_flow": null,
            "grid_auto_rows": null,
            "grid_column": null,
            "grid_gap": null,
            "grid_row": null,
            "grid_template_areas": null,
            "grid_template_columns": null,
            "grid_template_rows": null,
            "height": null,
            "justify_content": null,
            "justify_items": null,
            "left": null,
            "margin": null,
            "max_height": null,
            "max_width": null,
            "min_height": null,
            "min_width": null,
            "object_fit": null,
            "object_position": null,
            "order": null,
            "overflow": null,
            "overflow_x": null,
            "overflow_y": null,
            "padding": null,
            "right": null,
            "top": null,
            "visibility": null,
            "width": null
          }
        },
        "4af43b9657474853b9fc3cb216be6d8a": {
          "model_module": "@jupyter-widgets/controls",
          "model_name": "ProgressStyleModel",
          "model_module_version": "1.5.0",
          "state": {
            "_model_module": "@jupyter-widgets/controls",
            "_model_module_version": "1.5.0",
            "_model_name": "ProgressStyleModel",
            "_view_count": null,
            "_view_module": "@jupyter-widgets/base",
            "_view_module_version": "1.2.0",
            "_view_name": "StyleView",
            "bar_color": null,
            "description_width": ""
          }
        },
        "4b9fcd5665ed4b749415b5987b9dfe99": {
          "model_module": "@jupyter-widgets/base",
          "model_name": "LayoutModel",
          "model_module_version": "1.2.0",
          "state": {
            "_model_module": "@jupyter-widgets/base",
            "_model_module_version": "1.2.0",
            "_model_name": "LayoutModel",
            "_view_count": null,
            "_view_module": "@jupyter-widgets/base",
            "_view_module_version": "1.2.0",
            "_view_name": "LayoutView",
            "align_content": null,
            "align_items": null,
            "align_self": null,
            "border": null,
            "bottom": null,
            "display": null,
            "flex": null,
            "flex_flow": null,
            "grid_area": null,
            "grid_auto_columns": null,
            "grid_auto_flow": null,
            "grid_auto_rows": null,
            "grid_column": null,
            "grid_gap": null,
            "grid_row": null,
            "grid_template_areas": null,
            "grid_template_columns": null,
            "grid_template_rows": null,
            "height": null,
            "justify_content": null,
            "justify_items": null,
            "left": null,
            "margin": null,
            "max_height": null,
            "max_width": null,
            "min_height": null,
            "min_width": null,
            "object_fit": null,
            "object_position": null,
            "order": null,
            "overflow": null,
            "overflow_x": null,
            "overflow_y": null,
            "padding": null,
            "right": null,
            "top": null,
            "visibility": null,
            "width": null
          }
        },
        "2530574cdedf43b58d542ed68e255bfa": {
          "model_module": "@jupyter-widgets/controls",
          "model_name": "DescriptionStyleModel",
          "model_module_version": "1.5.0",
          "state": {
            "_model_module": "@jupyter-widgets/controls",
            "_model_module_version": "1.5.0",
            "_model_name": "DescriptionStyleModel",
            "_view_count": null,
            "_view_module": "@jupyter-widgets/base",
            "_view_module_version": "1.2.0",
            "_view_name": "StyleView",
            "description_width": ""
          }
        },
        "63e70c2e65b34005baac74e857673a77": {
          "model_module": "@jupyter-widgets/controls",
          "model_name": "HBoxModel",
          "model_module_version": "1.5.0",
          "state": {
            "_dom_classes": [],
            "_model_module": "@jupyter-widgets/controls",
            "_model_module_version": "1.5.0",
            "_model_name": "HBoxModel",
            "_view_count": null,
            "_view_module": "@jupyter-widgets/controls",
            "_view_module_version": "1.5.0",
            "_view_name": "HBoxView",
            "box_style": "",
            "children": [
              "IPY_MODEL_6118a2b71c3e469b9da0685b3e41e808",
              "IPY_MODEL_6bcc8ccaedc340f9944c2e7f5a2e4333",
              "IPY_MODEL_49eade5dca3742fca747fa03bc4e9dd2"
            ],
            "layout": "IPY_MODEL_01d8c252449d49c5890d590eeb387ccf"
          }
        },
        "6118a2b71c3e469b9da0685b3e41e808": {
          "model_module": "@jupyter-widgets/controls",
          "model_name": "HTMLModel",
          "model_module_version": "1.5.0",
          "state": {
            "_dom_classes": [],
            "_model_module": "@jupyter-widgets/controls",
            "_model_module_version": "1.5.0",
            "_model_name": "HTMLModel",
            "_view_count": null,
            "_view_module": "@jupyter-widgets/controls",
            "_view_module_version": "1.5.0",
            "_view_name": "HTMLView",
            "description": "",
            "description_tooltip": null,
            "layout": "IPY_MODEL_b621c76e00c24e66b6b370fd41250525",
            "placeholder": "​",
            "style": "IPY_MODEL_10bad87d0c1742b490f1948844739d2c",
            "value": "Generating test split: 100%"
          }
        },
        "6bcc8ccaedc340f9944c2e7f5a2e4333": {
          "model_module": "@jupyter-widgets/controls",
          "model_name": "FloatProgressModel",
          "model_module_version": "1.5.0",
          "state": {
            "_dom_classes": [],
            "_model_module": "@jupyter-widgets/controls",
            "_model_module_version": "1.5.0",
            "_model_name": "FloatProgressModel",
            "_view_count": null,
            "_view_module": "@jupyter-widgets/controls",
            "_view_module_version": "1.5.0",
            "_view_name": "ProgressView",
            "bar_style": "success",
            "description": "",
            "description_tooltip": null,
            "layout": "IPY_MODEL_e7eb56777239432bac124701f3187d4c",
            "max": 3453,
            "min": 0,
            "orientation": "horizontal",
            "style": "IPY_MODEL_d075be46f9c441e38de336fa83c5da9b",
            "value": 3453
          }
        },
        "49eade5dca3742fca747fa03bc4e9dd2": {
          "model_module": "@jupyter-widgets/controls",
          "model_name": "HTMLModel",
          "model_module_version": "1.5.0",
          "state": {
            "_dom_classes": [],
            "_model_module": "@jupyter-widgets/controls",
            "_model_module_version": "1.5.0",
            "_model_name": "HTMLModel",
            "_view_count": null,
            "_view_module": "@jupyter-widgets/controls",
            "_view_module_version": "1.5.0",
            "_view_name": "HTMLView",
            "description": "",
            "description_tooltip": null,
            "layout": "IPY_MODEL_a5ef38763e9a4f7a946869a66077b33b",
            "placeholder": "​",
            "style": "IPY_MODEL_4e14b4cfe2864e5b8e50fbbb6205027b",
            "value": " 3453/3453 [00:00&lt;00:00, 75828.06 examples/s]"
          }
        },
        "01d8c252449d49c5890d590eeb387ccf": {
          "model_module": "@jupyter-widgets/base",
          "model_name": "LayoutModel",
          "model_module_version": "1.2.0",
          "state": {
            "_model_module": "@jupyter-widgets/base",
            "_model_module_version": "1.2.0",
            "_model_name": "LayoutModel",
            "_view_count": null,
            "_view_module": "@jupyter-widgets/base",
            "_view_module_version": "1.2.0",
            "_view_name": "LayoutView",
            "align_content": null,
            "align_items": null,
            "align_self": null,
            "border": null,
            "bottom": null,
            "display": null,
            "flex": null,
            "flex_flow": null,
            "grid_area": null,
            "grid_auto_columns": null,
            "grid_auto_flow": null,
            "grid_auto_rows": null,
            "grid_column": null,
            "grid_gap": null,
            "grid_row": null,
            "grid_template_areas": null,
            "grid_template_columns": null,
            "grid_template_rows": null,
            "height": null,
            "justify_content": null,
            "justify_items": null,
            "left": null,
            "margin": null,
            "max_height": null,
            "max_width": null,
            "min_height": null,
            "min_width": null,
            "object_fit": null,
            "object_position": null,
            "order": null,
            "overflow": null,
            "overflow_x": null,
            "overflow_y": null,
            "padding": null,
            "right": null,
            "top": null,
            "visibility": null,
            "width": null
          }
        },
        "b621c76e00c24e66b6b370fd41250525": {
          "model_module": "@jupyter-widgets/base",
          "model_name": "LayoutModel",
          "model_module_version": "1.2.0",
          "state": {
            "_model_module": "@jupyter-widgets/base",
            "_model_module_version": "1.2.0",
            "_model_name": "LayoutModel",
            "_view_count": null,
            "_view_module": "@jupyter-widgets/base",
            "_view_module_version": "1.2.0",
            "_view_name": "LayoutView",
            "align_content": null,
            "align_items": null,
            "align_self": null,
            "border": null,
            "bottom": null,
            "display": null,
            "flex": null,
            "flex_flow": null,
            "grid_area": null,
            "grid_auto_columns": null,
            "grid_auto_flow": null,
            "grid_auto_rows": null,
            "grid_column": null,
            "grid_gap": null,
            "grid_row": null,
            "grid_template_areas": null,
            "grid_template_columns": null,
            "grid_template_rows": null,
            "height": null,
            "justify_content": null,
            "justify_items": null,
            "left": null,
            "margin": null,
            "max_height": null,
            "max_width": null,
            "min_height": null,
            "min_width": null,
            "object_fit": null,
            "object_position": null,
            "order": null,
            "overflow": null,
            "overflow_x": null,
            "overflow_y": null,
            "padding": null,
            "right": null,
            "top": null,
            "visibility": null,
            "width": null
          }
        },
        "10bad87d0c1742b490f1948844739d2c": {
          "model_module": "@jupyter-widgets/controls",
          "model_name": "DescriptionStyleModel",
          "model_module_version": "1.5.0",
          "state": {
            "_model_module": "@jupyter-widgets/controls",
            "_model_module_version": "1.5.0",
            "_model_name": "DescriptionStyleModel",
            "_view_count": null,
            "_view_module": "@jupyter-widgets/base",
            "_view_module_version": "1.2.0",
            "_view_name": "StyleView",
            "description_width": ""
          }
        },
        "e7eb56777239432bac124701f3187d4c": {
          "model_module": "@jupyter-widgets/base",
          "model_name": "LayoutModel",
          "model_module_version": "1.2.0",
          "state": {
            "_model_module": "@jupyter-widgets/base",
            "_model_module_version": "1.2.0",
            "_model_name": "LayoutModel",
            "_view_count": null,
            "_view_module": "@jupyter-widgets/base",
            "_view_module_version": "1.2.0",
            "_view_name": "LayoutView",
            "align_content": null,
            "align_items": null,
            "align_self": null,
            "border": null,
            "bottom": null,
            "display": null,
            "flex": null,
            "flex_flow": null,
            "grid_area": null,
            "grid_auto_columns": null,
            "grid_auto_flow": null,
            "grid_auto_rows": null,
            "grid_column": null,
            "grid_gap": null,
            "grid_row": null,
            "grid_template_areas": null,
            "grid_template_columns": null,
            "grid_template_rows": null,
            "height": null,
            "justify_content": null,
            "justify_items": null,
            "left": null,
            "margin": null,
            "max_height": null,
            "max_width": null,
            "min_height": null,
            "min_width": null,
            "object_fit": null,
            "object_position": null,
            "order": null,
            "overflow": null,
            "overflow_x": null,
            "overflow_y": null,
            "padding": null,
            "right": null,
            "top": null,
            "visibility": null,
            "width": null
          }
        },
        "d075be46f9c441e38de336fa83c5da9b": {
          "model_module": "@jupyter-widgets/controls",
          "model_name": "ProgressStyleModel",
          "model_module_version": "1.5.0",
          "state": {
            "_model_module": "@jupyter-widgets/controls",
            "_model_module_version": "1.5.0",
            "_model_name": "ProgressStyleModel",
            "_view_count": null,
            "_view_module": "@jupyter-widgets/base",
            "_view_module_version": "1.2.0",
            "_view_name": "StyleView",
            "bar_color": null,
            "description_width": ""
          }
        },
        "a5ef38763e9a4f7a946869a66077b33b": {
          "model_module": "@jupyter-widgets/base",
          "model_name": "LayoutModel",
          "model_module_version": "1.2.0",
          "state": {
            "_model_module": "@jupyter-widgets/base",
            "_model_module_version": "1.2.0",
            "_model_name": "LayoutModel",
            "_view_count": null,
            "_view_module": "@jupyter-widgets/base",
            "_view_module_version": "1.2.0",
            "_view_name": "LayoutView",
            "align_content": null,
            "align_items": null,
            "align_self": null,
            "border": null,
            "bottom": null,
            "display": null,
            "flex": null,
            "flex_flow": null,
            "grid_area": null,
            "grid_auto_columns": null,
            "grid_auto_flow": null,
            "grid_auto_rows": null,
            "grid_column": null,
            "grid_gap": null,
            "grid_row": null,
            "grid_template_areas": null,
            "grid_template_columns": null,
            "grid_template_rows": null,
            "height": null,
            "justify_content": null,
            "justify_items": null,
            "left": null,
            "margin": null,
            "max_height": null,
            "max_width": null,
            "min_height": null,
            "min_width": null,
            "object_fit": null,
            "object_position": null,
            "order": null,
            "overflow": null,
            "overflow_x": null,
            "overflow_y": null,
            "padding": null,
            "right": null,
            "top": null,
            "visibility": null,
            "width": null
          }
        },
        "4e14b4cfe2864e5b8e50fbbb6205027b": {
          "model_module": "@jupyter-widgets/controls",
          "model_name": "DescriptionStyleModel",
          "model_module_version": "1.5.0",
          "state": {
            "_model_module": "@jupyter-widgets/controls",
            "_model_module_version": "1.5.0",
            "_model_name": "DescriptionStyleModel",
            "_view_count": null,
            "_view_module": "@jupyter-widgets/base",
            "_view_module_version": "1.2.0",
            "_view_name": "StyleView",
            "description_width": ""
          }
        }
      }
    }
  },
  "nbformat": 4,
  "nbformat_minor": 0
}